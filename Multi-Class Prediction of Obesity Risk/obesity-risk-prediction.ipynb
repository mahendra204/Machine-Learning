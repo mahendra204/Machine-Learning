{
 "cells": [
  {
   "cell_type": "code",
   "execution_count": 1,
   "id": "ae0bab0c",
   "metadata": {
    "execution": {
     "iopub.execute_input": "2024-02-07T04:43:00.301653Z",
     "iopub.status.busy": "2024-02-07T04:43:00.300805Z",
     "iopub.status.idle": "2024-02-07T04:43:01.207963Z",
     "shell.execute_reply": "2024-02-07T04:43:01.206850Z"
    },
    "papermill": {
     "duration": 0.922216,
     "end_time": "2024-02-07T04:43:01.210715",
     "exception": false,
     "start_time": "2024-02-07T04:43:00.288499",
     "status": "completed"
    },
    "tags": []
   },
   "outputs": [
    {
     "name": "stdout",
     "output_type": "stream",
     "text": [
      "/kaggle/input/playground-series-s4e2/sample_submission.csv\n",
      "/kaggle/input/playground-series-s4e2/train.csv\n",
      "/kaggle/input/playground-series-s4e2/test.csv\n"
     ]
    }
   ],
   "source": [
    "import numpy as np \n",
    "import pandas as pd \n",
    "\n",
    "import os\n",
    "for dirname, _, filenames in os.walk('/kaggle/input'):\n",
    "    for filename in filenames:\n",
    "        print(os.path.join(dirname, filename))\n"
   ]
  },
  {
   "cell_type": "code",
   "execution_count": 2,
   "id": "c741042a",
   "metadata": {
    "execution": {
     "iopub.execute_input": "2024-02-07T04:43:01.234016Z",
     "iopub.status.busy": "2024-02-07T04:43:01.233153Z",
     "iopub.status.idle": "2024-02-07T04:43:03.230610Z",
     "shell.execute_reply": "2024-02-07T04:43:03.229454Z"
    },
    "papermill": {
     "duration": 2.011247,
     "end_time": "2024-02-07T04:43:03.233203",
     "exception": false,
     "start_time": "2024-02-07T04:43:01.221956",
     "status": "completed"
    },
    "tags": []
   },
   "outputs": [],
   "source": [
    "import matplotlib.pyplot as plt\n",
    "import seaborn as sns\n",
    "from sklearn.model_selection import train_test_split\n",
    "from sklearn.ensemble import RandomForestClassifier\n",
    "from sklearn.tree import DecisionTreeClassifier\n",
    "from sklearn.linear_model import LogisticRegression\n",
    "from sklearn.preprocessing import LabelEncoder \n",
    "from sklearn.metrics import accuracy_score, precision_score, recall_score, f1_score\n",
    "from sklearn.metrics import confusion_matrix, classification_report\n",
    "from sklearn.metrics import mean_squared_error, mean_absolute_error, r2_score"
   ]
  },
  {
   "cell_type": "code",
   "execution_count": 3,
   "id": "c9fce8b1",
   "metadata": {
    "execution": {
     "iopub.execute_input": "2024-02-07T04:43:03.255116Z",
     "iopub.status.busy": "2024-02-07T04:43:03.254016Z",
     "iopub.status.idle": "2024-02-07T04:43:03.405556Z",
     "shell.execute_reply": "2024-02-07T04:43:03.404257Z"
    },
    "papermill": {
     "duration": 0.16536,
     "end_time": "2024-02-07T04:43:03.408374",
     "exception": false,
     "start_time": "2024-02-07T04:43:03.243014",
     "status": "completed"
    },
    "tags": []
   },
   "outputs": [],
   "source": [
    "train_data=pd.read_csv(\"/kaggle/input/playground-series-s4e2/train.csv\")"
   ]
  },
  {
   "cell_type": "code",
   "execution_count": 4,
   "id": "77c2e1fe",
   "metadata": {
    "execution": {
     "iopub.execute_input": "2024-02-07T04:43:03.431563Z",
     "iopub.status.busy": "2024-02-07T04:43:03.431170Z",
     "iopub.status.idle": "2024-02-07T04:43:03.469576Z",
     "shell.execute_reply": "2024-02-07T04:43:03.468430Z"
    },
    "papermill": {
     "duration": 0.053402,
     "end_time": "2024-02-07T04:43:03.471908",
     "exception": false,
     "start_time": "2024-02-07T04:43:03.418506",
     "status": "completed"
    },
    "tags": []
   },
   "outputs": [
    {
     "data": {
      "text/html": [
       "<div>\n",
       "<style scoped>\n",
       "    .dataframe tbody tr th:only-of-type {\n",
       "        vertical-align: middle;\n",
       "    }\n",
       "\n",
       "    .dataframe tbody tr th {\n",
       "        vertical-align: top;\n",
       "    }\n",
       "\n",
       "    .dataframe thead th {\n",
       "        text-align: right;\n",
       "    }\n",
       "</style>\n",
       "<table border=\"1\" class=\"dataframe\">\n",
       "  <thead>\n",
       "    <tr style=\"text-align: right;\">\n",
       "      <th></th>\n",
       "      <th>id</th>\n",
       "      <th>Gender</th>\n",
       "      <th>Age</th>\n",
       "      <th>Height</th>\n",
       "      <th>Weight</th>\n",
       "      <th>family_history_with_overweight</th>\n",
       "      <th>FAVC</th>\n",
       "      <th>FCVC</th>\n",
       "      <th>NCP</th>\n",
       "      <th>CAEC</th>\n",
       "      <th>SMOKE</th>\n",
       "      <th>CH2O</th>\n",
       "      <th>SCC</th>\n",
       "      <th>FAF</th>\n",
       "      <th>TUE</th>\n",
       "      <th>CALC</th>\n",
       "      <th>MTRANS</th>\n",
       "      <th>NObeyesdad</th>\n",
       "    </tr>\n",
       "  </thead>\n",
       "  <tbody>\n",
       "    <tr>\n",
       "      <th>0</th>\n",
       "      <td>0</td>\n",
       "      <td>Male</td>\n",
       "      <td>24.443011</td>\n",
       "      <td>1.699998</td>\n",
       "      <td>81.669950</td>\n",
       "      <td>yes</td>\n",
       "      <td>yes</td>\n",
       "      <td>2.000000</td>\n",
       "      <td>2.983297</td>\n",
       "      <td>Sometimes</td>\n",
       "      <td>no</td>\n",
       "      <td>2.763573</td>\n",
       "      <td>no</td>\n",
       "      <td>0.000000</td>\n",
       "      <td>0.976473</td>\n",
       "      <td>Sometimes</td>\n",
       "      <td>Public_Transportation</td>\n",
       "      <td>Overweight_Level_II</td>\n",
       "    </tr>\n",
       "    <tr>\n",
       "      <th>1</th>\n",
       "      <td>1</td>\n",
       "      <td>Female</td>\n",
       "      <td>18.000000</td>\n",
       "      <td>1.560000</td>\n",
       "      <td>57.000000</td>\n",
       "      <td>yes</td>\n",
       "      <td>yes</td>\n",
       "      <td>2.000000</td>\n",
       "      <td>3.000000</td>\n",
       "      <td>Frequently</td>\n",
       "      <td>no</td>\n",
       "      <td>2.000000</td>\n",
       "      <td>no</td>\n",
       "      <td>1.000000</td>\n",
       "      <td>1.000000</td>\n",
       "      <td>no</td>\n",
       "      <td>Automobile</td>\n",
       "      <td>Normal_Weight</td>\n",
       "    </tr>\n",
       "    <tr>\n",
       "      <th>2</th>\n",
       "      <td>2</td>\n",
       "      <td>Female</td>\n",
       "      <td>18.000000</td>\n",
       "      <td>1.711460</td>\n",
       "      <td>50.165754</td>\n",
       "      <td>yes</td>\n",
       "      <td>yes</td>\n",
       "      <td>1.880534</td>\n",
       "      <td>1.411685</td>\n",
       "      <td>Sometimes</td>\n",
       "      <td>no</td>\n",
       "      <td>1.910378</td>\n",
       "      <td>no</td>\n",
       "      <td>0.866045</td>\n",
       "      <td>1.673584</td>\n",
       "      <td>no</td>\n",
       "      <td>Public_Transportation</td>\n",
       "      <td>Insufficient_Weight</td>\n",
       "    </tr>\n",
       "    <tr>\n",
       "      <th>3</th>\n",
       "      <td>3</td>\n",
       "      <td>Female</td>\n",
       "      <td>20.952737</td>\n",
       "      <td>1.710730</td>\n",
       "      <td>131.274851</td>\n",
       "      <td>yes</td>\n",
       "      <td>yes</td>\n",
       "      <td>3.000000</td>\n",
       "      <td>3.000000</td>\n",
       "      <td>Sometimes</td>\n",
       "      <td>no</td>\n",
       "      <td>1.674061</td>\n",
       "      <td>no</td>\n",
       "      <td>1.467863</td>\n",
       "      <td>0.780199</td>\n",
       "      <td>Sometimes</td>\n",
       "      <td>Public_Transportation</td>\n",
       "      <td>Obesity_Type_III</td>\n",
       "    </tr>\n",
       "    <tr>\n",
       "      <th>4</th>\n",
       "      <td>4</td>\n",
       "      <td>Male</td>\n",
       "      <td>31.641081</td>\n",
       "      <td>1.914186</td>\n",
       "      <td>93.798055</td>\n",
       "      <td>yes</td>\n",
       "      <td>yes</td>\n",
       "      <td>2.679664</td>\n",
       "      <td>1.971472</td>\n",
       "      <td>Sometimes</td>\n",
       "      <td>no</td>\n",
       "      <td>1.979848</td>\n",
       "      <td>no</td>\n",
       "      <td>1.967973</td>\n",
       "      <td>0.931721</td>\n",
       "      <td>Sometimes</td>\n",
       "      <td>Public_Transportation</td>\n",
       "      <td>Overweight_Level_II</td>\n",
       "    </tr>\n",
       "    <tr>\n",
       "      <th>...</th>\n",
       "      <td>...</td>\n",
       "      <td>...</td>\n",
       "      <td>...</td>\n",
       "      <td>...</td>\n",
       "      <td>...</td>\n",
       "      <td>...</td>\n",
       "      <td>...</td>\n",
       "      <td>...</td>\n",
       "      <td>...</td>\n",
       "      <td>...</td>\n",
       "      <td>...</td>\n",
       "      <td>...</td>\n",
       "      <td>...</td>\n",
       "      <td>...</td>\n",
       "      <td>...</td>\n",
       "      <td>...</td>\n",
       "      <td>...</td>\n",
       "      <td>...</td>\n",
       "    </tr>\n",
       "    <tr>\n",
       "      <th>20753</th>\n",
       "      <td>20753</td>\n",
       "      <td>Male</td>\n",
       "      <td>25.137087</td>\n",
       "      <td>1.766626</td>\n",
       "      <td>114.187096</td>\n",
       "      <td>yes</td>\n",
       "      <td>yes</td>\n",
       "      <td>2.919584</td>\n",
       "      <td>3.000000</td>\n",
       "      <td>Sometimes</td>\n",
       "      <td>no</td>\n",
       "      <td>2.151809</td>\n",
       "      <td>no</td>\n",
       "      <td>1.330519</td>\n",
       "      <td>0.196680</td>\n",
       "      <td>Sometimes</td>\n",
       "      <td>Public_Transportation</td>\n",
       "      <td>Obesity_Type_II</td>\n",
       "    </tr>\n",
       "    <tr>\n",
       "      <th>20754</th>\n",
       "      <td>20754</td>\n",
       "      <td>Male</td>\n",
       "      <td>18.000000</td>\n",
       "      <td>1.710000</td>\n",
       "      <td>50.000000</td>\n",
       "      <td>no</td>\n",
       "      <td>yes</td>\n",
       "      <td>3.000000</td>\n",
       "      <td>4.000000</td>\n",
       "      <td>Frequently</td>\n",
       "      <td>no</td>\n",
       "      <td>1.000000</td>\n",
       "      <td>no</td>\n",
       "      <td>2.000000</td>\n",
       "      <td>1.000000</td>\n",
       "      <td>Sometimes</td>\n",
       "      <td>Public_Transportation</td>\n",
       "      <td>Insufficient_Weight</td>\n",
       "    </tr>\n",
       "    <tr>\n",
       "      <th>20755</th>\n",
       "      <td>20755</td>\n",
       "      <td>Male</td>\n",
       "      <td>20.101026</td>\n",
       "      <td>1.819557</td>\n",
       "      <td>105.580491</td>\n",
       "      <td>yes</td>\n",
       "      <td>yes</td>\n",
       "      <td>2.407817</td>\n",
       "      <td>3.000000</td>\n",
       "      <td>Sometimes</td>\n",
       "      <td>no</td>\n",
       "      <td>2.000000</td>\n",
       "      <td>no</td>\n",
       "      <td>1.158040</td>\n",
       "      <td>1.198439</td>\n",
       "      <td>no</td>\n",
       "      <td>Public_Transportation</td>\n",
       "      <td>Obesity_Type_II</td>\n",
       "    </tr>\n",
       "    <tr>\n",
       "      <th>20756</th>\n",
       "      <td>20756</td>\n",
       "      <td>Male</td>\n",
       "      <td>33.852953</td>\n",
       "      <td>1.700000</td>\n",
       "      <td>83.520113</td>\n",
       "      <td>yes</td>\n",
       "      <td>yes</td>\n",
       "      <td>2.671238</td>\n",
       "      <td>1.971472</td>\n",
       "      <td>Sometimes</td>\n",
       "      <td>no</td>\n",
       "      <td>2.144838</td>\n",
       "      <td>no</td>\n",
       "      <td>0.000000</td>\n",
       "      <td>0.973834</td>\n",
       "      <td>no</td>\n",
       "      <td>Automobile</td>\n",
       "      <td>Overweight_Level_II</td>\n",
       "    </tr>\n",
       "    <tr>\n",
       "      <th>20757</th>\n",
       "      <td>20757</td>\n",
       "      <td>Male</td>\n",
       "      <td>26.680376</td>\n",
       "      <td>1.816547</td>\n",
       "      <td>118.134898</td>\n",
       "      <td>yes</td>\n",
       "      <td>yes</td>\n",
       "      <td>3.000000</td>\n",
       "      <td>3.000000</td>\n",
       "      <td>Sometimes</td>\n",
       "      <td>no</td>\n",
       "      <td>2.003563</td>\n",
       "      <td>no</td>\n",
       "      <td>0.684487</td>\n",
       "      <td>0.713823</td>\n",
       "      <td>Sometimes</td>\n",
       "      <td>Public_Transportation</td>\n",
       "      <td>Obesity_Type_II</td>\n",
       "    </tr>\n",
       "  </tbody>\n",
       "</table>\n",
       "<p>20758 rows × 18 columns</p>\n",
       "</div>"
      ],
      "text/plain": [
       "          id  Gender        Age    Height      Weight  \\\n",
       "0          0    Male  24.443011  1.699998   81.669950   \n",
       "1          1  Female  18.000000  1.560000   57.000000   \n",
       "2          2  Female  18.000000  1.711460   50.165754   \n",
       "3          3  Female  20.952737  1.710730  131.274851   \n",
       "4          4    Male  31.641081  1.914186   93.798055   \n",
       "...      ...     ...        ...       ...         ...   \n",
       "20753  20753    Male  25.137087  1.766626  114.187096   \n",
       "20754  20754    Male  18.000000  1.710000   50.000000   \n",
       "20755  20755    Male  20.101026  1.819557  105.580491   \n",
       "20756  20756    Male  33.852953  1.700000   83.520113   \n",
       "20757  20757    Male  26.680376  1.816547  118.134898   \n",
       "\n",
       "      family_history_with_overweight FAVC      FCVC       NCP        CAEC  \\\n",
       "0                                yes  yes  2.000000  2.983297   Sometimes   \n",
       "1                                yes  yes  2.000000  3.000000  Frequently   \n",
       "2                                yes  yes  1.880534  1.411685   Sometimes   \n",
       "3                                yes  yes  3.000000  3.000000   Sometimes   \n",
       "4                                yes  yes  2.679664  1.971472   Sometimes   \n",
       "...                              ...  ...       ...       ...         ...   \n",
       "20753                            yes  yes  2.919584  3.000000   Sometimes   \n",
       "20754                             no  yes  3.000000  4.000000  Frequently   \n",
       "20755                            yes  yes  2.407817  3.000000   Sometimes   \n",
       "20756                            yes  yes  2.671238  1.971472   Sometimes   \n",
       "20757                            yes  yes  3.000000  3.000000   Sometimes   \n",
       "\n",
       "      SMOKE      CH2O SCC       FAF       TUE       CALC  \\\n",
       "0        no  2.763573  no  0.000000  0.976473  Sometimes   \n",
       "1        no  2.000000  no  1.000000  1.000000         no   \n",
       "2        no  1.910378  no  0.866045  1.673584         no   \n",
       "3        no  1.674061  no  1.467863  0.780199  Sometimes   \n",
       "4        no  1.979848  no  1.967973  0.931721  Sometimes   \n",
       "...     ...       ...  ..       ...       ...        ...   \n",
       "20753    no  2.151809  no  1.330519  0.196680  Sometimes   \n",
       "20754    no  1.000000  no  2.000000  1.000000  Sometimes   \n",
       "20755    no  2.000000  no  1.158040  1.198439         no   \n",
       "20756    no  2.144838  no  0.000000  0.973834         no   \n",
       "20757    no  2.003563  no  0.684487  0.713823  Sometimes   \n",
       "\n",
       "                      MTRANS           NObeyesdad  \n",
       "0      Public_Transportation  Overweight_Level_II  \n",
       "1                 Automobile        Normal_Weight  \n",
       "2      Public_Transportation  Insufficient_Weight  \n",
       "3      Public_Transportation     Obesity_Type_III  \n",
       "4      Public_Transportation  Overweight_Level_II  \n",
       "...                      ...                  ...  \n",
       "20753  Public_Transportation      Obesity_Type_II  \n",
       "20754  Public_Transportation  Insufficient_Weight  \n",
       "20755  Public_Transportation      Obesity_Type_II  \n",
       "20756             Automobile  Overweight_Level_II  \n",
       "20757  Public_Transportation      Obesity_Type_II  \n",
       "\n",
       "[20758 rows x 18 columns]"
      ]
     },
     "execution_count": 4,
     "metadata": {},
     "output_type": "execute_result"
    }
   ],
   "source": [
    "train_data"
   ]
  },
  {
   "cell_type": "code",
   "execution_count": 5,
   "id": "1eb309a2",
   "metadata": {
    "execution": {
     "iopub.execute_input": "2024-02-07T04:43:03.494205Z",
     "iopub.status.busy": "2024-02-07T04:43:03.493797Z",
     "iopub.status.idle": "2024-02-07T04:43:03.515443Z",
     "shell.execute_reply": "2024-02-07T04:43:03.514339Z"
    },
    "papermill": {
     "duration": 0.035631,
     "end_time": "2024-02-07T04:43:03.517736",
     "exception": false,
     "start_time": "2024-02-07T04:43:03.482105",
     "status": "completed"
    },
    "tags": []
   },
   "outputs": [
    {
     "data": {
      "text/html": [
       "<div>\n",
       "<style scoped>\n",
       "    .dataframe tbody tr th:only-of-type {\n",
       "        vertical-align: middle;\n",
       "    }\n",
       "\n",
       "    .dataframe tbody tr th {\n",
       "        vertical-align: top;\n",
       "    }\n",
       "\n",
       "    .dataframe thead th {\n",
       "        text-align: right;\n",
       "    }\n",
       "</style>\n",
       "<table border=\"1\" class=\"dataframe\">\n",
       "  <thead>\n",
       "    <tr style=\"text-align: right;\">\n",
       "      <th></th>\n",
       "      <th>id</th>\n",
       "      <th>Gender</th>\n",
       "      <th>Age</th>\n",
       "      <th>Height</th>\n",
       "      <th>Weight</th>\n",
       "      <th>family_history_with_overweight</th>\n",
       "      <th>FAVC</th>\n",
       "      <th>FCVC</th>\n",
       "      <th>NCP</th>\n",
       "      <th>CAEC</th>\n",
       "      <th>SMOKE</th>\n",
       "      <th>CH2O</th>\n",
       "      <th>SCC</th>\n",
       "      <th>FAF</th>\n",
       "      <th>TUE</th>\n",
       "      <th>CALC</th>\n",
       "      <th>MTRANS</th>\n",
       "      <th>NObeyesdad</th>\n",
       "    </tr>\n",
       "  </thead>\n",
       "  <tbody>\n",
       "    <tr>\n",
       "      <th>0</th>\n",
       "      <td>0</td>\n",
       "      <td>Male</td>\n",
       "      <td>24.443011</td>\n",
       "      <td>1.699998</td>\n",
       "      <td>81.669950</td>\n",
       "      <td>yes</td>\n",
       "      <td>yes</td>\n",
       "      <td>2.000000</td>\n",
       "      <td>2.983297</td>\n",
       "      <td>Sometimes</td>\n",
       "      <td>no</td>\n",
       "      <td>2.763573</td>\n",
       "      <td>no</td>\n",
       "      <td>0.000000</td>\n",
       "      <td>0.976473</td>\n",
       "      <td>Sometimes</td>\n",
       "      <td>Public_Transportation</td>\n",
       "      <td>Overweight_Level_II</td>\n",
       "    </tr>\n",
       "    <tr>\n",
       "      <th>1</th>\n",
       "      <td>1</td>\n",
       "      <td>Female</td>\n",
       "      <td>18.000000</td>\n",
       "      <td>1.560000</td>\n",
       "      <td>57.000000</td>\n",
       "      <td>yes</td>\n",
       "      <td>yes</td>\n",
       "      <td>2.000000</td>\n",
       "      <td>3.000000</td>\n",
       "      <td>Frequently</td>\n",
       "      <td>no</td>\n",
       "      <td>2.000000</td>\n",
       "      <td>no</td>\n",
       "      <td>1.000000</td>\n",
       "      <td>1.000000</td>\n",
       "      <td>no</td>\n",
       "      <td>Automobile</td>\n",
       "      <td>Normal_Weight</td>\n",
       "    </tr>\n",
       "    <tr>\n",
       "      <th>2</th>\n",
       "      <td>2</td>\n",
       "      <td>Female</td>\n",
       "      <td>18.000000</td>\n",
       "      <td>1.711460</td>\n",
       "      <td>50.165754</td>\n",
       "      <td>yes</td>\n",
       "      <td>yes</td>\n",
       "      <td>1.880534</td>\n",
       "      <td>1.411685</td>\n",
       "      <td>Sometimes</td>\n",
       "      <td>no</td>\n",
       "      <td>1.910378</td>\n",
       "      <td>no</td>\n",
       "      <td>0.866045</td>\n",
       "      <td>1.673584</td>\n",
       "      <td>no</td>\n",
       "      <td>Public_Transportation</td>\n",
       "      <td>Insufficient_Weight</td>\n",
       "    </tr>\n",
       "    <tr>\n",
       "      <th>3</th>\n",
       "      <td>3</td>\n",
       "      <td>Female</td>\n",
       "      <td>20.952737</td>\n",
       "      <td>1.710730</td>\n",
       "      <td>131.274851</td>\n",
       "      <td>yes</td>\n",
       "      <td>yes</td>\n",
       "      <td>3.000000</td>\n",
       "      <td>3.000000</td>\n",
       "      <td>Sometimes</td>\n",
       "      <td>no</td>\n",
       "      <td>1.674061</td>\n",
       "      <td>no</td>\n",
       "      <td>1.467863</td>\n",
       "      <td>0.780199</td>\n",
       "      <td>Sometimes</td>\n",
       "      <td>Public_Transportation</td>\n",
       "      <td>Obesity_Type_III</td>\n",
       "    </tr>\n",
       "    <tr>\n",
       "      <th>4</th>\n",
       "      <td>4</td>\n",
       "      <td>Male</td>\n",
       "      <td>31.641081</td>\n",
       "      <td>1.914186</td>\n",
       "      <td>93.798055</td>\n",
       "      <td>yes</td>\n",
       "      <td>yes</td>\n",
       "      <td>2.679664</td>\n",
       "      <td>1.971472</td>\n",
       "      <td>Sometimes</td>\n",
       "      <td>no</td>\n",
       "      <td>1.979848</td>\n",
       "      <td>no</td>\n",
       "      <td>1.967973</td>\n",
       "      <td>0.931721</td>\n",
       "      <td>Sometimes</td>\n",
       "      <td>Public_Transportation</td>\n",
       "      <td>Overweight_Level_II</td>\n",
       "    </tr>\n",
       "  </tbody>\n",
       "</table>\n",
       "</div>"
      ],
      "text/plain": [
       "   id  Gender        Age    Height      Weight family_history_with_overweight  \\\n",
       "0   0    Male  24.443011  1.699998   81.669950                            yes   \n",
       "1   1  Female  18.000000  1.560000   57.000000                            yes   \n",
       "2   2  Female  18.000000  1.711460   50.165754                            yes   \n",
       "3   3  Female  20.952737  1.710730  131.274851                            yes   \n",
       "4   4    Male  31.641081  1.914186   93.798055                            yes   \n",
       "\n",
       "  FAVC      FCVC       NCP        CAEC SMOKE      CH2O SCC       FAF  \\\n",
       "0  yes  2.000000  2.983297   Sometimes    no  2.763573  no  0.000000   \n",
       "1  yes  2.000000  3.000000  Frequently    no  2.000000  no  1.000000   \n",
       "2  yes  1.880534  1.411685   Sometimes    no  1.910378  no  0.866045   \n",
       "3  yes  3.000000  3.000000   Sometimes    no  1.674061  no  1.467863   \n",
       "4  yes  2.679664  1.971472   Sometimes    no  1.979848  no  1.967973   \n",
       "\n",
       "        TUE       CALC                 MTRANS           NObeyesdad  \n",
       "0  0.976473  Sometimes  Public_Transportation  Overweight_Level_II  \n",
       "1  1.000000         no             Automobile        Normal_Weight  \n",
       "2  1.673584         no  Public_Transportation  Insufficient_Weight  \n",
       "3  0.780199  Sometimes  Public_Transportation     Obesity_Type_III  \n",
       "4  0.931721  Sometimes  Public_Transportation  Overweight_Level_II  "
      ]
     },
     "execution_count": 5,
     "metadata": {},
     "output_type": "execute_result"
    }
   ],
   "source": [
    "train_data.head()"
   ]
  },
  {
   "cell_type": "code",
   "execution_count": 6,
   "id": "66926e41",
   "metadata": {
    "execution": {
     "iopub.execute_input": "2024-02-07T04:43:03.540735Z",
     "iopub.status.busy": "2024-02-07T04:43:03.540324Z",
     "iopub.status.idle": "2024-02-07T04:43:03.576362Z",
     "shell.execute_reply": "2024-02-07T04:43:03.575163Z"
    },
    "papermill": {
     "duration": 0.050427,
     "end_time": "2024-02-07T04:43:03.578919",
     "exception": false,
     "start_time": "2024-02-07T04:43:03.528492",
     "status": "completed"
    },
    "tags": []
   },
   "outputs": [
    {
     "name": "stdout",
     "output_type": "stream",
     "text": [
      "<class 'pandas.core.frame.DataFrame'>\n",
      "RangeIndex: 20758 entries, 0 to 20757\n",
      "Data columns (total 18 columns):\n",
      " #   Column                          Non-Null Count  Dtype  \n",
      "---  ------                          --------------  -----  \n",
      " 0   id                              20758 non-null  int64  \n",
      " 1   Gender                          20758 non-null  object \n",
      " 2   Age                             20758 non-null  float64\n",
      " 3   Height                          20758 non-null  float64\n",
      " 4   Weight                          20758 non-null  float64\n",
      " 5   family_history_with_overweight  20758 non-null  object \n",
      " 6   FAVC                            20758 non-null  object \n",
      " 7   FCVC                            20758 non-null  float64\n",
      " 8   NCP                             20758 non-null  float64\n",
      " 9   CAEC                            20758 non-null  object \n",
      " 10  SMOKE                           20758 non-null  object \n",
      " 11  CH2O                            20758 non-null  float64\n",
      " 12  SCC                             20758 non-null  object \n",
      " 13  FAF                             20758 non-null  float64\n",
      " 14  TUE                             20758 non-null  float64\n",
      " 15  CALC                            20758 non-null  object \n",
      " 16  MTRANS                          20758 non-null  object \n",
      " 17  NObeyesdad                      20758 non-null  object \n",
      "dtypes: float64(8), int64(1), object(9)\n",
      "memory usage: 2.9+ MB\n"
     ]
    }
   ],
   "source": [
    "train_data.info()"
   ]
  },
  {
   "cell_type": "code",
   "execution_count": 7,
   "id": "cd6aa38d",
   "metadata": {
    "execution": {
     "iopub.execute_input": "2024-02-07T04:43:03.603188Z",
     "iopub.status.busy": "2024-02-07T04:43:03.602809Z",
     "iopub.status.idle": "2024-02-07T04:43:03.609715Z",
     "shell.execute_reply": "2024-02-07T04:43:03.608639Z"
    },
    "papermill": {
     "duration": 0.022266,
     "end_time": "2024-02-07T04:43:03.611927",
     "exception": false,
     "start_time": "2024-02-07T04:43:03.589661",
     "status": "completed"
    },
    "tags": []
   },
   "outputs": [
    {
     "data": {
      "text/plain": [
       "(20758, 18)"
      ]
     },
     "execution_count": 7,
     "metadata": {},
     "output_type": "execute_result"
    }
   ],
   "source": [
    "train_data.shape"
   ]
  },
  {
   "cell_type": "code",
   "execution_count": 8,
   "id": "157bdf72",
   "metadata": {
    "execution": {
     "iopub.execute_input": "2024-02-07T04:43:03.636254Z",
     "iopub.status.busy": "2024-02-07T04:43:03.635830Z",
     "iopub.status.idle": "2024-02-07T04:43:03.643588Z",
     "shell.execute_reply": "2024-02-07T04:43:03.642485Z"
    },
    "papermill": {
     "duration": 0.022761,
     "end_time": "2024-02-07T04:43:03.645866",
     "exception": false,
     "start_time": "2024-02-07T04:43:03.623105",
     "status": "completed"
    },
    "tags": []
   },
   "outputs": [
    {
     "data": {
      "text/plain": [
       "Index(['id', 'Gender', 'Age', 'Height', 'Weight',\n",
       "       'family_history_with_overweight', 'FAVC', 'FCVC', 'NCP', 'CAEC',\n",
       "       'SMOKE', 'CH2O', 'SCC', 'FAF', 'TUE', 'CALC', 'MTRANS', 'NObeyesdad'],\n",
       "      dtype='object')"
      ]
     },
     "execution_count": 8,
     "metadata": {},
     "output_type": "execute_result"
    }
   ],
   "source": [
    "train_data.columns"
   ]
  },
  {
   "cell_type": "code",
   "execution_count": 9,
   "id": "da2f0ddf",
   "metadata": {
    "execution": {
     "iopub.execute_input": "2024-02-07T04:43:03.670196Z",
     "iopub.status.busy": "2024-02-07T04:43:03.669771Z",
     "iopub.status.idle": "2024-02-07T04:43:03.712534Z",
     "shell.execute_reply": "2024-02-07T04:43:03.711437Z"
    },
    "papermill": {
     "duration": 0.058159,
     "end_time": "2024-02-07T04:43:03.715442",
     "exception": false,
     "start_time": "2024-02-07T04:43:03.657283",
     "status": "completed"
    },
    "tags": []
   },
   "outputs": [
    {
     "data": {
      "text/html": [
       "<div>\n",
       "<style scoped>\n",
       "    .dataframe tbody tr th:only-of-type {\n",
       "        vertical-align: middle;\n",
       "    }\n",
       "\n",
       "    .dataframe tbody tr th {\n",
       "        vertical-align: top;\n",
       "    }\n",
       "\n",
       "    .dataframe thead th {\n",
       "        text-align: right;\n",
       "    }\n",
       "</style>\n",
       "<table border=\"1\" class=\"dataframe\">\n",
       "  <thead>\n",
       "    <tr style=\"text-align: right;\">\n",
       "      <th></th>\n",
       "      <th>id</th>\n",
       "      <th>Age</th>\n",
       "      <th>Height</th>\n",
       "      <th>Weight</th>\n",
       "      <th>FCVC</th>\n",
       "      <th>NCP</th>\n",
       "      <th>CH2O</th>\n",
       "      <th>FAF</th>\n",
       "      <th>TUE</th>\n",
       "    </tr>\n",
       "  </thead>\n",
       "  <tbody>\n",
       "    <tr>\n",
       "      <th>count</th>\n",
       "      <td>20758.00000</td>\n",
       "      <td>20758.000000</td>\n",
       "      <td>20758.000000</td>\n",
       "      <td>20758.000000</td>\n",
       "      <td>20758.000000</td>\n",
       "      <td>20758.000000</td>\n",
       "      <td>20758.000000</td>\n",
       "      <td>20758.000000</td>\n",
       "      <td>20758.000000</td>\n",
       "    </tr>\n",
       "    <tr>\n",
       "      <th>mean</th>\n",
       "      <td>10378.50000</td>\n",
       "      <td>23.841804</td>\n",
       "      <td>1.700245</td>\n",
       "      <td>87.887768</td>\n",
       "      <td>2.445908</td>\n",
       "      <td>2.761332</td>\n",
       "      <td>2.029418</td>\n",
       "      <td>0.981747</td>\n",
       "      <td>0.616756</td>\n",
       "    </tr>\n",
       "    <tr>\n",
       "      <th>std</th>\n",
       "      <td>5992.46278</td>\n",
       "      <td>5.688072</td>\n",
       "      <td>0.087312</td>\n",
       "      <td>26.379443</td>\n",
       "      <td>0.533218</td>\n",
       "      <td>0.705375</td>\n",
       "      <td>0.608467</td>\n",
       "      <td>0.838302</td>\n",
       "      <td>0.602113</td>\n",
       "    </tr>\n",
       "    <tr>\n",
       "      <th>min</th>\n",
       "      <td>0.00000</td>\n",
       "      <td>14.000000</td>\n",
       "      <td>1.450000</td>\n",
       "      <td>39.000000</td>\n",
       "      <td>1.000000</td>\n",
       "      <td>1.000000</td>\n",
       "      <td>1.000000</td>\n",
       "      <td>0.000000</td>\n",
       "      <td>0.000000</td>\n",
       "    </tr>\n",
       "    <tr>\n",
       "      <th>25%</th>\n",
       "      <td>5189.25000</td>\n",
       "      <td>20.000000</td>\n",
       "      <td>1.631856</td>\n",
       "      <td>66.000000</td>\n",
       "      <td>2.000000</td>\n",
       "      <td>3.000000</td>\n",
       "      <td>1.792022</td>\n",
       "      <td>0.008013</td>\n",
       "      <td>0.000000</td>\n",
       "    </tr>\n",
       "    <tr>\n",
       "      <th>50%</th>\n",
       "      <td>10378.50000</td>\n",
       "      <td>22.815416</td>\n",
       "      <td>1.700000</td>\n",
       "      <td>84.064875</td>\n",
       "      <td>2.393837</td>\n",
       "      <td>3.000000</td>\n",
       "      <td>2.000000</td>\n",
       "      <td>1.000000</td>\n",
       "      <td>0.573887</td>\n",
       "    </tr>\n",
       "    <tr>\n",
       "      <th>75%</th>\n",
       "      <td>15567.75000</td>\n",
       "      <td>26.000000</td>\n",
       "      <td>1.762887</td>\n",
       "      <td>111.600553</td>\n",
       "      <td>3.000000</td>\n",
       "      <td>3.000000</td>\n",
       "      <td>2.549617</td>\n",
       "      <td>1.587406</td>\n",
       "      <td>1.000000</td>\n",
       "    </tr>\n",
       "    <tr>\n",
       "      <th>max</th>\n",
       "      <td>20757.00000</td>\n",
       "      <td>61.000000</td>\n",
       "      <td>1.975663</td>\n",
       "      <td>165.057269</td>\n",
       "      <td>3.000000</td>\n",
       "      <td>4.000000</td>\n",
       "      <td>3.000000</td>\n",
       "      <td>3.000000</td>\n",
       "      <td>2.000000</td>\n",
       "    </tr>\n",
       "  </tbody>\n",
       "</table>\n",
       "</div>"
      ],
      "text/plain": [
       "                id           Age        Height        Weight          FCVC  \\\n",
       "count  20758.00000  20758.000000  20758.000000  20758.000000  20758.000000   \n",
       "mean   10378.50000     23.841804      1.700245     87.887768      2.445908   \n",
       "std     5992.46278      5.688072      0.087312     26.379443      0.533218   \n",
       "min        0.00000     14.000000      1.450000     39.000000      1.000000   \n",
       "25%     5189.25000     20.000000      1.631856     66.000000      2.000000   \n",
       "50%    10378.50000     22.815416      1.700000     84.064875      2.393837   \n",
       "75%    15567.75000     26.000000      1.762887    111.600553      3.000000   \n",
       "max    20757.00000     61.000000      1.975663    165.057269      3.000000   \n",
       "\n",
       "                NCP          CH2O           FAF           TUE  \n",
       "count  20758.000000  20758.000000  20758.000000  20758.000000  \n",
       "mean       2.761332      2.029418      0.981747      0.616756  \n",
       "std        0.705375      0.608467      0.838302      0.602113  \n",
       "min        1.000000      1.000000      0.000000      0.000000  \n",
       "25%        3.000000      1.792022      0.008013      0.000000  \n",
       "50%        3.000000      2.000000      1.000000      0.573887  \n",
       "75%        3.000000      2.549617      1.587406      1.000000  \n",
       "max        4.000000      3.000000      3.000000      2.000000  "
      ]
     },
     "execution_count": 9,
     "metadata": {},
     "output_type": "execute_result"
    }
   ],
   "source": [
    "train_data.describe()"
   ]
  },
  {
   "cell_type": "code",
   "execution_count": 10,
   "id": "cefeff89",
   "metadata": {
    "execution": {
     "iopub.execute_input": "2024-02-07T04:43:03.740388Z",
     "iopub.status.busy": "2024-02-07T04:43:03.739979Z",
     "iopub.status.idle": "2024-02-07T04:43:03.758804Z",
     "shell.execute_reply": "2024-02-07T04:43:03.757611Z"
    },
    "papermill": {
     "duration": 0.03432,
     "end_time": "2024-02-07T04:43:03.761197",
     "exception": false,
     "start_time": "2024-02-07T04:43:03.726877",
     "status": "completed"
    },
    "tags": []
   },
   "outputs": [
    {
     "data": {
      "text/plain": [
       "id                                0\n",
       "Gender                            0\n",
       "Age                               0\n",
       "Height                            0\n",
       "Weight                            0\n",
       "family_history_with_overweight    0\n",
       "FAVC                              0\n",
       "FCVC                              0\n",
       "NCP                               0\n",
       "CAEC                              0\n",
       "SMOKE                             0\n",
       "CH2O                              0\n",
       "SCC                               0\n",
       "FAF                               0\n",
       "TUE                               0\n",
       "CALC                              0\n",
       "MTRANS                            0\n",
       "NObeyesdad                        0\n",
       "dtype: int64"
      ]
     },
     "execution_count": 10,
     "metadata": {},
     "output_type": "execute_result"
    }
   ],
   "source": [
    "train_data.isnull().sum()"
   ]
  },
  {
   "cell_type": "code",
   "execution_count": 11,
   "id": "4b210a3c",
   "metadata": {
    "execution": {
     "iopub.execute_input": "2024-02-07T04:43:03.785906Z",
     "iopub.status.busy": "2024-02-07T04:43:03.785446Z",
     "iopub.status.idle": "2024-02-07T04:43:03.789676Z",
     "shell.execute_reply": "2024-02-07T04:43:03.788842Z"
    },
    "papermill": {
     "duration": 0.019077,
     "end_time": "2024-02-07T04:43:03.791703",
     "exception": false,
     "start_time": "2024-02-07T04:43:03.772626",
     "status": "completed"
    },
    "tags": []
   },
   "outputs": [],
   "source": [
    "features=['Age', 'Height', 'Weight', 'FCVC', 'NCP', 'CH2O', 'FAF', 'TUE']"
   ]
  },
  {
   "cell_type": "code",
   "execution_count": 12,
   "id": "fb049968",
   "metadata": {
    "execution": {
     "iopub.execute_input": "2024-02-07T04:43:03.816121Z",
     "iopub.status.busy": "2024-02-07T04:43:03.815472Z",
     "iopub.status.idle": "2024-02-07T04:43:03.820965Z",
     "shell.execute_reply": "2024-02-07T04:43:03.819846Z"
    },
    "papermill": {
     "duration": 0.019998,
     "end_time": "2024-02-07T04:43:03.823083",
     "exception": false,
     "start_time": "2024-02-07T04:43:03.803085",
     "status": "completed"
    },
    "tags": []
   },
   "outputs": [],
   "source": [
    "ytrain_data=train_data['NObeyesdad']"
   ]
  },
  {
   "cell_type": "code",
   "execution_count": 13,
   "id": "60c0496c",
   "metadata": {
    "execution": {
     "iopub.execute_input": "2024-02-07T04:43:03.847372Z",
     "iopub.status.busy": "2024-02-07T04:43:03.846946Z",
     "iopub.status.idle": "2024-02-07T04:43:03.856079Z",
     "shell.execute_reply": "2024-02-07T04:43:03.854798Z"
    },
    "papermill": {
     "duration": 0.024034,
     "end_time": "2024-02-07T04:43:03.858384",
     "exception": false,
     "start_time": "2024-02-07T04:43:03.834350",
     "status": "completed"
    },
    "tags": []
   },
   "outputs": [
    {
     "data": {
      "text/plain": [
       "0        Overweight_Level_II\n",
       "1              Normal_Weight\n",
       "2        Insufficient_Weight\n",
       "3           Obesity_Type_III\n",
       "4        Overweight_Level_II\n",
       "                ...         \n",
       "20753        Obesity_Type_II\n",
       "20754    Insufficient_Weight\n",
       "20755        Obesity_Type_II\n",
       "20756    Overweight_Level_II\n",
       "20757        Obesity_Type_II\n",
       "Name: NObeyesdad, Length: 20758, dtype: object"
      ]
     },
     "execution_count": 13,
     "metadata": {},
     "output_type": "execute_result"
    }
   ],
   "source": [
    "ytrain_data"
   ]
  },
  {
   "cell_type": "code",
   "execution_count": 14,
   "id": "98494b47",
   "metadata": {
    "execution": {
     "iopub.execute_input": "2024-02-07T04:43:03.884201Z",
     "iopub.status.busy": "2024-02-07T04:43:03.883812Z",
     "iopub.status.idle": "2024-02-07T04:43:03.890665Z",
     "shell.execute_reply": "2024-02-07T04:43:03.888956Z"
    },
    "papermill": {
     "duration": 0.023681,
     "end_time": "2024-02-07T04:43:03.894414",
     "exception": false,
     "start_time": "2024-02-07T04:43:03.870733",
     "status": "completed"
    },
    "tags": []
   },
   "outputs": [],
   "source": [
    "train_df=train_data[features]"
   ]
  },
  {
   "cell_type": "code",
   "execution_count": 15,
   "id": "412b592a",
   "metadata": {
    "execution": {
     "iopub.execute_input": "2024-02-07T04:43:03.920000Z",
     "iopub.status.busy": "2024-02-07T04:43:03.918693Z",
     "iopub.status.idle": "2024-02-07T04:43:03.925504Z",
     "shell.execute_reply": "2024-02-07T04:43:03.924382Z"
    },
    "papermill": {
     "duration": 0.021918,
     "end_time": "2024-02-07T04:43:03.927898",
     "exception": false,
     "start_time": "2024-02-07T04:43:03.905980",
     "status": "completed"
    },
    "tags": []
   },
   "outputs": [
    {
     "data": {
      "text/plain": [
       "(20758, 8)"
      ]
     },
     "execution_count": 15,
     "metadata": {},
     "output_type": "execute_result"
    }
   ],
   "source": [
    "train_df.shape"
   ]
  },
  {
   "cell_type": "code",
   "execution_count": 16,
   "id": "29765518",
   "metadata": {
    "execution": {
     "iopub.execute_input": "2024-02-07T04:43:03.953116Z",
     "iopub.status.busy": "2024-02-07T04:43:03.952662Z",
     "iopub.status.idle": "2024-02-07T04:43:03.958371Z",
     "shell.execute_reply": "2024-02-07T04:43:03.957586Z"
    },
    "papermill": {
     "duration": 0.020733,
     "end_time": "2024-02-07T04:43:03.960478",
     "exception": false,
     "start_time": "2024-02-07T04:43:03.939745",
     "status": "completed"
    },
    "tags": []
   },
   "outputs": [
    {
     "data": {
      "text/plain": [
       "(20758,)"
      ]
     },
     "execution_count": 16,
     "metadata": {},
     "output_type": "execute_result"
    }
   ],
   "source": [
    "ytrain_data.shape"
   ]
  },
  {
   "cell_type": "code",
   "execution_count": 17,
   "id": "45a2422e",
   "metadata": {
    "execution": {
     "iopub.execute_input": "2024-02-07T04:43:03.986608Z",
     "iopub.status.busy": "2024-02-07T04:43:03.985559Z",
     "iopub.status.idle": "2024-02-07T04:43:03.994320Z",
     "shell.execute_reply": "2024-02-07T04:43:03.993382Z"
    },
    "papermill": {
     "duration": 0.024771,
     "end_time": "2024-02-07T04:43:03.996908",
     "exception": false,
     "start_time": "2024-02-07T04:43:03.972137",
     "status": "completed"
    },
    "tags": []
   },
   "outputs": [],
   "source": [
    "xtrain,xval,ytrain,yval=train_test_split(train_df,ytrain_data,test_size=0.2, random_state=1)"
   ]
  },
  {
   "cell_type": "code",
   "execution_count": 18,
   "id": "ad985170",
   "metadata": {
    "execution": {
     "iopub.execute_input": "2024-02-07T04:43:04.022948Z",
     "iopub.status.busy": "2024-02-07T04:43:04.021679Z",
     "iopub.status.idle": "2024-02-07T04:43:04.028164Z",
     "shell.execute_reply": "2024-02-07T04:43:04.026766Z"
    },
    "papermill": {
     "duration": 0.021833,
     "end_time": "2024-02-07T04:43:04.030511",
     "exception": false,
     "start_time": "2024-02-07T04:43:04.008678",
     "status": "completed"
    },
    "tags": []
   },
   "outputs": [
    {
     "name": "stdout",
     "output_type": "stream",
     "text": [
      "(16606, 8)\n",
      "(4152, 8)\n",
      "(16606,)\n",
      "(4152,)\n"
     ]
    }
   ],
   "source": [
    "print(xtrain.shape)\n",
    "print(xval.shape)\n",
    "print(ytrain.shape)\n",
    "print(yval.shape)"
   ]
  },
  {
   "cell_type": "code",
   "execution_count": 19,
   "id": "54100f3d",
   "metadata": {
    "execution": {
     "iopub.execute_input": "2024-02-07T04:43:04.056416Z",
     "iopub.status.busy": "2024-02-07T04:43:04.055330Z",
     "iopub.status.idle": "2024-02-07T04:43:04.061039Z",
     "shell.execute_reply": "2024-02-07T04:43:04.060144Z"
    },
    "papermill": {
     "duration": 0.021112,
     "end_time": "2024-02-07T04:43:04.063397",
     "exception": false,
     "start_time": "2024-02-07T04:43:04.042285",
     "status": "completed"
    },
    "tags": []
   },
   "outputs": [],
   "source": [
    "model=RandomForestClassifier(n_estimators=100, random_state=42)\n",
    "model1=DecisionTreeClassifier(max_depth=3, random_state=1)\n",
    "model2=LogisticRegression()"
   ]
  },
  {
   "cell_type": "code",
   "execution_count": 20,
   "id": "71116414",
   "metadata": {
    "execution": {
     "iopub.execute_input": "2024-02-07T04:43:04.090191Z",
     "iopub.status.busy": "2024-02-07T04:43:04.089385Z",
     "iopub.status.idle": "2024-02-07T04:43:04.099802Z",
     "shell.execute_reply": "2024-02-07T04:43:04.098503Z"
    },
    "papermill": {
     "duration": 0.026617,
     "end_time": "2024-02-07T04:43:04.102265",
     "exception": false,
     "start_time": "2024-02-07T04:43:04.075648",
     "status": "completed"
    },
    "tags": []
   },
   "outputs": [
    {
     "data": {
      "text/html": [
       "<style>#sk-container-id-1 {color: black;background-color: white;}#sk-container-id-1 pre{padding: 0;}#sk-container-id-1 div.sk-toggleable {background-color: white;}#sk-container-id-1 label.sk-toggleable__label {cursor: pointer;display: block;width: 100%;margin-bottom: 0;padding: 0.3em;box-sizing: border-box;text-align: center;}#sk-container-id-1 label.sk-toggleable__label-arrow:before {content: \"▸\";float: left;margin-right: 0.25em;color: #696969;}#sk-container-id-1 label.sk-toggleable__label-arrow:hover:before {color: black;}#sk-container-id-1 div.sk-estimator:hover label.sk-toggleable__label-arrow:before {color: black;}#sk-container-id-1 div.sk-toggleable__content {max-height: 0;max-width: 0;overflow: hidden;text-align: left;background-color: #f0f8ff;}#sk-container-id-1 div.sk-toggleable__content pre {margin: 0.2em;color: black;border-radius: 0.25em;background-color: #f0f8ff;}#sk-container-id-1 input.sk-toggleable__control:checked~div.sk-toggleable__content {max-height: 200px;max-width: 100%;overflow: auto;}#sk-container-id-1 input.sk-toggleable__control:checked~label.sk-toggleable__label-arrow:before {content: \"▾\";}#sk-container-id-1 div.sk-estimator input.sk-toggleable__control:checked~label.sk-toggleable__label {background-color: #d4ebff;}#sk-container-id-1 div.sk-label input.sk-toggleable__control:checked~label.sk-toggleable__label {background-color: #d4ebff;}#sk-container-id-1 input.sk-hidden--visually {border: 0;clip: rect(1px 1px 1px 1px);clip: rect(1px, 1px, 1px, 1px);height: 1px;margin: -1px;overflow: hidden;padding: 0;position: absolute;width: 1px;}#sk-container-id-1 div.sk-estimator {font-family: monospace;background-color: #f0f8ff;border: 1px dotted black;border-radius: 0.25em;box-sizing: border-box;margin-bottom: 0.5em;}#sk-container-id-1 div.sk-estimator:hover {background-color: #d4ebff;}#sk-container-id-1 div.sk-parallel-item::after {content: \"\";width: 100%;border-bottom: 1px solid gray;flex-grow: 1;}#sk-container-id-1 div.sk-label:hover label.sk-toggleable__label {background-color: #d4ebff;}#sk-container-id-1 div.sk-serial::before {content: \"\";position: absolute;border-left: 1px solid gray;box-sizing: border-box;top: 0;bottom: 0;left: 50%;z-index: 0;}#sk-container-id-1 div.sk-serial {display: flex;flex-direction: column;align-items: center;background-color: white;padding-right: 0.2em;padding-left: 0.2em;position: relative;}#sk-container-id-1 div.sk-item {position: relative;z-index: 1;}#sk-container-id-1 div.sk-parallel {display: flex;align-items: stretch;justify-content: center;background-color: white;position: relative;}#sk-container-id-1 div.sk-item::before, #sk-container-id-1 div.sk-parallel-item::before {content: \"\";position: absolute;border-left: 1px solid gray;box-sizing: border-box;top: 0;bottom: 0;left: 50%;z-index: -1;}#sk-container-id-1 div.sk-parallel-item {display: flex;flex-direction: column;z-index: 1;position: relative;background-color: white;}#sk-container-id-1 div.sk-parallel-item:first-child::after {align-self: flex-end;width: 50%;}#sk-container-id-1 div.sk-parallel-item:last-child::after {align-self: flex-start;width: 50%;}#sk-container-id-1 div.sk-parallel-item:only-child::after {width: 0;}#sk-container-id-1 div.sk-dashed-wrapped {border: 1px dashed gray;margin: 0 0.4em 0.5em 0.4em;box-sizing: border-box;padding-bottom: 0.4em;background-color: white;}#sk-container-id-1 div.sk-label label {font-family: monospace;font-weight: bold;display: inline-block;line-height: 1.2em;}#sk-container-id-1 div.sk-label-container {text-align: center;}#sk-container-id-1 div.sk-container {/* jupyter's `normalize.less` sets `[hidden] { display: none; }` but bootstrap.min.css set `[hidden] { display: none !important; }` so we also need the `!important` here to be able to override the default hidden behavior on the sphinx rendered scikit-learn.org. See: https://github.com/scikit-learn/scikit-learn/issues/21755 */display: inline-block !important;position: relative;}#sk-container-id-1 div.sk-text-repr-fallback {display: none;}</style><div id=\"sk-container-id-1\" class=\"sk-top-container\"><div class=\"sk-text-repr-fallback\"><pre>RandomForestClassifier(random_state=42)</pre><b>In a Jupyter environment, please rerun this cell to show the HTML representation or trust the notebook. <br />On GitHub, the HTML representation is unable to render, please try loading this page with nbviewer.org.</b></div><div class=\"sk-container\" hidden><div class=\"sk-item\"><div class=\"sk-estimator sk-toggleable\"><input class=\"sk-toggleable__control sk-hidden--visually\" id=\"sk-estimator-id-1\" type=\"checkbox\" checked><label for=\"sk-estimator-id-1\" class=\"sk-toggleable__label sk-toggleable__label-arrow\">RandomForestClassifier</label><div class=\"sk-toggleable__content\"><pre>RandomForestClassifier(random_state=42)</pre></div></div></div></div></div>"
      ],
      "text/plain": [
       "RandomForestClassifier(random_state=42)"
      ]
     },
     "execution_count": 20,
     "metadata": {},
     "output_type": "execute_result"
    }
   ],
   "source": [
    "model"
   ]
  },
  {
   "cell_type": "code",
   "execution_count": 21,
   "id": "9f19e539",
   "metadata": {
    "execution": {
     "iopub.execute_input": "2024-02-07T04:43:04.129148Z",
     "iopub.status.busy": "2024-02-07T04:43:04.128243Z",
     "iopub.status.idle": "2024-02-07T04:43:04.135961Z",
     "shell.execute_reply": "2024-02-07T04:43:04.134874Z"
    },
    "papermill": {
     "duration": 0.023263,
     "end_time": "2024-02-07T04:43:04.138190",
     "exception": false,
     "start_time": "2024-02-07T04:43:04.114927",
     "status": "completed"
    },
    "tags": []
   },
   "outputs": [
    {
     "data": {
      "text/html": [
       "<style>#sk-container-id-2 {color: black;background-color: white;}#sk-container-id-2 pre{padding: 0;}#sk-container-id-2 div.sk-toggleable {background-color: white;}#sk-container-id-2 label.sk-toggleable__label {cursor: pointer;display: block;width: 100%;margin-bottom: 0;padding: 0.3em;box-sizing: border-box;text-align: center;}#sk-container-id-2 label.sk-toggleable__label-arrow:before {content: \"▸\";float: left;margin-right: 0.25em;color: #696969;}#sk-container-id-2 label.sk-toggleable__label-arrow:hover:before {color: black;}#sk-container-id-2 div.sk-estimator:hover label.sk-toggleable__label-arrow:before {color: black;}#sk-container-id-2 div.sk-toggleable__content {max-height: 0;max-width: 0;overflow: hidden;text-align: left;background-color: #f0f8ff;}#sk-container-id-2 div.sk-toggleable__content pre {margin: 0.2em;color: black;border-radius: 0.25em;background-color: #f0f8ff;}#sk-container-id-2 input.sk-toggleable__control:checked~div.sk-toggleable__content {max-height: 200px;max-width: 100%;overflow: auto;}#sk-container-id-2 input.sk-toggleable__control:checked~label.sk-toggleable__label-arrow:before {content: \"▾\";}#sk-container-id-2 div.sk-estimator input.sk-toggleable__control:checked~label.sk-toggleable__label {background-color: #d4ebff;}#sk-container-id-2 div.sk-label input.sk-toggleable__control:checked~label.sk-toggleable__label {background-color: #d4ebff;}#sk-container-id-2 input.sk-hidden--visually {border: 0;clip: rect(1px 1px 1px 1px);clip: rect(1px, 1px, 1px, 1px);height: 1px;margin: -1px;overflow: hidden;padding: 0;position: absolute;width: 1px;}#sk-container-id-2 div.sk-estimator {font-family: monospace;background-color: #f0f8ff;border: 1px dotted black;border-radius: 0.25em;box-sizing: border-box;margin-bottom: 0.5em;}#sk-container-id-2 div.sk-estimator:hover {background-color: #d4ebff;}#sk-container-id-2 div.sk-parallel-item::after {content: \"\";width: 100%;border-bottom: 1px solid gray;flex-grow: 1;}#sk-container-id-2 div.sk-label:hover label.sk-toggleable__label {background-color: #d4ebff;}#sk-container-id-2 div.sk-serial::before {content: \"\";position: absolute;border-left: 1px solid gray;box-sizing: border-box;top: 0;bottom: 0;left: 50%;z-index: 0;}#sk-container-id-2 div.sk-serial {display: flex;flex-direction: column;align-items: center;background-color: white;padding-right: 0.2em;padding-left: 0.2em;position: relative;}#sk-container-id-2 div.sk-item {position: relative;z-index: 1;}#sk-container-id-2 div.sk-parallel {display: flex;align-items: stretch;justify-content: center;background-color: white;position: relative;}#sk-container-id-2 div.sk-item::before, #sk-container-id-2 div.sk-parallel-item::before {content: \"\";position: absolute;border-left: 1px solid gray;box-sizing: border-box;top: 0;bottom: 0;left: 50%;z-index: -1;}#sk-container-id-2 div.sk-parallel-item {display: flex;flex-direction: column;z-index: 1;position: relative;background-color: white;}#sk-container-id-2 div.sk-parallel-item:first-child::after {align-self: flex-end;width: 50%;}#sk-container-id-2 div.sk-parallel-item:last-child::after {align-self: flex-start;width: 50%;}#sk-container-id-2 div.sk-parallel-item:only-child::after {width: 0;}#sk-container-id-2 div.sk-dashed-wrapped {border: 1px dashed gray;margin: 0 0.4em 0.5em 0.4em;box-sizing: border-box;padding-bottom: 0.4em;background-color: white;}#sk-container-id-2 div.sk-label label {font-family: monospace;font-weight: bold;display: inline-block;line-height: 1.2em;}#sk-container-id-2 div.sk-label-container {text-align: center;}#sk-container-id-2 div.sk-container {/* jupyter's `normalize.less` sets `[hidden] { display: none; }` but bootstrap.min.css set `[hidden] { display: none !important; }` so we also need the `!important` here to be able to override the default hidden behavior on the sphinx rendered scikit-learn.org. See: https://github.com/scikit-learn/scikit-learn/issues/21755 */display: inline-block !important;position: relative;}#sk-container-id-2 div.sk-text-repr-fallback {display: none;}</style><div id=\"sk-container-id-2\" class=\"sk-top-container\"><div class=\"sk-text-repr-fallback\"><pre>DecisionTreeClassifier(max_depth=3, random_state=1)</pre><b>In a Jupyter environment, please rerun this cell to show the HTML representation or trust the notebook. <br />On GitHub, the HTML representation is unable to render, please try loading this page with nbviewer.org.</b></div><div class=\"sk-container\" hidden><div class=\"sk-item\"><div class=\"sk-estimator sk-toggleable\"><input class=\"sk-toggleable__control sk-hidden--visually\" id=\"sk-estimator-id-2\" type=\"checkbox\" checked><label for=\"sk-estimator-id-2\" class=\"sk-toggleable__label sk-toggleable__label-arrow\">DecisionTreeClassifier</label><div class=\"sk-toggleable__content\"><pre>DecisionTreeClassifier(max_depth=3, random_state=1)</pre></div></div></div></div></div>"
      ],
      "text/plain": [
       "DecisionTreeClassifier(max_depth=3, random_state=1)"
      ]
     },
     "execution_count": 21,
     "metadata": {},
     "output_type": "execute_result"
    }
   ],
   "source": [
    "model1"
   ]
  },
  {
   "cell_type": "code",
   "execution_count": 22,
   "id": "d1ca2d48",
   "metadata": {
    "execution": {
     "iopub.execute_input": "2024-02-07T04:43:04.165029Z",
     "iopub.status.busy": "2024-02-07T04:43:04.164534Z",
     "iopub.status.idle": "2024-02-07T04:43:04.172038Z",
     "shell.execute_reply": "2024-02-07T04:43:04.170850Z"
    },
    "papermill": {
     "duration": 0.024195,
     "end_time": "2024-02-07T04:43:04.174525",
     "exception": false,
     "start_time": "2024-02-07T04:43:04.150330",
     "status": "completed"
    },
    "tags": []
   },
   "outputs": [
    {
     "data": {
      "text/html": [
       "<style>#sk-container-id-3 {color: black;background-color: white;}#sk-container-id-3 pre{padding: 0;}#sk-container-id-3 div.sk-toggleable {background-color: white;}#sk-container-id-3 label.sk-toggleable__label {cursor: pointer;display: block;width: 100%;margin-bottom: 0;padding: 0.3em;box-sizing: border-box;text-align: center;}#sk-container-id-3 label.sk-toggleable__label-arrow:before {content: \"▸\";float: left;margin-right: 0.25em;color: #696969;}#sk-container-id-3 label.sk-toggleable__label-arrow:hover:before {color: black;}#sk-container-id-3 div.sk-estimator:hover label.sk-toggleable__label-arrow:before {color: black;}#sk-container-id-3 div.sk-toggleable__content {max-height: 0;max-width: 0;overflow: hidden;text-align: left;background-color: #f0f8ff;}#sk-container-id-3 div.sk-toggleable__content pre {margin: 0.2em;color: black;border-radius: 0.25em;background-color: #f0f8ff;}#sk-container-id-3 input.sk-toggleable__control:checked~div.sk-toggleable__content {max-height: 200px;max-width: 100%;overflow: auto;}#sk-container-id-3 input.sk-toggleable__control:checked~label.sk-toggleable__label-arrow:before {content: \"▾\";}#sk-container-id-3 div.sk-estimator input.sk-toggleable__control:checked~label.sk-toggleable__label {background-color: #d4ebff;}#sk-container-id-3 div.sk-label input.sk-toggleable__control:checked~label.sk-toggleable__label {background-color: #d4ebff;}#sk-container-id-3 input.sk-hidden--visually {border: 0;clip: rect(1px 1px 1px 1px);clip: rect(1px, 1px, 1px, 1px);height: 1px;margin: -1px;overflow: hidden;padding: 0;position: absolute;width: 1px;}#sk-container-id-3 div.sk-estimator {font-family: monospace;background-color: #f0f8ff;border: 1px dotted black;border-radius: 0.25em;box-sizing: border-box;margin-bottom: 0.5em;}#sk-container-id-3 div.sk-estimator:hover {background-color: #d4ebff;}#sk-container-id-3 div.sk-parallel-item::after {content: \"\";width: 100%;border-bottom: 1px solid gray;flex-grow: 1;}#sk-container-id-3 div.sk-label:hover label.sk-toggleable__label {background-color: #d4ebff;}#sk-container-id-3 div.sk-serial::before {content: \"\";position: absolute;border-left: 1px solid gray;box-sizing: border-box;top: 0;bottom: 0;left: 50%;z-index: 0;}#sk-container-id-3 div.sk-serial {display: flex;flex-direction: column;align-items: center;background-color: white;padding-right: 0.2em;padding-left: 0.2em;position: relative;}#sk-container-id-3 div.sk-item {position: relative;z-index: 1;}#sk-container-id-3 div.sk-parallel {display: flex;align-items: stretch;justify-content: center;background-color: white;position: relative;}#sk-container-id-3 div.sk-item::before, #sk-container-id-3 div.sk-parallel-item::before {content: \"\";position: absolute;border-left: 1px solid gray;box-sizing: border-box;top: 0;bottom: 0;left: 50%;z-index: -1;}#sk-container-id-3 div.sk-parallel-item {display: flex;flex-direction: column;z-index: 1;position: relative;background-color: white;}#sk-container-id-3 div.sk-parallel-item:first-child::after {align-self: flex-end;width: 50%;}#sk-container-id-3 div.sk-parallel-item:last-child::after {align-self: flex-start;width: 50%;}#sk-container-id-3 div.sk-parallel-item:only-child::after {width: 0;}#sk-container-id-3 div.sk-dashed-wrapped {border: 1px dashed gray;margin: 0 0.4em 0.5em 0.4em;box-sizing: border-box;padding-bottom: 0.4em;background-color: white;}#sk-container-id-3 div.sk-label label {font-family: monospace;font-weight: bold;display: inline-block;line-height: 1.2em;}#sk-container-id-3 div.sk-label-container {text-align: center;}#sk-container-id-3 div.sk-container {/* jupyter's `normalize.less` sets `[hidden] { display: none; }` but bootstrap.min.css set `[hidden] { display: none !important; }` so we also need the `!important` here to be able to override the default hidden behavior on the sphinx rendered scikit-learn.org. See: https://github.com/scikit-learn/scikit-learn/issues/21755 */display: inline-block !important;position: relative;}#sk-container-id-3 div.sk-text-repr-fallback {display: none;}</style><div id=\"sk-container-id-3\" class=\"sk-top-container\"><div class=\"sk-text-repr-fallback\"><pre>LogisticRegression()</pre><b>In a Jupyter environment, please rerun this cell to show the HTML representation or trust the notebook. <br />On GitHub, the HTML representation is unable to render, please try loading this page with nbviewer.org.</b></div><div class=\"sk-container\" hidden><div class=\"sk-item\"><div class=\"sk-estimator sk-toggleable\"><input class=\"sk-toggleable__control sk-hidden--visually\" id=\"sk-estimator-id-3\" type=\"checkbox\" checked><label for=\"sk-estimator-id-3\" class=\"sk-toggleable__label sk-toggleable__label-arrow\">LogisticRegression</label><div class=\"sk-toggleable__content\"><pre>LogisticRegression()</pre></div></div></div></div></div>"
      ],
      "text/plain": [
       "LogisticRegression()"
      ]
     },
     "execution_count": 22,
     "metadata": {},
     "output_type": "execute_result"
    }
   ],
   "source": [
    "model2"
   ]
  },
  {
   "cell_type": "code",
   "execution_count": 23,
   "id": "bef27d01",
   "metadata": {
    "execution": {
     "iopub.execute_input": "2024-02-07T04:43:04.260752Z",
     "iopub.status.busy": "2024-02-07T04:43:04.260377Z",
     "iopub.status.idle": "2024-02-07T04:43:04.268013Z",
     "shell.execute_reply": "2024-02-07T04:43:04.267115Z"
    },
    "papermill": {
     "duration": 0.023501,
     "end_time": "2024-02-07T04:43:04.270233",
     "exception": false,
     "start_time": "2024-02-07T04:43:04.246732",
     "status": "completed"
    },
    "tags": []
   },
   "outputs": [],
   "source": [
    "xtrain=pd.get_dummies(xtrain)\n",
    "xval=pd.get_dummies(xval)"
   ]
  },
  {
   "cell_type": "code",
   "execution_count": 24,
   "id": "6e58cccb",
   "metadata": {
    "execution": {
     "iopub.execute_input": "2024-02-07T04:43:04.298565Z",
     "iopub.status.busy": "2024-02-07T04:43:04.297387Z",
     "iopub.status.idle": "2024-02-07T04:43:07.667795Z",
     "shell.execute_reply": "2024-02-07T04:43:07.666627Z"
    },
    "papermill": {
     "duration": 3.387642,
     "end_time": "2024-02-07T04:43:07.671382",
     "exception": false,
     "start_time": "2024-02-07T04:43:04.283740",
     "status": "completed"
    },
    "tags": []
   },
   "outputs": [
    {
     "name": "stderr",
     "output_type": "stream",
     "text": [
      "/opt/conda/lib/python3.10/site-packages/sklearn/linear_model/_logistic.py:458: ConvergenceWarning: lbfgs failed to converge (status=1):\n",
      "STOP: TOTAL NO. of ITERATIONS REACHED LIMIT.\n",
      "\n",
      "Increase the number of iterations (max_iter) or scale the data as shown in:\n",
      "    https://scikit-learn.org/stable/modules/preprocessing.html\n",
      "Please also refer to the documentation for alternative solver options:\n",
      "    https://scikit-learn.org/stable/modules/linear_model.html#logistic-regression\n",
      "  n_iter_i = _check_optimize_result(\n"
     ]
    }
   ],
   "source": [
    "rfmodel=model.fit(xtrain,ytrain)\n",
    "dmodel=model1.fit(xtrain,ytrain)\n",
    "lgmodel=model2.fit(xtrain,ytrain)"
   ]
  },
  {
   "cell_type": "code",
   "execution_count": 25,
   "id": "084fa5a1",
   "metadata": {
    "execution": {
     "iopub.execute_input": "2024-02-07T04:43:07.717752Z",
     "iopub.status.busy": "2024-02-07T04:43:07.717007Z",
     "iopub.status.idle": "2024-02-07T04:43:07.842918Z",
     "shell.execute_reply": "2024-02-07T04:43:07.841929Z"
    },
    "papermill": {
     "duration": 0.152718,
     "end_time": "2024-02-07T04:43:07.845508",
     "exception": false,
     "start_time": "2024-02-07T04:43:07.692790",
     "status": "completed"
    },
    "tags": []
   },
   "outputs": [],
   "source": [
    "rfpred=rfmodel.predict(xval)\n",
    "dpred=model1.predict(xval)\n",
    "lgpred=model2.predict(xval)\n"
   ]
  },
  {
   "cell_type": "code",
   "execution_count": 26,
   "id": "955096b4",
   "metadata": {
    "execution": {
     "iopub.execute_input": "2024-02-07T04:43:07.872867Z",
     "iopub.status.busy": "2024-02-07T04:43:07.871838Z",
     "iopub.status.idle": "2024-02-07T04:43:07.878964Z",
     "shell.execute_reply": "2024-02-07T04:43:07.878008Z"
    },
    "papermill": {
     "duration": 0.023113,
     "end_time": "2024-02-07T04:43:07.881209",
     "exception": false,
     "start_time": "2024-02-07T04:43:07.858096",
     "status": "completed"
    },
    "tags": []
   },
   "outputs": [
    {
     "data": {
      "text/plain": [
       "array(['Obesity_Type_II', 'Insufficient_Weight', 'Overweight_Level_I',\n",
       "       ..., 'Obesity_Type_III', 'Obesity_Type_III', 'Obesity_Type_III'],\n",
       "      dtype=object)"
      ]
     },
     "execution_count": 26,
     "metadata": {},
     "output_type": "execute_result"
    }
   ],
   "source": [
    "rfpred"
   ]
  },
  {
   "cell_type": "code",
   "execution_count": 27,
   "id": "f7f6fdff",
   "metadata": {
    "execution": {
     "iopub.execute_input": "2024-02-07T04:43:07.908571Z",
     "iopub.status.busy": "2024-02-07T04:43:07.908168Z",
     "iopub.status.idle": "2024-02-07T04:43:07.914979Z",
     "shell.execute_reply": "2024-02-07T04:43:07.913872Z"
    },
    "papermill": {
     "duration": 0.023637,
     "end_time": "2024-02-07T04:43:07.917425",
     "exception": false,
     "start_time": "2024-02-07T04:43:07.893788",
     "status": "completed"
    },
    "tags": []
   },
   "outputs": [
    {
     "data": {
      "text/plain": [
       "array(['Obesity_Type_II', 'Insufficient_Weight', 'Normal_Weight', ...,\n",
       "       'Obesity_Type_III', 'Obesity_Type_III', 'Obesity_Type_III'],\n",
       "      dtype=object)"
      ]
     },
     "execution_count": 27,
     "metadata": {},
     "output_type": "execute_result"
    }
   ],
   "source": [
    "dpred"
   ]
  },
  {
   "cell_type": "code",
   "execution_count": 28,
   "id": "573d8dbb",
   "metadata": {
    "execution": {
     "iopub.execute_input": "2024-02-07T04:43:07.945372Z",
     "iopub.status.busy": "2024-02-07T04:43:07.944956Z",
     "iopub.status.idle": "2024-02-07T04:43:07.952395Z",
     "shell.execute_reply": "2024-02-07T04:43:07.951212Z"
    },
    "papermill": {
     "duration": 0.024306,
     "end_time": "2024-02-07T04:43:07.954563",
     "exception": false,
     "start_time": "2024-02-07T04:43:07.930257",
     "status": "completed"
    },
    "tags": []
   },
   "outputs": [
    {
     "data": {
      "text/plain": [
       "array(['Obesity_Type_II', 'Insufficient_Weight', 'Overweight_Level_I',\n",
       "       ..., 'Obesity_Type_III', 'Obesity_Type_III', 'Obesity_Type_III'],\n",
       "      dtype=object)"
      ]
     },
     "execution_count": 28,
     "metadata": {},
     "output_type": "execute_result"
    }
   ],
   "source": [
    "lgpred"
   ]
  },
  {
   "cell_type": "code",
   "execution_count": 29,
   "id": "a07d4cb0",
   "metadata": {
    "execution": {
     "iopub.execute_input": "2024-02-07T04:43:07.982630Z",
     "iopub.status.busy": "2024-02-07T04:43:07.982021Z",
     "iopub.status.idle": "2024-02-07T04:43:07.989031Z",
     "shell.execute_reply": "2024-02-07T04:43:07.987850Z"
    },
    "papermill": {
     "duration": 0.023413,
     "end_time": "2024-02-07T04:43:07.991043",
     "exception": false,
     "start_time": "2024-02-07T04:43:07.967630",
     "status": "completed"
    },
    "tags": []
   },
   "outputs": [
    {
     "data": {
      "text/plain": [
       "17392        Obesity_Type_II\n",
       "14299    Insufficient_Weight\n",
       "14753     Overweight_Level_I\n",
       "15306     Overweight_Level_I\n",
       "16482     Overweight_Level_I\n",
       "                ...         \n",
       "13289    Overweight_Level_II\n",
       "11555          Normal_Weight\n",
       "10644       Obesity_Type_III\n",
       "49          Obesity_Type_III\n",
       "13704       Obesity_Type_III\n",
       "Name: NObeyesdad, Length: 4152, dtype: object"
      ]
     },
     "execution_count": 29,
     "metadata": {},
     "output_type": "execute_result"
    }
   ],
   "source": [
    "yval"
   ]
  },
  {
   "cell_type": "code",
   "execution_count": 30,
   "id": "90bea55c",
   "metadata": {
    "execution": {
     "iopub.execute_input": "2024-02-07T04:43:08.019949Z",
     "iopub.status.busy": "2024-02-07T04:43:08.019245Z",
     "iopub.status.idle": "2024-02-07T04:43:08.038584Z",
     "shell.execute_reply": "2024-02-07T04:43:08.037490Z"
    },
    "papermill": {
     "duration": 0.036798,
     "end_time": "2024-02-07T04:43:08.040911",
     "exception": false,
     "start_time": "2024-02-07T04:43:08.004113",
     "status": "completed"
    },
    "tags": []
   },
   "outputs": [
    {
     "name": "stdout",
     "output_type": "stream",
     "text": [
      "validation accuracy is:0.8904142581888247\n",
      "validation accuracy is:0.7155587668593449\n",
      "validation accuracy is:0.6129576107899807\n"
     ]
    }
   ],
   "source": [
    "val_accuracy=accuracy_score(yval,rfpred)\n",
    "val_accuracy1=accuracy_score(yval,dpred)\n",
    "val_accuracy2=accuracy_score(yval,lgpred)\n",
    "print(f'validation accuracy is:{val_accuracy}')\n",
    "print(f'validation accuracy is:{val_accuracy1}')\n",
    "print(f'validation accuracy is:{val_accuracy2}')"
   ]
  },
  {
   "cell_type": "code",
   "execution_count": 31,
   "id": "65c2b091",
   "metadata": {
    "execution": {
     "iopub.execute_input": "2024-02-07T04:43:08.069516Z",
     "iopub.status.busy": "2024-02-07T04:43:08.068890Z",
     "iopub.status.idle": "2024-02-07T04:43:08.532364Z",
     "shell.execute_reply": "2024-02-07T04:43:08.531462Z"
    },
    "papermill": {
     "duration": 0.480721,
     "end_time": "2024-02-07T04:43:08.534885",
     "exception": false,
     "start_time": "2024-02-07T04:43:08.054164",
     "status": "completed"
    },
    "tags": []
   },
   "outputs": [
    {
     "data": {
      "image/png": "[encoded data removed]",
      "text/plain": [
       "<Figure size 600x400 with 2 Axes>"
      ]
     },
     "metadata": {},
     "output_type": "display_data"
    }
   ],
   "source": [
    "confusion_matrix=pd.crosstab(yval, rfpred, rownames=['act_vals'], colnames=['prdictions'])\n",
    "plt.figure(figsize=(6,4))\n",
    "sns.heatmap(confusion_matrix, annot=True, fmt='d', cmap='Reds')\n",
    "plt.title('confusion matrix')\n",
    "plt.show()"
   ]
  },
  {
   "cell_type": "code",
   "execution_count": 32,
   "id": "76568c89",
   "metadata": {
    "execution": {
     "iopub.execute_input": "2024-02-07T04:43:08.567851Z",
     "iopub.status.busy": "2024-02-07T04:43:08.566427Z",
     "iopub.status.idle": "2024-02-07T04:43:08.625816Z",
     "shell.execute_reply": "2024-02-07T04:43:08.624661Z"
    },
    "papermill": {
     "duration": 0.07903,
     "end_time": "2024-02-07T04:43:08.628498",
     "exception": false,
     "start_time": "2024-02-07T04:43:08.549468",
     "status": "completed"
    },
    "tags": []
   },
   "outputs": [],
   "source": [
    "test_data=pd.read_csv(\"/kaggle/input/playground-series-s4e2/test.csv\")"
   ]
  },
  {
   "cell_type": "code",
   "execution_count": 33,
   "id": "10286a17",
   "metadata": {
    "execution": {
     "iopub.execute_input": "2024-02-07T04:43:08.658660Z",
     "iopub.status.busy": "2024-02-07T04:43:08.658029Z",
     "iopub.status.idle": "2024-02-07T04:43:08.681167Z",
     "shell.execute_reply": "2024-02-07T04:43:08.679971Z"
    },
    "papermill": {
     "duration": 0.041106,
     "end_time": "2024-02-07T04:43:08.683561",
     "exception": false,
     "start_time": "2024-02-07T04:43:08.642455",
     "status": "completed"
    },
    "tags": []
   },
   "outputs": [
    {
     "data": {
      "text/html": [
       "<div>\n",
       "<style scoped>\n",
       "    .dataframe tbody tr th:only-of-type {\n",
       "        vertical-align: middle;\n",
       "    }\n",
       "\n",
       "    .dataframe tbody tr th {\n",
       "        vertical-align: top;\n",
       "    }\n",
       "\n",
       "    .dataframe thead th {\n",
       "        text-align: right;\n",
       "    }\n",
       "</style>\n",
       "<table border=\"1\" class=\"dataframe\">\n",
       "  <thead>\n",
       "    <tr style=\"text-align: right;\">\n",
       "      <th></th>\n",
       "      <th>id</th>\n",
       "      <th>Gender</th>\n",
       "      <th>Age</th>\n",
       "      <th>Height</th>\n",
       "      <th>Weight</th>\n",
       "      <th>family_history_with_overweight</th>\n",
       "      <th>FAVC</th>\n",
       "      <th>FCVC</th>\n",
       "      <th>NCP</th>\n",
       "      <th>CAEC</th>\n",
       "      <th>SMOKE</th>\n",
       "      <th>CH2O</th>\n",
       "      <th>SCC</th>\n",
       "      <th>FAF</th>\n",
       "      <th>TUE</th>\n",
       "      <th>CALC</th>\n",
       "      <th>MTRANS</th>\n",
       "    </tr>\n",
       "  </thead>\n",
       "  <tbody>\n",
       "    <tr>\n",
       "      <th>0</th>\n",
       "      <td>20758</td>\n",
       "      <td>Male</td>\n",
       "      <td>26.899886</td>\n",
       "      <td>1.848294</td>\n",
       "      <td>120.644178</td>\n",
       "      <td>yes</td>\n",
       "      <td>yes</td>\n",
       "      <td>2.938616</td>\n",
       "      <td>3.000000</td>\n",
       "      <td>Sometimes</td>\n",
       "      <td>no</td>\n",
       "      <td>2.825629</td>\n",
       "      <td>no</td>\n",
       "      <td>0.855400</td>\n",
       "      <td>0.000000</td>\n",
       "      <td>Sometimes</td>\n",
       "      <td>Public_Transportation</td>\n",
       "    </tr>\n",
       "    <tr>\n",
       "      <th>1</th>\n",
       "      <td>20759</td>\n",
       "      <td>Female</td>\n",
       "      <td>21.000000</td>\n",
       "      <td>1.600000</td>\n",
       "      <td>66.000000</td>\n",
       "      <td>yes</td>\n",
       "      <td>yes</td>\n",
       "      <td>2.000000</td>\n",
       "      <td>1.000000</td>\n",
       "      <td>Sometimes</td>\n",
       "      <td>no</td>\n",
       "      <td>3.000000</td>\n",
       "      <td>no</td>\n",
       "      <td>1.000000</td>\n",
       "      <td>0.000000</td>\n",
       "      <td>Sometimes</td>\n",
       "      <td>Public_Transportation</td>\n",
       "    </tr>\n",
       "    <tr>\n",
       "      <th>2</th>\n",
       "      <td>20760</td>\n",
       "      <td>Female</td>\n",
       "      <td>26.000000</td>\n",
       "      <td>1.643355</td>\n",
       "      <td>111.600553</td>\n",
       "      <td>yes</td>\n",
       "      <td>yes</td>\n",
       "      <td>3.000000</td>\n",
       "      <td>3.000000</td>\n",
       "      <td>Sometimes</td>\n",
       "      <td>no</td>\n",
       "      <td>2.621877</td>\n",
       "      <td>no</td>\n",
       "      <td>0.000000</td>\n",
       "      <td>0.250502</td>\n",
       "      <td>Sometimes</td>\n",
       "      <td>Public_Transportation</td>\n",
       "    </tr>\n",
       "    <tr>\n",
       "      <th>3</th>\n",
       "      <td>20761</td>\n",
       "      <td>Male</td>\n",
       "      <td>20.979254</td>\n",
       "      <td>1.553127</td>\n",
       "      <td>103.669116</td>\n",
       "      <td>yes</td>\n",
       "      <td>yes</td>\n",
       "      <td>2.000000</td>\n",
       "      <td>2.977909</td>\n",
       "      <td>Sometimes</td>\n",
       "      <td>no</td>\n",
       "      <td>2.786417</td>\n",
       "      <td>no</td>\n",
       "      <td>0.094851</td>\n",
       "      <td>0.000000</td>\n",
       "      <td>Sometimes</td>\n",
       "      <td>Public_Transportation</td>\n",
       "    </tr>\n",
       "    <tr>\n",
       "      <th>4</th>\n",
       "      <td>20762</td>\n",
       "      <td>Female</td>\n",
       "      <td>26.000000</td>\n",
       "      <td>1.627396</td>\n",
       "      <td>104.835346</td>\n",
       "      <td>yes</td>\n",
       "      <td>yes</td>\n",
       "      <td>3.000000</td>\n",
       "      <td>3.000000</td>\n",
       "      <td>Sometimes</td>\n",
       "      <td>no</td>\n",
       "      <td>2.653531</td>\n",
       "      <td>no</td>\n",
       "      <td>0.000000</td>\n",
       "      <td>0.741069</td>\n",
       "      <td>Sometimes</td>\n",
       "      <td>Public_Transportation</td>\n",
       "    </tr>\n",
       "    <tr>\n",
       "      <th>...</th>\n",
       "      <td>...</td>\n",
       "      <td>...</td>\n",
       "      <td>...</td>\n",
       "      <td>...</td>\n",
       "      <td>...</td>\n",
       "      <td>...</td>\n",
       "      <td>...</td>\n",
       "      <td>...</td>\n",
       "      <td>...</td>\n",
       "      <td>...</td>\n",
       "      <td>...</td>\n",
       "      <td>...</td>\n",
       "      <td>...</td>\n",
       "      <td>...</td>\n",
       "      <td>...</td>\n",
       "      <td>...</td>\n",
       "      <td>...</td>\n",
       "    </tr>\n",
       "    <tr>\n",
       "      <th>13835</th>\n",
       "      <td>34593</td>\n",
       "      <td>Male</td>\n",
       "      <td>23.327836</td>\n",
       "      <td>1.721384</td>\n",
       "      <td>78.030383</td>\n",
       "      <td>yes</td>\n",
       "      <td>no</td>\n",
       "      <td>2.813234</td>\n",
       "      <td>3.000000</td>\n",
       "      <td>Sometimes</td>\n",
       "      <td>no</td>\n",
       "      <td>1.000000</td>\n",
       "      <td>no</td>\n",
       "      <td>0.807076</td>\n",
       "      <td>0.778632</td>\n",
       "      <td>Sometimes</td>\n",
       "      <td>Public_Transportation</td>\n",
       "    </tr>\n",
       "    <tr>\n",
       "      <th>13836</th>\n",
       "      <td>34594</td>\n",
       "      <td>Female</td>\n",
       "      <td>29.000000</td>\n",
       "      <td>1.590000</td>\n",
       "      <td>62.000000</td>\n",
       "      <td>no</td>\n",
       "      <td>yes</td>\n",
       "      <td>3.000000</td>\n",
       "      <td>3.000000</td>\n",
       "      <td>Sometimes</td>\n",
       "      <td>no</td>\n",
       "      <td>2.000000</td>\n",
       "      <td>no</td>\n",
       "      <td>0.000000</td>\n",
       "      <td>0.000000</td>\n",
       "      <td>Sometimes</td>\n",
       "      <td>Public_Transportation</td>\n",
       "    </tr>\n",
       "    <tr>\n",
       "      <th>13837</th>\n",
       "      <td>34595</td>\n",
       "      <td>Female</td>\n",
       "      <td>22.935612</td>\n",
       "      <td>1.585547</td>\n",
       "      <td>44.376637</td>\n",
       "      <td>no</td>\n",
       "      <td>yes</td>\n",
       "      <td>3.000000</td>\n",
       "      <td>2.273740</td>\n",
       "      <td>Frequently</td>\n",
       "      <td>no</td>\n",
       "      <td>2.000000</td>\n",
       "      <td>no</td>\n",
       "      <td>1.949840</td>\n",
       "      <td>1.000000</td>\n",
       "      <td>Sometimes</td>\n",
       "      <td>Public_Transportation</td>\n",
       "    </tr>\n",
       "    <tr>\n",
       "      <th>13838</th>\n",
       "      <td>34596</td>\n",
       "      <td>Male</td>\n",
       "      <td>21.000000</td>\n",
       "      <td>1.620000</td>\n",
       "      <td>53.000000</td>\n",
       "      <td>yes</td>\n",
       "      <td>yes</td>\n",
       "      <td>2.000000</td>\n",
       "      <td>3.000000</td>\n",
       "      <td>Sometimes</td>\n",
       "      <td>no</td>\n",
       "      <td>2.000000</td>\n",
       "      <td>no</td>\n",
       "      <td>3.000000</td>\n",
       "      <td>2.000000</td>\n",
       "      <td>no</td>\n",
       "      <td>Public_Transportation</td>\n",
       "    </tr>\n",
       "    <tr>\n",
       "      <th>13839</th>\n",
       "      <td>34597</td>\n",
       "      <td>Male</td>\n",
       "      <td>26.490926</td>\n",
       "      <td>1.812259</td>\n",
       "      <td>120.980508</td>\n",
       "      <td>yes</td>\n",
       "      <td>yes</td>\n",
       "      <td>2.744994</td>\n",
       "      <td>3.000000</td>\n",
       "      <td>Sometimes</td>\n",
       "      <td>no</td>\n",
       "      <td>2.205977</td>\n",
       "      <td>no</td>\n",
       "      <td>1.304291</td>\n",
       "      <td>0.630866</td>\n",
       "      <td>Sometimes</td>\n",
       "      <td>Public_Transportation</td>\n",
       "    </tr>\n",
       "  </tbody>\n",
       "</table>\n",
       "<p>13840 rows × 17 columns</p>\n",
       "</div>"
      ],
      "text/plain": [
       "          id  Gender        Age    Height      Weight  \\\n",
       "0      20758    Male  26.899886  1.848294  120.644178   \n",
       "1      20759  Female  21.000000  1.600000   66.000000   \n",
       "2      20760  Female  26.000000  1.643355  111.600553   \n",
       "3      20761    Male  20.979254  1.553127  103.669116   \n",
       "4      20762  Female  26.000000  1.627396  104.835346   \n",
       "...      ...     ...        ...       ...         ...   \n",
       "13835  34593    Male  23.327836  1.721384   78.030383   \n",
       "13836  34594  Female  29.000000  1.590000   62.000000   \n",
       "13837  34595  Female  22.935612  1.585547   44.376637   \n",
       "13838  34596    Male  21.000000  1.620000   53.000000   \n",
       "13839  34597    Male  26.490926  1.812259  120.980508   \n",
       "\n",
       "      family_history_with_overweight FAVC      FCVC       NCP        CAEC  \\\n",
       "0                                yes  yes  2.938616  3.000000   Sometimes   \n",
       "1                                yes  yes  2.000000  1.000000   Sometimes   \n",
       "2                                yes  yes  3.000000  3.000000   Sometimes   \n",
       "3                                yes  yes  2.000000  2.977909   Sometimes   \n",
       "4                                yes  yes  3.000000  3.000000   Sometimes   \n",
       "...                              ...  ...       ...       ...         ...   \n",
       "13835                            yes   no  2.813234  3.000000   Sometimes   \n",
       "13836                             no  yes  3.000000  3.000000   Sometimes   \n",
       "13837                             no  yes  3.000000  2.273740  Frequently   \n",
       "13838                            yes  yes  2.000000  3.000000   Sometimes   \n",
       "13839                            yes  yes  2.744994  3.000000   Sometimes   \n",
       "\n",
       "      SMOKE      CH2O SCC       FAF       TUE       CALC  \\\n",
       "0        no  2.825629  no  0.855400  0.000000  Sometimes   \n",
       "1        no  3.000000  no  1.000000  0.000000  Sometimes   \n",
       "2        no  2.621877  no  0.000000  0.250502  Sometimes   \n",
       "3        no  2.786417  no  0.094851  0.000000  Sometimes   \n",
       "4        no  2.653531  no  0.000000  0.741069  Sometimes   \n",
       "...     ...       ...  ..       ...       ...        ...   \n",
       "13835    no  1.000000  no  0.807076  0.778632  Sometimes   \n",
       "13836    no  2.000000  no  0.000000  0.000000  Sometimes   \n",
       "13837    no  2.000000  no  1.949840  1.000000  Sometimes   \n",
       "13838    no  2.000000  no  3.000000  2.000000         no   \n",
       "13839    no  2.205977  no  1.304291  0.630866  Sometimes   \n",
       "\n",
       "                      MTRANS  \n",
       "0      Public_Transportation  \n",
       "1      Public_Transportation  \n",
       "2      Public_Transportation  \n",
       "3      Public_Transportation  \n",
       "4      Public_Transportation  \n",
       "...                      ...  \n",
       "13835  Public_Transportation  \n",
       "13836  Public_Transportation  \n",
       "13837  Public_Transportation  \n",
       "13838  Public_Transportation  \n",
       "13839  Public_Transportation  \n",
       "\n",
       "[13840 rows x 17 columns]"
      ]
     },
     "execution_count": 33,
     "metadata": {},
     "output_type": "execute_result"
    }
   ],
   "source": [
    "test_data"
   ]
  },
  {
   "cell_type": "code",
   "execution_count": 34,
   "id": "0bebe2d6",
   "metadata": {
    "execution": {
     "iopub.execute_input": "2024-02-07T04:43:08.714416Z",
     "iopub.status.busy": "2024-02-07T04:43:08.714041Z",
     "iopub.status.idle": "2024-02-07T04:43:08.719612Z",
     "shell.execute_reply": "2024-02-07T04:43:08.718338Z"
    },
    "papermill": {
     "duration": 0.023793,
     "end_time": "2024-02-07T04:43:08.721823",
     "exception": false,
     "start_time": "2024-02-07T04:43:08.698030",
     "status": "completed"
    },
    "tags": []
   },
   "outputs": [],
   "source": [
    "test_df=test_data[features]"
   ]
  },
  {
   "cell_type": "code",
   "execution_count": 35,
   "id": "a2c5eb62",
   "metadata": {
    "execution": {
     "iopub.execute_input": "2024-02-07T04:43:08.755443Z",
     "iopub.status.busy": "2024-02-07T04:43:08.754689Z",
     "iopub.status.idle": "2024-02-07T04:43:08.770746Z",
     "shell.execute_reply": "2024-02-07T04:43:08.769606Z"
    },
    "papermill": {
     "duration": 0.036581,
     "end_time": "2024-02-07T04:43:08.773371",
     "exception": false,
     "start_time": "2024-02-07T04:43:08.736790",
     "status": "completed"
    },
    "tags": []
   },
   "outputs": [
    {
     "data": {
      "text/html": [
       "<div>\n",
       "<style scoped>\n",
       "    .dataframe tbody tr th:only-of-type {\n",
       "        vertical-align: middle;\n",
       "    }\n",
       "\n",
       "    .dataframe tbody tr th {\n",
       "        vertical-align: top;\n",
       "    }\n",
       "\n",
       "    .dataframe thead th {\n",
       "        text-align: right;\n",
       "    }\n",
       "</style>\n",
       "<table border=\"1\" class=\"dataframe\">\n",
       "  <thead>\n",
       "    <tr style=\"text-align: right;\">\n",
       "      <th></th>\n",
       "      <th>Age</th>\n",
       "      <th>Height</th>\n",
       "      <th>Weight</th>\n",
       "      <th>FCVC</th>\n",
       "      <th>NCP</th>\n",
       "      <th>CH2O</th>\n",
       "      <th>FAF</th>\n",
       "      <th>TUE</th>\n",
       "    </tr>\n",
       "  </thead>\n",
       "  <tbody>\n",
       "    <tr>\n",
       "      <th>0</th>\n",
       "      <td>26.899886</td>\n",
       "      <td>1.848294</td>\n",
       "      <td>120.644178</td>\n",
       "      <td>2.938616</td>\n",
       "      <td>3.000000</td>\n",
       "      <td>2.825629</td>\n",
       "      <td>0.855400</td>\n",
       "      <td>0.000000</td>\n",
       "    </tr>\n",
       "    <tr>\n",
       "      <th>1</th>\n",
       "      <td>21.000000</td>\n",
       "      <td>1.600000</td>\n",
       "      <td>66.000000</td>\n",
       "      <td>2.000000</td>\n",
       "      <td>1.000000</td>\n",
       "      <td>3.000000</td>\n",
       "      <td>1.000000</td>\n",
       "      <td>0.000000</td>\n",
       "    </tr>\n",
       "    <tr>\n",
       "      <th>2</th>\n",
       "      <td>26.000000</td>\n",
       "      <td>1.643355</td>\n",
       "      <td>111.600553</td>\n",
       "      <td>3.000000</td>\n",
       "      <td>3.000000</td>\n",
       "      <td>2.621877</td>\n",
       "      <td>0.000000</td>\n",
       "      <td>0.250502</td>\n",
       "    </tr>\n",
       "    <tr>\n",
       "      <th>3</th>\n",
       "      <td>20.979254</td>\n",
       "      <td>1.553127</td>\n",
       "      <td>103.669116</td>\n",
       "      <td>2.000000</td>\n",
       "      <td>2.977909</td>\n",
       "      <td>2.786417</td>\n",
       "      <td>0.094851</td>\n",
       "      <td>0.000000</td>\n",
       "    </tr>\n",
       "    <tr>\n",
       "      <th>4</th>\n",
       "      <td>26.000000</td>\n",
       "      <td>1.627396</td>\n",
       "      <td>104.835346</td>\n",
       "      <td>3.000000</td>\n",
       "      <td>3.000000</td>\n",
       "      <td>2.653531</td>\n",
       "      <td>0.000000</td>\n",
       "      <td>0.741069</td>\n",
       "    </tr>\n",
       "    <tr>\n",
       "      <th>...</th>\n",
       "      <td>...</td>\n",
       "      <td>...</td>\n",
       "      <td>...</td>\n",
       "      <td>...</td>\n",
       "      <td>...</td>\n",
       "      <td>...</td>\n",
       "      <td>...</td>\n",
       "      <td>...</td>\n",
       "    </tr>\n",
       "    <tr>\n",
       "      <th>13835</th>\n",
       "      <td>23.327836</td>\n",
       "      <td>1.721384</td>\n",
       "      <td>78.030383</td>\n",
       "      <td>2.813234</td>\n",
       "      <td>3.000000</td>\n",
       "      <td>1.000000</td>\n",
       "      <td>0.807076</td>\n",
       "      <td>0.778632</td>\n",
       "    </tr>\n",
       "    <tr>\n",
       "      <th>13836</th>\n",
       "      <td>29.000000</td>\n",
       "      <td>1.590000</td>\n",
       "      <td>62.000000</td>\n",
       "      <td>3.000000</td>\n",
       "      <td>3.000000</td>\n",
       "      <td>2.000000</td>\n",
       "      <td>0.000000</td>\n",
       "      <td>0.000000</td>\n",
       "    </tr>\n",
       "    <tr>\n",
       "      <th>13837</th>\n",
       "      <td>22.935612</td>\n",
       "      <td>1.585547</td>\n",
       "      <td>44.376637</td>\n",
       "      <td>3.000000</td>\n",
       "      <td>2.273740</td>\n",
       "      <td>2.000000</td>\n",
       "      <td>1.949840</td>\n",
       "      <td>1.000000</td>\n",
       "    </tr>\n",
       "    <tr>\n",
       "      <th>13838</th>\n",
       "      <td>21.000000</td>\n",
       "      <td>1.620000</td>\n",
       "      <td>53.000000</td>\n",
       "      <td>2.000000</td>\n",
       "      <td>3.000000</td>\n",
       "      <td>2.000000</td>\n",
       "      <td>3.000000</td>\n",
       "      <td>2.000000</td>\n",
       "    </tr>\n",
       "    <tr>\n",
       "      <th>13839</th>\n",
       "      <td>26.490926</td>\n",
       "      <td>1.812259</td>\n",
       "      <td>120.980508</td>\n",
       "      <td>2.744994</td>\n",
       "      <td>3.000000</td>\n",
       "      <td>2.205977</td>\n",
       "      <td>1.304291</td>\n",
       "      <td>0.630866</td>\n",
       "    </tr>\n",
       "  </tbody>\n",
       "</table>\n",
       "<p>13840 rows × 8 columns</p>\n",
       "</div>"
      ],
      "text/plain": [
       "             Age    Height      Weight      FCVC       NCP      CH2O  \\\n",
       "0      26.899886  1.848294  120.644178  2.938616  3.000000  2.825629   \n",
       "1      21.000000  1.600000   66.000000  2.000000  1.000000  3.000000   \n",
       "2      26.000000  1.643355  111.600553  3.000000  3.000000  2.621877   \n",
       "3      20.979254  1.553127  103.669116  2.000000  2.977909  2.786417   \n",
       "4      26.000000  1.627396  104.835346  3.000000  3.000000  2.653531   \n",
       "...          ...       ...         ...       ...       ...       ...   \n",
       "13835  23.327836  1.721384   78.030383  2.813234  3.000000  1.000000   \n",
       "13836  29.000000  1.590000   62.000000  3.000000  3.000000  2.000000   \n",
       "13837  22.935612  1.585547   44.376637  3.000000  2.273740  2.000000   \n",
       "13838  21.000000  1.620000   53.000000  2.000000  3.000000  2.000000   \n",
       "13839  26.490926  1.812259  120.980508  2.744994  3.000000  2.205977   \n",
       "\n",
       "            FAF       TUE  \n",
       "0      0.855400  0.000000  \n",
       "1      1.000000  0.000000  \n",
       "2      0.000000  0.250502  \n",
       "3      0.094851  0.000000  \n",
       "4      0.000000  0.741069  \n",
       "...         ...       ...  \n",
       "13835  0.807076  0.778632  \n",
       "13836  0.000000  0.000000  \n",
       "13837  1.949840  1.000000  \n",
       "13838  3.000000  2.000000  \n",
       "13839  1.304291  0.630866  \n",
       "\n",
       "[13840 rows x 8 columns]"
      ]
     },
     "execution_count": 35,
     "metadata": {},
     "output_type": "execute_result"
    }
   ],
   "source": [
    "test_df"
   ]
  },
  {
   "cell_type": "code",
   "execution_count": 36,
   "id": "f83f9b24",
   "metadata": {
    "execution": {
     "iopub.execute_input": "2024-02-07T04:43:08.805839Z",
     "iopub.status.busy": "2024-02-07T04:43:08.805193Z",
     "iopub.status.idle": "2024-02-07T04:43:08.812035Z",
     "shell.execute_reply": "2024-02-07T04:43:08.810868Z"
    },
    "papermill": {
     "duration": 0.025696,
     "end_time": "2024-02-07T04:43:08.814497",
     "exception": false,
     "start_time": "2024-02-07T04:43:08.788801",
     "status": "completed"
    },
    "tags": []
   },
   "outputs": [],
   "source": [
    "test_df=pd.get_dummies(test_df)"
   ]
  },
  {
   "cell_type": "code",
   "execution_count": 37,
   "id": "be354803",
   "metadata": {
    "execution": {
     "iopub.execute_input": "2024-02-07T04:43:08.847643Z",
     "iopub.status.busy": "2024-02-07T04:43:08.846675Z",
     "iopub.status.idle": "2024-02-07T04:43:08.853223Z",
     "shell.execute_reply": "2024-02-07T04:43:08.852201Z"
    },
    "papermill": {
     "duration": 0.025752,
     "end_time": "2024-02-07T04:43:08.855433",
     "exception": false,
     "start_time": "2024-02-07T04:43:08.829681",
     "status": "completed"
    },
    "tags": []
   },
   "outputs": [
    {
     "data": {
      "text/plain": [
       "(16606, 8)"
      ]
     },
     "execution_count": 37,
     "metadata": {},
     "output_type": "execute_result"
    }
   ],
   "source": [
    "xtrain.shape"
   ]
  },
  {
   "cell_type": "code",
   "execution_count": 38,
   "id": "c12719dc",
   "metadata": {
    "execution": {
     "iopub.execute_input": "2024-02-07T04:43:08.886925Z",
     "iopub.status.busy": "2024-02-07T04:43:08.886492Z",
     "iopub.status.idle": "2024-02-07T04:43:08.892736Z",
     "shell.execute_reply": "2024-02-07T04:43:08.891956Z"
    },
    "papermill": {
     "duration": 0.024276,
     "end_time": "2024-02-07T04:43:08.894732",
     "exception": false,
     "start_time": "2024-02-07T04:43:08.870456",
     "status": "completed"
    },
    "tags": []
   },
   "outputs": [
    {
     "data": {
      "text/plain": [
       "(13840, 8)"
      ]
     },
     "execution_count": 38,
     "metadata": {},
     "output_type": "execute_result"
    }
   ],
   "source": [
    "test_df.shape"
   ]
  },
  {
   "cell_type": "code",
   "execution_count": 39,
   "id": "fae30bcd",
   "metadata": {
    "execution": {
     "iopub.execute_input": "2024-02-07T04:43:08.929276Z",
     "iopub.status.busy": "2024-02-07T04:43:08.928601Z",
     "iopub.status.idle": "2024-02-07T04:43:09.205147Z",
     "shell.execute_reply": "2024-02-07T04:43:09.203879Z"
    },
    "papermill": {
     "duration": 0.296123,
     "end_time": "2024-02-07T04:43:09.207840",
     "exception": false,
     "start_time": "2024-02-07T04:43:08.911717",
     "status": "completed"
    },
    "tags": []
   },
   "outputs": [],
   "source": [
    "if 'CALC_Always' in test_df.columns:\n",
    "    test_df.drop('CALC_Always', axis=1, inplace=True)\n",
    "test_pred = model.predict(test_df)"
   ]
  },
  {
   "cell_type": "code",
   "execution_count": 40,
   "id": "b20f78b9",
   "metadata": {
    "execution": {
     "iopub.execute_input": "2024-02-07T04:43:09.241899Z",
     "iopub.status.busy": "2024-02-07T04:43:09.240640Z",
     "iopub.status.idle": "2024-02-07T04:43:09.516087Z",
     "shell.execute_reply": "2024-02-07T04:43:09.515206Z"
    },
    "papermill": {
     "duration": 0.295392,
     "end_time": "2024-02-07T04:43:09.518742",
     "exception": false,
     "start_time": "2024-02-07T04:43:09.223350",
     "status": "completed"
    },
    "tags": []
   },
   "outputs": [],
   "source": [
    "prediction=rfmodel.predict(test_df)"
   ]
  },
  {
   "cell_type": "code",
   "execution_count": 41,
   "id": "aaeb94b6",
   "metadata": {
    "execution": {
     "iopub.execute_input": "2024-02-07T04:43:09.551556Z",
     "iopub.status.busy": "2024-02-07T04:43:09.550667Z",
     "iopub.status.idle": "2024-02-07T04:43:09.557389Z",
     "shell.execute_reply": "2024-02-07T04:43:09.556310Z"
    },
    "papermill": {
     "duration": 0.025735,
     "end_time": "2024-02-07T04:43:09.559710",
     "exception": false,
     "start_time": "2024-02-07T04:43:09.533975",
     "status": "completed"
    },
    "tags": []
   },
   "outputs": [
    {
     "data": {
      "text/plain": [
       "array(['Obesity_Type_II', 'Overweight_Level_I', 'Obesity_Type_III', ...,\n",
       "       'Insufficient_Weight', 'Normal_Weight', 'Obesity_Type_II'],\n",
       "      dtype=object)"
      ]
     },
     "execution_count": 41,
     "metadata": {},
     "output_type": "execute_result"
    }
   ],
   "source": [
    "prediction"
   ]
  },
  {
   "cell_type": "code",
   "execution_count": 42,
   "id": "a2a327c0",
   "metadata": {
    "execution": {
     "iopub.execute_input": "2024-02-07T04:43:09.593150Z",
     "iopub.status.busy": "2024-02-07T04:43:09.592192Z",
     "iopub.status.idle": "2024-02-07T04:43:09.598512Z",
     "shell.execute_reply": "2024-02-07T04:43:09.597179Z"
    },
    "papermill": {
     "duration": 0.025278,
     "end_time": "2024-02-07T04:43:09.600882",
     "exception": false,
     "start_time": "2024-02-07T04:43:09.575604",
     "status": "completed"
    },
    "tags": []
   },
   "outputs": [],
   "source": [
    "result=pd.DataFrame({'id': test_data['id'], 'NObeyesdad': prediction})"
   ]
  },
  {
   "cell_type": "code",
   "execution_count": 43,
   "id": "c63b18a4",
   "metadata": {
    "execution": {
     "iopub.execute_input": "2024-02-07T04:43:09.633314Z",
     "iopub.status.busy": "2024-02-07T04:43:09.632943Z",
     "iopub.status.idle": "2024-02-07T04:43:09.657024Z",
     "shell.execute_reply": "2024-02-07T04:43:09.655835Z"
    },
    "papermill": {
     "duration": 0.043273,
     "end_time": "2024-02-07T04:43:09.659567",
     "exception": false,
     "start_time": "2024-02-07T04:43:09.616294",
     "status": "completed"
    },
    "tags": []
   },
   "outputs": [],
   "source": [
    "result.to_csv('mysubmission_rf1.csv', index=False)"
   ]
  },
  {
   "cell_type": "code",
   "execution_count": 44,
   "id": "ca80cda8",
   "metadata": {
    "execution": {
     "iopub.execute_input": "2024-02-07T04:43:09.692957Z",
     "iopub.status.busy": "2024-02-07T04:43:09.692536Z",
     "iopub.status.idle": "2024-02-07T04:43:09.704089Z",
     "shell.execute_reply": "2024-02-07T04:43:09.702914Z"
    },
    "papermill": {
     "duration": 0.031113,
     "end_time": "2024-02-07T04:43:09.706522",
     "exception": false,
     "start_time": "2024-02-07T04:43:09.675409",
     "status": "completed"
    },
    "tags": []
   },
   "outputs": [
    {
     "data": {
      "text/html": [
       "<div>\n",
       "<style scoped>\n",
       "    .dataframe tbody tr th:only-of-type {\n",
       "        vertical-align: middle;\n",
       "    }\n",
       "\n",
       "    .dataframe tbody tr th {\n",
       "        vertical-align: top;\n",
       "    }\n",
       "\n",
       "    .dataframe thead th {\n",
       "        text-align: right;\n",
       "    }\n",
       "</style>\n",
       "<table border=\"1\" class=\"dataframe\">\n",
       "  <thead>\n",
       "    <tr style=\"text-align: right;\">\n",
       "      <th></th>\n",
       "      <th>id</th>\n",
       "      <th>NObeyesdad</th>\n",
       "    </tr>\n",
       "  </thead>\n",
       "  <tbody>\n",
       "    <tr>\n",
       "      <th>0</th>\n",
       "      <td>20758</td>\n",
       "      <td>Obesity_Type_II</td>\n",
       "    </tr>\n",
       "    <tr>\n",
       "      <th>1</th>\n",
       "      <td>20759</td>\n",
       "      <td>Overweight_Level_I</td>\n",
       "    </tr>\n",
       "    <tr>\n",
       "      <th>2</th>\n",
       "      <td>20760</td>\n",
       "      <td>Obesity_Type_III</td>\n",
       "    </tr>\n",
       "    <tr>\n",
       "      <th>3</th>\n",
       "      <td>20761</td>\n",
       "      <td>Obesity_Type_I</td>\n",
       "    </tr>\n",
       "    <tr>\n",
       "      <th>4</th>\n",
       "      <td>20762</td>\n",
       "      <td>Obesity_Type_III</td>\n",
       "    </tr>\n",
       "    <tr>\n",
       "      <th>...</th>\n",
       "      <td>...</td>\n",
       "      <td>...</td>\n",
       "    </tr>\n",
       "    <tr>\n",
       "      <th>13835</th>\n",
       "      <td>34593</td>\n",
       "      <td>Overweight_Level_II</td>\n",
       "    </tr>\n",
       "    <tr>\n",
       "      <th>13836</th>\n",
       "      <td>34594</td>\n",
       "      <td>Overweight_Level_I</td>\n",
       "    </tr>\n",
       "    <tr>\n",
       "      <th>13837</th>\n",
       "      <td>34595</td>\n",
       "      <td>Insufficient_Weight</td>\n",
       "    </tr>\n",
       "    <tr>\n",
       "      <th>13838</th>\n",
       "      <td>34596</td>\n",
       "      <td>Normal_Weight</td>\n",
       "    </tr>\n",
       "    <tr>\n",
       "      <th>13839</th>\n",
       "      <td>34597</td>\n",
       "      <td>Obesity_Type_II</td>\n",
       "    </tr>\n",
       "  </tbody>\n",
       "</table>\n",
       "<p>13840 rows × 2 columns</p>\n",
       "</div>"
      ],
      "text/plain": [
       "          id           NObeyesdad\n",
       "0      20758      Obesity_Type_II\n",
       "1      20759   Overweight_Level_I\n",
       "2      20760     Obesity_Type_III\n",
       "3      20761       Obesity_Type_I\n",
       "4      20762     Obesity_Type_III\n",
       "...      ...                  ...\n",
       "13835  34593  Overweight_Level_II\n",
       "13836  34594   Overweight_Level_I\n",
       "13837  34595  Insufficient_Weight\n",
       "13838  34596        Normal_Weight\n",
       "13839  34597      Obesity_Type_II\n",
       "\n",
       "[13840 rows x 2 columns]"
      ]
     },
     "execution_count": 44,
     "metadata": {},
     "output_type": "execute_result"
    }
   ],
   "source": [
    "result"
   ]
  },
  {
   "cell_type": "code",
   "execution_count": null,
   "id": "ef308baf",
   "metadata": {
    "papermill": {
     "duration": 0.015544,
     "end_time": "2024-02-07T04:43:09.737503",
     "exception": false,
     "start_time": "2024-02-07T04:43:09.721959",
     "status": "completed"
    },
    "tags": []
   },
   "outputs": [],
   "source": []
  }
 ],
 "metadata": {
  "kaggle": {
   "accelerator": "none",
   "dataSources": [
    {
     "databundleVersionId": 7609535,
     "sourceId": 68479,
     "sourceType": "competition"
    }
   ],
   "dockerImageVersionId": 30646,
   "isGpuEnabled": false,
   "isInternetEnabled": true,
   "language": "python",
   "sourceType": "notebook"
  },
  "kernelspec": {
   "display_name": "Python 3",
   "language": "python",
   "name": "python3"
  },
  "language_info": {
   "codemirror_mode": {
    "name": "ipython",
    "version": 3
   },
   "file_extension": ".py",
   "mimetype": "text/x-python",
   "name": "python",
   "nbconvert_exporter": "python",
   "pygments_lexer": "ipython3",
   "version": "3.10.13"
  },
  "papermill": {
   "default_parameters": {},
   "duration": 12.917369,
   "end_time": "2024-02-07T04:43:10.373277",
   "environment_variables": {},
   "exception": null,
   "input_path": "__notebook__.ipynb",
   "output_path": "__notebook__.ipynb",
   "parameters": {},
   "start_time": "2024-02-07T04:42:57.455908",
   "version": "2.5.0"
  }
 },
 "nbformat": 4,
 "nbformat_minor": 5
}
