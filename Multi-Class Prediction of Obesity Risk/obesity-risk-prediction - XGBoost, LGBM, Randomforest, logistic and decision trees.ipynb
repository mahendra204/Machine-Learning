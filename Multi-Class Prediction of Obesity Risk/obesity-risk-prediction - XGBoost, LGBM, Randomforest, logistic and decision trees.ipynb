{
 "cells": [
  {
   "cell_type": "code",
   "execution_count": 1,
   "id": "9535df9e",
   "metadata": {
    "execution": {
     "iopub.execute_input": "2024-02-08T15:37:13.867910Z",
     "iopub.status.busy": "2024-02-08T15:37:13.867423Z",
     "iopub.status.idle": "2024-02-08T15:37:15.156693Z",
     "shell.execute_reply": "2024-02-08T15:37:15.155648Z"
    },
    "papermill": {
     "duration": 1.314445,
     "end_time": "2024-02-08T15:37:15.160045",
     "exception": false,
     "start_time": "2024-02-08T15:37:13.845600",
     "status": "completed"
    },
    "tags": []
   },
   "outputs": [
    {
     "name": "stdout",
     "output_type": "stream",
     "text": [
      "/kaggle/input/playground-series-s4e2/sample_submission.csv\n",
      "/kaggle/input/playground-series-s4e2/train.csv\n",
      "/kaggle/input/playground-series-s4e2/test.csv\n"
     ]
    }
   ],
   "source": [
    "import numpy as np \n",
    "import pandas as pd \n",
    "\n",
    "import os\n",
    "for dirname, _, filenames in os.walk('/kaggle/input'):\n",
    "    for filename in filenames:\n",
    "        print(os.path.join(dirname, filename))\n"
   ]
  },
  {
   "cell_type": "code",
   "execution_count": 2,
   "id": "649181a0",
   "metadata": {
    "execution": {
     "iopub.execute_input": "2024-02-08T15:37:15.202454Z",
     "iopub.status.busy": "2024-02-08T15:37:15.201689Z",
     "iopub.status.idle": "2024-02-08T15:37:15.231363Z",
     "shell.execute_reply": "2024-02-08T15:37:15.230234Z"
    },
    "papermill": {
     "duration": 0.053912,
     "end_time": "2024-02-08T15:37:15.234500",
     "exception": false,
     "start_time": "2024-02-08T15:37:15.180588",
     "status": "completed"
    },
    "tags": []
   },
   "outputs": [],
   "source": [
    "sub=pd.read_csv('/kaggle/input/playground-series-s4e2/sample_submission.csv')"
   ]
  },
  {
   "cell_type": "code",
   "execution_count": 3,
   "id": "9f2b0238",
   "metadata": {
    "execution": {
     "iopub.execute_input": "2024-02-08T15:37:15.272665Z",
     "iopub.status.busy": "2024-02-08T15:37:15.272251Z",
     "iopub.status.idle": "2024-02-08T15:37:15.302060Z",
     "shell.execute_reply": "2024-02-08T15:37:15.300681Z"
    },
    "papermill": {
     "duration": 0.051615,
     "end_time": "2024-02-08T15:37:15.304926",
     "exception": false,
     "start_time": "2024-02-08T15:37:15.253311",
     "status": "completed"
    },
    "tags": []
   },
   "outputs": [
    {
     "data": {
      "text/html": [
       "<div>\n",
       "<style scoped>\n",
       "    .dataframe tbody tr th:only-of-type {\n",
       "        vertical-align: middle;\n",
       "    }\n",
       "\n",
       "    .dataframe tbody tr th {\n",
       "        vertical-align: top;\n",
       "    }\n",
       "\n",
       "    .dataframe thead th {\n",
       "        text-align: right;\n",
       "    }\n",
       "</style>\n",
       "<table border=\"1\" class=\"dataframe\">\n",
       "  <thead>\n",
       "    <tr style=\"text-align: right;\">\n",
       "      <th></th>\n",
       "      <th>id</th>\n",
       "      <th>NObeyesdad</th>\n",
       "    </tr>\n",
       "  </thead>\n",
       "  <tbody>\n",
       "    <tr>\n",
       "      <th>0</th>\n",
       "      <td>20758</td>\n",
       "      <td>Normal_Weight</td>\n",
       "    </tr>\n",
       "    <tr>\n",
       "      <th>1</th>\n",
       "      <td>20759</td>\n",
       "      <td>Normal_Weight</td>\n",
       "    </tr>\n",
       "    <tr>\n",
       "      <th>2</th>\n",
       "      <td>20760</td>\n",
       "      <td>Normal_Weight</td>\n",
       "    </tr>\n",
       "    <tr>\n",
       "      <th>3</th>\n",
       "      <td>20761</td>\n",
       "      <td>Normal_Weight</td>\n",
       "    </tr>\n",
       "    <tr>\n",
       "      <th>4</th>\n",
       "      <td>20762</td>\n",
       "      <td>Normal_Weight</td>\n",
       "    </tr>\n",
       "    <tr>\n",
       "      <th>...</th>\n",
       "      <td>...</td>\n",
       "      <td>...</td>\n",
       "    </tr>\n",
       "    <tr>\n",
       "      <th>13835</th>\n",
       "      <td>34593</td>\n",
       "      <td>Normal_Weight</td>\n",
       "    </tr>\n",
       "    <tr>\n",
       "      <th>13836</th>\n",
       "      <td>34594</td>\n",
       "      <td>Normal_Weight</td>\n",
       "    </tr>\n",
       "    <tr>\n",
       "      <th>13837</th>\n",
       "      <td>34595</td>\n",
       "      <td>Normal_Weight</td>\n",
       "    </tr>\n",
       "    <tr>\n",
       "      <th>13838</th>\n",
       "      <td>34596</td>\n",
       "      <td>Normal_Weight</td>\n",
       "    </tr>\n",
       "    <tr>\n",
       "      <th>13839</th>\n",
       "      <td>34597</td>\n",
       "      <td>Normal_Weight</td>\n",
       "    </tr>\n",
       "  </tbody>\n",
       "</table>\n",
       "<p>13840 rows × 2 columns</p>\n",
       "</div>"
      ],
      "text/plain": [
       "          id     NObeyesdad\n",
       "0      20758  Normal_Weight\n",
       "1      20759  Normal_Weight\n",
       "2      20760  Normal_Weight\n",
       "3      20761  Normal_Weight\n",
       "4      20762  Normal_Weight\n",
       "...      ...            ...\n",
       "13835  34593  Normal_Weight\n",
       "13836  34594  Normal_Weight\n",
       "13837  34595  Normal_Weight\n",
       "13838  34596  Normal_Weight\n",
       "13839  34597  Normal_Weight\n",
       "\n",
       "[13840 rows x 2 columns]"
      ]
     },
     "execution_count": 3,
     "metadata": {},
     "output_type": "execute_result"
    }
   ],
   "source": [
    "sub"
   ]
  },
  {
   "cell_type": "code",
   "execution_count": 4,
   "id": "981f1bd7",
   "metadata": {
    "execution": {
     "iopub.execute_input": "2024-02-08T15:37:15.347707Z",
     "iopub.status.busy": "2024-02-08T15:37:15.347190Z",
     "iopub.status.idle": "2024-02-08T15:37:20.125950Z",
     "shell.execute_reply": "2024-02-08T15:37:20.124605Z"
    },
    "papermill": {
     "duration": 4.802875,
     "end_time": "2024-02-08T15:37:20.128852",
     "exception": false,
     "start_time": "2024-02-08T15:37:15.325977",
     "status": "completed"
    },
    "tags": []
   },
   "outputs": [],
   "source": [
    "import matplotlib.pyplot as plt\n",
    "import seaborn as sns\n",
    "from sklearn.model_selection import train_test_split\n",
    "from sklearn.ensemble import RandomForestClassifier\n",
    "from sklearn.tree import DecisionTreeClassifier\n",
    "from sklearn.linear_model import LogisticRegression\n",
    "from sklearn.preprocessing import LabelEncoder \n",
    "from lightgbm import LGBMClassifier\n",
    "from xgboost import XGBClassifier\n",
    "from sklearn.metrics import accuracy_score, precision_score, recall_score, f1_score\n",
    "from sklearn.metrics import confusion_matrix, classification_report\n",
    "from sklearn.metrics import mean_squared_error, mean_absolute_error, r2_score"
   ]
  },
  {
   "cell_type": "code",
   "execution_count": 5,
   "id": "14e8c979",
   "metadata": {
    "execution": {
     "iopub.execute_input": "2024-02-08T15:37:20.169350Z",
     "iopub.status.busy": "2024-02-08T15:37:20.168628Z",
     "iopub.status.idle": "2024-02-08T15:37:20.312505Z",
     "shell.execute_reply": "2024-02-08T15:37:20.311039Z"
    },
    "papermill": {
     "duration": 0.168652,
     "end_time": "2024-02-08T15:37:20.316245",
     "exception": false,
     "start_time": "2024-02-08T15:37:20.147593",
     "status": "completed"
    },
    "tags": []
   },
   "outputs": [],
   "source": [
    "train_data=pd.read_csv(\"/kaggle/input/playground-series-s4e2/train.csv\")"
   ]
  },
  {
   "cell_type": "code",
   "execution_count": 6,
   "id": "6d5e0415",
   "metadata": {
    "execution": {
     "iopub.execute_input": "2024-02-08T15:37:20.357527Z",
     "iopub.status.busy": "2024-02-08T15:37:20.357061Z",
     "iopub.status.idle": "2024-02-08T15:37:20.393852Z",
     "shell.execute_reply": "2024-02-08T15:37:20.392843Z"
    },
    "papermill": {
     "duration": 0.063301,
     "end_time": "2024-02-08T15:37:20.398566",
     "exception": false,
     "start_time": "2024-02-08T15:37:20.335265",
     "status": "completed"
    },
    "tags": []
   },
   "outputs": [
    {
     "data": {
      "text/html": [
       "<div>\n",
       "<style scoped>\n",
       "    .dataframe tbody tr th:only-of-type {\n",
       "        vertical-align: middle;\n",
       "    }\n",
       "\n",
       "    .dataframe tbody tr th {\n",
       "        vertical-align: top;\n",
       "    }\n",
       "\n",
       "    .dataframe thead th {\n",
       "        text-align: right;\n",
       "    }\n",
       "</style>\n",
       "<table border=\"1\" class=\"dataframe\">\n",
       "  <thead>\n",
       "    <tr style=\"text-align: right;\">\n",
       "      <th></th>\n",
       "      <th>id</th>\n",
       "      <th>Gender</th>\n",
       "      <th>Age</th>\n",
       "      <th>Height</th>\n",
       "      <th>Weight</th>\n",
       "      <th>family_history_with_overweight</th>\n",
       "      <th>FAVC</th>\n",
       "      <th>FCVC</th>\n",
       "      <th>NCP</th>\n",
       "      <th>CAEC</th>\n",
       "      <th>SMOKE</th>\n",
       "      <th>CH2O</th>\n",
       "      <th>SCC</th>\n",
       "      <th>FAF</th>\n",
       "      <th>TUE</th>\n",
       "      <th>CALC</th>\n",
       "      <th>MTRANS</th>\n",
       "      <th>NObeyesdad</th>\n",
       "    </tr>\n",
       "  </thead>\n",
       "  <tbody>\n",
       "    <tr>\n",
       "      <th>0</th>\n",
       "      <td>0</td>\n",
       "      <td>Male</td>\n",
       "      <td>24.443011</td>\n",
       "      <td>1.699998</td>\n",
       "      <td>81.669950</td>\n",
       "      <td>yes</td>\n",
       "      <td>yes</td>\n",
       "      <td>2.000000</td>\n",
       "      <td>2.983297</td>\n",
       "      <td>Sometimes</td>\n",
       "      <td>no</td>\n",
       "      <td>2.763573</td>\n",
       "      <td>no</td>\n",
       "      <td>0.000000</td>\n",
       "      <td>0.976473</td>\n",
       "      <td>Sometimes</td>\n",
       "      <td>Public_Transportation</td>\n",
       "      <td>Overweight_Level_II</td>\n",
       "    </tr>\n",
       "    <tr>\n",
       "      <th>1</th>\n",
       "      <td>1</td>\n",
       "      <td>Female</td>\n",
       "      <td>18.000000</td>\n",
       "      <td>1.560000</td>\n",
       "      <td>57.000000</td>\n",
       "      <td>yes</td>\n",
       "      <td>yes</td>\n",
       "      <td>2.000000</td>\n",
       "      <td>3.000000</td>\n",
       "      <td>Frequently</td>\n",
       "      <td>no</td>\n",
       "      <td>2.000000</td>\n",
       "      <td>no</td>\n",
       "      <td>1.000000</td>\n",
       "      <td>1.000000</td>\n",
       "      <td>no</td>\n",
       "      <td>Automobile</td>\n",
       "      <td>Normal_Weight</td>\n",
       "    </tr>\n",
       "    <tr>\n",
       "      <th>2</th>\n",
       "      <td>2</td>\n",
       "      <td>Female</td>\n",
       "      <td>18.000000</td>\n",
       "      <td>1.711460</td>\n",
       "      <td>50.165754</td>\n",
       "      <td>yes</td>\n",
       "      <td>yes</td>\n",
       "      <td>1.880534</td>\n",
       "      <td>1.411685</td>\n",
       "      <td>Sometimes</td>\n",
       "      <td>no</td>\n",
       "      <td>1.910378</td>\n",
       "      <td>no</td>\n",
       "      <td>0.866045</td>\n",
       "      <td>1.673584</td>\n",
       "      <td>no</td>\n",
       "      <td>Public_Transportation</td>\n",
       "      <td>Insufficient_Weight</td>\n",
       "    </tr>\n",
       "    <tr>\n",
       "      <th>3</th>\n",
       "      <td>3</td>\n",
       "      <td>Female</td>\n",
       "      <td>20.952737</td>\n",
       "      <td>1.710730</td>\n",
       "      <td>131.274851</td>\n",
       "      <td>yes</td>\n",
       "      <td>yes</td>\n",
       "      <td>3.000000</td>\n",
       "      <td>3.000000</td>\n",
       "      <td>Sometimes</td>\n",
       "      <td>no</td>\n",
       "      <td>1.674061</td>\n",
       "      <td>no</td>\n",
       "      <td>1.467863</td>\n",
       "      <td>0.780199</td>\n",
       "      <td>Sometimes</td>\n",
       "      <td>Public_Transportation</td>\n",
       "      <td>Obesity_Type_III</td>\n",
       "    </tr>\n",
       "    <tr>\n",
       "      <th>4</th>\n",
       "      <td>4</td>\n",
       "      <td>Male</td>\n",
       "      <td>31.641081</td>\n",
       "      <td>1.914186</td>\n",
       "      <td>93.798055</td>\n",
       "      <td>yes</td>\n",
       "      <td>yes</td>\n",
       "      <td>2.679664</td>\n",
       "      <td>1.971472</td>\n",
       "      <td>Sometimes</td>\n",
       "      <td>no</td>\n",
       "      <td>1.979848</td>\n",
       "      <td>no</td>\n",
       "      <td>1.967973</td>\n",
       "      <td>0.931721</td>\n",
       "      <td>Sometimes</td>\n",
       "      <td>Public_Transportation</td>\n",
       "      <td>Overweight_Level_II</td>\n",
       "    </tr>\n",
       "    <tr>\n",
       "      <th>...</th>\n",
       "      <td>...</td>\n",
       "      <td>...</td>\n",
       "      <td>...</td>\n",
       "      <td>...</td>\n",
       "      <td>...</td>\n",
       "      <td>...</td>\n",
       "      <td>...</td>\n",
       "      <td>...</td>\n",
       "      <td>...</td>\n",
       "      <td>...</td>\n",
       "      <td>...</td>\n",
       "      <td>...</td>\n",
       "      <td>...</td>\n",
       "      <td>...</td>\n",
       "      <td>...</td>\n",
       "      <td>...</td>\n",
       "      <td>...</td>\n",
       "      <td>...</td>\n",
       "    </tr>\n",
       "    <tr>\n",
       "      <th>20753</th>\n",
       "      <td>20753</td>\n",
       "      <td>Male</td>\n",
       "      <td>25.137087</td>\n",
       "      <td>1.766626</td>\n",
       "      <td>114.187096</td>\n",
       "      <td>yes</td>\n",
       "      <td>yes</td>\n",
       "      <td>2.919584</td>\n",
       "      <td>3.000000</td>\n",
       "      <td>Sometimes</td>\n",
       "      <td>no</td>\n",
       "      <td>2.151809</td>\n",
       "      <td>no</td>\n",
       "      <td>1.330519</td>\n",
       "      <td>0.196680</td>\n",
       "      <td>Sometimes</td>\n",
       "      <td>Public_Transportation</td>\n",
       "      <td>Obesity_Type_II</td>\n",
       "    </tr>\n",
       "    <tr>\n",
       "      <th>20754</th>\n",
       "      <td>20754</td>\n",
       "      <td>Male</td>\n",
       "      <td>18.000000</td>\n",
       "      <td>1.710000</td>\n",
       "      <td>50.000000</td>\n",
       "      <td>no</td>\n",
       "      <td>yes</td>\n",
       "      <td>3.000000</td>\n",
       "      <td>4.000000</td>\n",
       "      <td>Frequently</td>\n",
       "      <td>no</td>\n",
       "      <td>1.000000</td>\n",
       "      <td>no</td>\n",
       "      <td>2.000000</td>\n",
       "      <td>1.000000</td>\n",
       "      <td>Sometimes</td>\n",
       "      <td>Public_Transportation</td>\n",
       "      <td>Insufficient_Weight</td>\n",
       "    </tr>\n",
       "    <tr>\n",
       "      <th>20755</th>\n",
       "      <td>20755</td>\n",
       "      <td>Male</td>\n",
       "      <td>20.101026</td>\n",
       "      <td>1.819557</td>\n",
       "      <td>105.580491</td>\n",
       "      <td>yes</td>\n",
       "      <td>yes</td>\n",
       "      <td>2.407817</td>\n",
       "      <td>3.000000</td>\n",
       "      <td>Sometimes</td>\n",
       "      <td>no</td>\n",
       "      <td>2.000000</td>\n",
       "      <td>no</td>\n",
       "      <td>1.158040</td>\n",
       "      <td>1.198439</td>\n",
       "      <td>no</td>\n",
       "      <td>Public_Transportation</td>\n",
       "      <td>Obesity_Type_II</td>\n",
       "    </tr>\n",
       "    <tr>\n",
       "      <th>20756</th>\n",
       "      <td>20756</td>\n",
       "      <td>Male</td>\n",
       "      <td>33.852953</td>\n",
       "      <td>1.700000</td>\n",
       "      <td>83.520113</td>\n",
       "      <td>yes</td>\n",
       "      <td>yes</td>\n",
       "      <td>2.671238</td>\n",
       "      <td>1.971472</td>\n",
       "      <td>Sometimes</td>\n",
       "      <td>no</td>\n",
       "      <td>2.144838</td>\n",
       "      <td>no</td>\n",
       "      <td>0.000000</td>\n",
       "      <td>0.973834</td>\n",
       "      <td>no</td>\n",
       "      <td>Automobile</td>\n",
       "      <td>Overweight_Level_II</td>\n",
       "    </tr>\n",
       "    <tr>\n",
       "      <th>20757</th>\n",
       "      <td>20757</td>\n",
       "      <td>Male</td>\n",
       "      <td>26.680376</td>\n",
       "      <td>1.816547</td>\n",
       "      <td>118.134898</td>\n",
       "      <td>yes</td>\n",
       "      <td>yes</td>\n",
       "      <td>3.000000</td>\n",
       "      <td>3.000000</td>\n",
       "      <td>Sometimes</td>\n",
       "      <td>no</td>\n",
       "      <td>2.003563</td>\n",
       "      <td>no</td>\n",
       "      <td>0.684487</td>\n",
       "      <td>0.713823</td>\n",
       "      <td>Sometimes</td>\n",
       "      <td>Public_Transportation</td>\n",
       "      <td>Obesity_Type_II</td>\n",
       "    </tr>\n",
       "  </tbody>\n",
       "</table>\n",
       "<p>20758 rows × 18 columns</p>\n",
       "</div>"
      ],
      "text/plain": [
       "          id  Gender        Age    Height      Weight  \\\n",
       "0          0    Male  24.443011  1.699998   81.669950   \n",
       "1          1  Female  18.000000  1.560000   57.000000   \n",
       "2          2  Female  18.000000  1.711460   50.165754   \n",
       "3          3  Female  20.952737  1.710730  131.274851   \n",
       "4          4    Male  31.641081  1.914186   93.798055   \n",
       "...      ...     ...        ...       ...         ...   \n",
       "20753  20753    Male  25.137087  1.766626  114.187096   \n",
       "20754  20754    Male  18.000000  1.710000   50.000000   \n",
       "20755  20755    Male  20.101026  1.819557  105.580491   \n",
       "20756  20756    Male  33.852953  1.700000   83.520113   \n",
       "20757  20757    Male  26.680376  1.816547  118.134898   \n",
       "\n",
       "      family_history_with_overweight FAVC      FCVC       NCP        CAEC  \\\n",
       "0                                yes  yes  2.000000  2.983297   Sometimes   \n",
       "1                                yes  yes  2.000000  3.000000  Frequently   \n",
       "2                                yes  yes  1.880534  1.411685   Sometimes   \n",
       "3                                yes  yes  3.000000  3.000000   Sometimes   \n",
       "4                                yes  yes  2.679664  1.971472   Sometimes   \n",
       "...                              ...  ...       ...       ...         ...   \n",
       "20753                            yes  yes  2.919584  3.000000   Sometimes   \n",
       "20754                             no  yes  3.000000  4.000000  Frequently   \n",
       "20755                            yes  yes  2.407817  3.000000   Sometimes   \n",
       "20756                            yes  yes  2.671238  1.971472   Sometimes   \n",
       "20757                            yes  yes  3.000000  3.000000   Sometimes   \n",
       "\n",
       "      SMOKE      CH2O SCC       FAF       TUE       CALC  \\\n",
       "0        no  2.763573  no  0.000000  0.976473  Sometimes   \n",
       "1        no  2.000000  no  1.000000  1.000000         no   \n",
       "2        no  1.910378  no  0.866045  1.673584         no   \n",
       "3        no  1.674061  no  1.467863  0.780199  Sometimes   \n",
       "4        no  1.979848  no  1.967973  0.931721  Sometimes   \n",
       "...     ...       ...  ..       ...       ...        ...   \n",
       "20753    no  2.151809  no  1.330519  0.196680  Sometimes   \n",
       "20754    no  1.000000  no  2.000000  1.000000  Sometimes   \n",
       "20755    no  2.000000  no  1.158040  1.198439         no   \n",
       "20756    no  2.144838  no  0.000000  0.973834         no   \n",
       "20757    no  2.003563  no  0.684487  0.713823  Sometimes   \n",
       "\n",
       "                      MTRANS           NObeyesdad  \n",
       "0      Public_Transportation  Overweight_Level_II  \n",
       "1                 Automobile        Normal_Weight  \n",
       "2      Public_Transportation  Insufficient_Weight  \n",
       "3      Public_Transportation     Obesity_Type_III  \n",
       "4      Public_Transportation  Overweight_Level_II  \n",
       "...                      ...                  ...  \n",
       "20753  Public_Transportation      Obesity_Type_II  \n",
       "20754  Public_Transportation  Insufficient_Weight  \n",
       "20755  Public_Transportation      Obesity_Type_II  \n",
       "20756             Automobile  Overweight_Level_II  \n",
       "20757  Public_Transportation      Obesity_Type_II  \n",
       "\n",
       "[20758 rows x 18 columns]"
      ]
     },
     "execution_count": 6,
     "metadata": {},
     "output_type": "execute_result"
    }
   ],
   "source": [
    "train_data"
   ]
  },
  {
   "cell_type": "code",
   "execution_count": 7,
   "id": "26a9db78",
   "metadata": {
    "execution": {
     "iopub.execute_input": "2024-02-08T15:37:20.442446Z",
     "iopub.status.busy": "2024-02-08T15:37:20.441688Z",
     "iopub.status.idle": "2024-02-08T15:37:20.467359Z",
     "shell.execute_reply": "2024-02-08T15:37:20.466375Z"
    },
    "papermill": {
     "duration": 0.050763,
     "end_time": "2024-02-08T15:37:20.470630",
     "exception": false,
     "start_time": "2024-02-08T15:37:20.419867",
     "status": "completed"
    },
    "tags": []
   },
   "outputs": [
    {
     "data": {
      "text/html": [
       "<div>\n",
       "<style scoped>\n",
       "    .dataframe tbody tr th:only-of-type {\n",
       "        vertical-align: middle;\n",
       "    }\n",
       "\n",
       "    .dataframe tbody tr th {\n",
       "        vertical-align: top;\n",
       "    }\n",
       "\n",
       "    .dataframe thead th {\n",
       "        text-align: right;\n",
       "    }\n",
       "</style>\n",
       "<table border=\"1\" class=\"dataframe\">\n",
       "  <thead>\n",
       "    <tr style=\"text-align: right;\">\n",
       "      <th></th>\n",
       "      <th>id</th>\n",
       "      <th>Gender</th>\n",
       "      <th>Age</th>\n",
       "      <th>Height</th>\n",
       "      <th>Weight</th>\n",
       "      <th>family_history_with_overweight</th>\n",
       "      <th>FAVC</th>\n",
       "      <th>FCVC</th>\n",
       "      <th>NCP</th>\n",
       "      <th>CAEC</th>\n",
       "      <th>SMOKE</th>\n",
       "      <th>CH2O</th>\n",
       "      <th>SCC</th>\n",
       "      <th>FAF</th>\n",
       "      <th>TUE</th>\n",
       "      <th>CALC</th>\n",
       "      <th>MTRANS</th>\n",
       "      <th>NObeyesdad</th>\n",
       "    </tr>\n",
       "  </thead>\n",
       "  <tbody>\n",
       "    <tr>\n",
       "      <th>0</th>\n",
       "      <td>0</td>\n",
       "      <td>Male</td>\n",
       "      <td>24.443011</td>\n",
       "      <td>1.699998</td>\n",
       "      <td>81.669950</td>\n",
       "      <td>yes</td>\n",
       "      <td>yes</td>\n",
       "      <td>2.000000</td>\n",
       "      <td>2.983297</td>\n",
       "      <td>Sometimes</td>\n",
       "      <td>no</td>\n",
       "      <td>2.763573</td>\n",
       "      <td>no</td>\n",
       "      <td>0.000000</td>\n",
       "      <td>0.976473</td>\n",
       "      <td>Sometimes</td>\n",
       "      <td>Public_Transportation</td>\n",
       "      <td>Overweight_Level_II</td>\n",
       "    </tr>\n",
       "    <tr>\n",
       "      <th>1</th>\n",
       "      <td>1</td>\n",
       "      <td>Female</td>\n",
       "      <td>18.000000</td>\n",
       "      <td>1.560000</td>\n",
       "      <td>57.000000</td>\n",
       "      <td>yes</td>\n",
       "      <td>yes</td>\n",
       "      <td>2.000000</td>\n",
       "      <td>3.000000</td>\n",
       "      <td>Frequently</td>\n",
       "      <td>no</td>\n",
       "      <td>2.000000</td>\n",
       "      <td>no</td>\n",
       "      <td>1.000000</td>\n",
       "      <td>1.000000</td>\n",
       "      <td>no</td>\n",
       "      <td>Automobile</td>\n",
       "      <td>Normal_Weight</td>\n",
       "    </tr>\n",
       "    <tr>\n",
       "      <th>2</th>\n",
       "      <td>2</td>\n",
       "      <td>Female</td>\n",
       "      <td>18.000000</td>\n",
       "      <td>1.711460</td>\n",
       "      <td>50.165754</td>\n",
       "      <td>yes</td>\n",
       "      <td>yes</td>\n",
       "      <td>1.880534</td>\n",
       "      <td>1.411685</td>\n",
       "      <td>Sometimes</td>\n",
       "      <td>no</td>\n",
       "      <td>1.910378</td>\n",
       "      <td>no</td>\n",
       "      <td>0.866045</td>\n",
       "      <td>1.673584</td>\n",
       "      <td>no</td>\n",
       "      <td>Public_Transportation</td>\n",
       "      <td>Insufficient_Weight</td>\n",
       "    </tr>\n",
       "    <tr>\n",
       "      <th>3</th>\n",
       "      <td>3</td>\n",
       "      <td>Female</td>\n",
       "      <td>20.952737</td>\n",
       "      <td>1.710730</td>\n",
       "      <td>131.274851</td>\n",
       "      <td>yes</td>\n",
       "      <td>yes</td>\n",
       "      <td>3.000000</td>\n",
       "      <td>3.000000</td>\n",
       "      <td>Sometimes</td>\n",
       "      <td>no</td>\n",
       "      <td>1.674061</td>\n",
       "      <td>no</td>\n",
       "      <td>1.467863</td>\n",
       "      <td>0.780199</td>\n",
       "      <td>Sometimes</td>\n",
       "      <td>Public_Transportation</td>\n",
       "      <td>Obesity_Type_III</td>\n",
       "    </tr>\n",
       "    <tr>\n",
       "      <th>4</th>\n",
       "      <td>4</td>\n",
       "      <td>Male</td>\n",
       "      <td>31.641081</td>\n",
       "      <td>1.914186</td>\n",
       "      <td>93.798055</td>\n",
       "      <td>yes</td>\n",
       "      <td>yes</td>\n",
       "      <td>2.679664</td>\n",
       "      <td>1.971472</td>\n",
       "      <td>Sometimes</td>\n",
       "      <td>no</td>\n",
       "      <td>1.979848</td>\n",
       "      <td>no</td>\n",
       "      <td>1.967973</td>\n",
       "      <td>0.931721</td>\n",
       "      <td>Sometimes</td>\n",
       "      <td>Public_Transportation</td>\n",
       "      <td>Overweight_Level_II</td>\n",
       "    </tr>\n",
       "  </tbody>\n",
       "</table>\n",
       "</div>"
      ],
      "text/plain": [
       "   id  Gender        Age    Height      Weight family_history_with_overweight  \\\n",
       "0   0    Male  24.443011  1.699998   81.669950                            yes   \n",
       "1   1  Female  18.000000  1.560000   57.000000                            yes   \n",
       "2   2  Female  18.000000  1.711460   50.165754                            yes   \n",
       "3   3  Female  20.952737  1.710730  131.274851                            yes   \n",
       "4   4    Male  31.641081  1.914186   93.798055                            yes   \n",
       "\n",
       "  FAVC      FCVC       NCP        CAEC SMOKE      CH2O SCC       FAF  \\\n",
       "0  yes  2.000000  2.983297   Sometimes    no  2.763573  no  0.000000   \n",
       "1  yes  2.000000  3.000000  Frequently    no  2.000000  no  1.000000   \n",
       "2  yes  1.880534  1.411685   Sometimes    no  1.910378  no  0.866045   \n",
       "3  yes  3.000000  3.000000   Sometimes    no  1.674061  no  1.467863   \n",
       "4  yes  2.679664  1.971472   Sometimes    no  1.979848  no  1.967973   \n",
       "\n",
       "        TUE       CALC                 MTRANS           NObeyesdad  \n",
       "0  0.976473  Sometimes  Public_Transportation  Overweight_Level_II  \n",
       "1  1.000000         no             Automobile        Normal_Weight  \n",
       "2  1.673584         no  Public_Transportation  Insufficient_Weight  \n",
       "3  0.780199  Sometimes  Public_Transportation     Obesity_Type_III  \n",
       "4  0.931721  Sometimes  Public_Transportation  Overweight_Level_II  "
      ]
     },
     "execution_count": 7,
     "metadata": {},
     "output_type": "execute_result"
    }
   ],
   "source": [
    "train_data.head()"
   ]
  },
  {
   "cell_type": "code",
   "execution_count": 8,
   "id": "32fe8243",
   "metadata": {
    "execution": {
     "iopub.execute_input": "2024-02-08T15:37:20.516036Z",
     "iopub.status.busy": "2024-02-08T15:37:20.515577Z",
     "iopub.status.idle": "2024-02-08T15:37:20.570723Z",
     "shell.execute_reply": "2024-02-08T15:37:20.569329Z"
    },
    "papermill": {
     "duration": 0.081379,
     "end_time": "2024-02-08T15:37:20.573720",
     "exception": false,
     "start_time": "2024-02-08T15:37:20.492341",
     "status": "completed"
    },
    "tags": []
   },
   "outputs": [
    {
     "name": "stdout",
     "output_type": "stream",
     "text": [
      "<class 'pandas.core.frame.DataFrame'>\n",
      "RangeIndex: 20758 entries, 0 to 20757\n",
      "Data columns (total 18 columns):\n",
      " #   Column                          Non-Null Count  Dtype  \n",
      "---  ------                          --------------  -----  \n",
      " 0   id                              20758 non-null  int64  \n",
      " 1   Gender                          20758 non-null  object \n",
      " 2   Age                             20758 non-null  float64\n",
      " 3   Height                          20758 non-null  float64\n",
      " 4   Weight                          20758 non-null  float64\n",
      " 5   family_history_with_overweight  20758 non-null  object \n",
      " 6   FAVC                            20758 non-null  object \n",
      " 7   FCVC                            20758 non-null  float64\n",
      " 8   NCP                             20758 non-null  float64\n",
      " 9   CAEC                            20758 non-null  object \n",
      " 10  SMOKE                           20758 non-null  object \n",
      " 11  CH2O                            20758 non-null  float64\n",
      " 12  SCC                             20758 non-null  object \n",
      " 13  FAF                             20758 non-null  float64\n",
      " 14  TUE                             20758 non-null  float64\n",
      " 15  CALC                            20758 non-null  object \n",
      " 16  MTRANS                          20758 non-null  object \n",
      " 17  NObeyesdad                      20758 non-null  object \n",
      "dtypes: float64(8), int64(1), object(9)\n",
      "memory usage: 2.9+ MB\n"
     ]
    }
   ],
   "source": [
    "train_data.info()"
   ]
  },
  {
   "cell_type": "code",
   "execution_count": 9,
   "id": "b9da00ed",
   "metadata": {
    "execution": {
     "iopub.execute_input": "2024-02-08T15:37:20.616947Z",
     "iopub.status.busy": "2024-02-08T15:37:20.615384Z",
     "iopub.status.idle": "2024-02-08T15:37:20.624399Z",
     "shell.execute_reply": "2024-02-08T15:37:20.623142Z"
    },
    "papermill": {
     "duration": 0.033237,
     "end_time": "2024-02-08T15:37:20.627147",
     "exception": false,
     "start_time": "2024-02-08T15:37:20.593910",
     "status": "completed"
    },
    "tags": []
   },
   "outputs": [
    {
     "data": {
      "text/plain": [
       "(20758, 18)"
      ]
     },
     "execution_count": 9,
     "metadata": {},
     "output_type": "execute_result"
    }
   ],
   "source": [
    "train_data.shape"
   ]
  },
  {
   "cell_type": "code",
   "execution_count": 10,
   "id": "e4dc0438",
   "metadata": {
    "execution": {
     "iopub.execute_input": "2024-02-08T15:37:20.670758Z",
     "iopub.status.busy": "2024-02-08T15:37:20.670111Z",
     "iopub.status.idle": "2024-02-08T15:37:20.679470Z",
     "shell.execute_reply": "2024-02-08T15:37:20.678154Z"
    },
    "papermill": {
     "duration": 0.034496,
     "end_time": "2024-02-08T15:37:20.681827",
     "exception": false,
     "start_time": "2024-02-08T15:37:20.647331",
     "status": "completed"
    },
    "tags": []
   },
   "outputs": [
    {
     "data": {
      "text/plain": [
       "Index(['id', 'Gender', 'Age', 'Height', 'Weight',\n",
       "       'family_history_with_overweight', 'FAVC', 'FCVC', 'NCP', 'CAEC',\n",
       "       'SMOKE', 'CH2O', 'SCC', 'FAF', 'TUE', 'CALC', 'MTRANS', 'NObeyesdad'],\n",
       "      dtype='object')"
      ]
     },
     "execution_count": 10,
     "metadata": {},
     "output_type": "execute_result"
    }
   ],
   "source": [
    "train_data.columns"
   ]
  },
  {
   "cell_type": "code",
   "execution_count": 11,
   "id": "b09a1918",
   "metadata": {
    "execution": {
     "iopub.execute_input": "2024-02-08T15:37:20.726483Z",
     "iopub.status.busy": "2024-02-08T15:37:20.725923Z",
     "iopub.status.idle": "2024-02-08T15:37:20.782001Z",
     "shell.execute_reply": "2024-02-08T15:37:20.780977Z"
    },
    "papermill": {
     "duration": 0.081264,
     "end_time": "2024-02-08T15:37:20.784603",
     "exception": false,
     "start_time": "2024-02-08T15:37:20.703339",
     "status": "completed"
    },
    "tags": []
   },
   "outputs": [
    {
     "data": {
      "text/html": [
       "<div>\n",
       "<style scoped>\n",
       "    .dataframe tbody tr th:only-of-type {\n",
       "        vertical-align: middle;\n",
       "    }\n",
       "\n",
       "    .dataframe tbody tr th {\n",
       "        vertical-align: top;\n",
       "    }\n",
       "\n",
       "    .dataframe thead th {\n",
       "        text-align: right;\n",
       "    }\n",
       "</style>\n",
       "<table border=\"1\" class=\"dataframe\">\n",
       "  <thead>\n",
       "    <tr style=\"text-align: right;\">\n",
       "      <th></th>\n",
       "      <th>id</th>\n",
       "      <th>Age</th>\n",
       "      <th>Height</th>\n",
       "      <th>Weight</th>\n",
       "      <th>FCVC</th>\n",
       "      <th>NCP</th>\n",
       "      <th>CH2O</th>\n",
       "      <th>FAF</th>\n",
       "      <th>TUE</th>\n",
       "    </tr>\n",
       "  </thead>\n",
       "  <tbody>\n",
       "    <tr>\n",
       "      <th>count</th>\n",
       "      <td>20758.00000</td>\n",
       "      <td>20758.000000</td>\n",
       "      <td>20758.000000</td>\n",
       "      <td>20758.000000</td>\n",
       "      <td>20758.000000</td>\n",
       "      <td>20758.000000</td>\n",
       "      <td>20758.000000</td>\n",
       "      <td>20758.000000</td>\n",
       "      <td>20758.000000</td>\n",
       "    </tr>\n",
       "    <tr>\n",
       "      <th>mean</th>\n",
       "      <td>10378.50000</td>\n",
       "      <td>23.841804</td>\n",
       "      <td>1.700245</td>\n",
       "      <td>87.887768</td>\n",
       "      <td>2.445908</td>\n",
       "      <td>2.761332</td>\n",
       "      <td>2.029418</td>\n",
       "      <td>0.981747</td>\n",
       "      <td>0.616756</td>\n",
       "    </tr>\n",
       "    <tr>\n",
       "      <th>std</th>\n",
       "      <td>5992.46278</td>\n",
       "      <td>5.688072</td>\n",
       "      <td>0.087312</td>\n",
       "      <td>26.379443</td>\n",
       "      <td>0.533218</td>\n",
       "      <td>0.705375</td>\n",
       "      <td>0.608467</td>\n",
       "      <td>0.838302</td>\n",
       "      <td>0.602113</td>\n",
       "    </tr>\n",
       "    <tr>\n",
       "      <th>min</th>\n",
       "      <td>0.00000</td>\n",
       "      <td>14.000000</td>\n",
       "      <td>1.450000</td>\n",
       "      <td>39.000000</td>\n",
       "      <td>1.000000</td>\n",
       "      <td>1.000000</td>\n",
       "      <td>1.000000</td>\n",
       "      <td>0.000000</td>\n",
       "      <td>0.000000</td>\n",
       "    </tr>\n",
       "    <tr>\n",
       "      <th>25%</th>\n",
       "      <td>5189.25000</td>\n",
       "      <td>20.000000</td>\n",
       "      <td>1.631856</td>\n",
       "      <td>66.000000</td>\n",
       "      <td>2.000000</td>\n",
       "      <td>3.000000</td>\n",
       "      <td>1.792022</td>\n",
       "      <td>0.008013</td>\n",
       "      <td>0.000000</td>\n",
       "    </tr>\n",
       "    <tr>\n",
       "      <th>50%</th>\n",
       "      <td>10378.50000</td>\n",
       "      <td>22.815416</td>\n",
       "      <td>1.700000</td>\n",
       "      <td>84.064875</td>\n",
       "      <td>2.393837</td>\n",
       "      <td>3.000000</td>\n",
       "      <td>2.000000</td>\n",
       "      <td>1.000000</td>\n",
       "      <td>0.573887</td>\n",
       "    </tr>\n",
       "    <tr>\n",
       "      <th>75%</th>\n",
       "      <td>15567.75000</td>\n",
       "      <td>26.000000</td>\n",
       "      <td>1.762887</td>\n",
       "      <td>111.600553</td>\n",
       "      <td>3.000000</td>\n",
       "      <td>3.000000</td>\n",
       "      <td>2.549617</td>\n",
       "      <td>1.587406</td>\n",
       "      <td>1.000000</td>\n",
       "    </tr>\n",
       "    <tr>\n",
       "      <th>max</th>\n",
       "      <td>20757.00000</td>\n",
       "      <td>61.000000</td>\n",
       "      <td>1.975663</td>\n",
       "      <td>165.057269</td>\n",
       "      <td>3.000000</td>\n",
       "      <td>4.000000</td>\n",
       "      <td>3.000000</td>\n",
       "      <td>3.000000</td>\n",
       "      <td>2.000000</td>\n",
       "    </tr>\n",
       "  </tbody>\n",
       "</table>\n",
       "</div>"
      ],
      "text/plain": [
       "                id           Age        Height        Weight          FCVC  \\\n",
       "count  20758.00000  20758.000000  20758.000000  20758.000000  20758.000000   \n",
       "mean   10378.50000     23.841804      1.700245     87.887768      2.445908   \n",
       "std     5992.46278      5.688072      0.087312     26.379443      0.533218   \n",
       "min        0.00000     14.000000      1.450000     39.000000      1.000000   \n",
       "25%     5189.25000     20.000000      1.631856     66.000000      2.000000   \n",
       "50%    10378.50000     22.815416      1.700000     84.064875      2.393837   \n",
       "75%    15567.75000     26.000000      1.762887    111.600553      3.000000   \n",
       "max    20757.00000     61.000000      1.975663    165.057269      3.000000   \n",
       "\n",
       "                NCP          CH2O           FAF           TUE  \n",
       "count  20758.000000  20758.000000  20758.000000  20758.000000  \n",
       "mean       2.761332      2.029418      0.981747      0.616756  \n",
       "std        0.705375      0.608467      0.838302      0.602113  \n",
       "min        1.000000      1.000000      0.000000      0.000000  \n",
       "25%        3.000000      1.792022      0.008013      0.000000  \n",
       "50%        3.000000      2.000000      1.000000      0.573887  \n",
       "75%        3.000000      2.549617      1.587406      1.000000  \n",
       "max        4.000000      3.000000      3.000000      2.000000  "
      ]
     },
     "execution_count": 11,
     "metadata": {},
     "output_type": "execute_result"
    }
   ],
   "source": [
    "train_data.describe()"
   ]
  },
  {
   "cell_type": "code",
   "execution_count": 12,
   "id": "1f33a9c8",
   "metadata": {
    "execution": {
     "iopub.execute_input": "2024-02-08T15:37:20.829574Z",
     "iopub.status.busy": "2024-02-08T15:37:20.827441Z",
     "iopub.status.idle": "2024-02-08T15:37:20.860402Z",
     "shell.execute_reply": "2024-02-08T15:37:20.858625Z"
    },
    "papermill": {
     "duration": 0.058186,
     "end_time": "2024-02-08T15:37:20.863225",
     "exception": false,
     "start_time": "2024-02-08T15:37:20.805039",
     "status": "completed"
    },
    "tags": []
   },
   "outputs": [
    {
     "data": {
      "text/plain": [
       "id                                0\n",
       "Gender                            0\n",
       "Age                               0\n",
       "Height                            0\n",
       "Weight                            0\n",
       "family_history_with_overweight    0\n",
       "FAVC                              0\n",
       "FCVC                              0\n",
       "NCP                               0\n",
       "CAEC                              0\n",
       "SMOKE                             0\n",
       "CH2O                              0\n",
       "SCC                               0\n",
       "FAF                               0\n",
       "TUE                               0\n",
       "CALC                              0\n",
       "MTRANS                            0\n",
       "NObeyesdad                        0\n",
       "dtype: int64"
      ]
     },
     "execution_count": 12,
     "metadata": {},
     "output_type": "execute_result"
    }
   ],
   "source": [
    "train_data.isnull().sum()"
   ]
  },
  {
   "cell_type": "code",
   "execution_count": 13,
   "id": "af41531a",
   "metadata": {
    "execution": {
     "iopub.execute_input": "2024-02-08T15:37:20.907499Z",
     "iopub.status.busy": "2024-02-08T15:37:20.907043Z",
     "iopub.status.idle": "2024-02-08T15:37:20.913070Z",
     "shell.execute_reply": "2024-02-08T15:37:20.911769Z"
    },
    "papermill": {
     "duration": 0.031475,
     "end_time": "2024-02-08T15:37:20.915919",
     "exception": false,
     "start_time": "2024-02-08T15:37:20.884444",
     "status": "completed"
    },
    "tags": []
   },
   "outputs": [],
   "source": [
    "features=['Age', 'Height', 'Weight', 'FCVC', 'NCP', 'CH2O', 'FAF', 'TUE',\n",
    "         'Gender','family_history_with_overweight', 'FAVC',\n",
    "       'SMOKE','SCC','CALC']"
   ]
  },
  {
   "cell_type": "code",
   "execution_count": 14,
   "id": "027892c9",
   "metadata": {
    "execution": {
     "iopub.execute_input": "2024-02-08T15:37:20.961580Z",
     "iopub.status.busy": "2024-02-08T15:37:20.961148Z",
     "iopub.status.idle": "2024-02-08T15:37:20.966503Z",
     "shell.execute_reply": "2024-02-08T15:37:20.964893Z"
    },
    "papermill": {
     "duration": 0.032549,
     "end_time": "2024-02-08T15:37:20.969978",
     "exception": false,
     "start_time": "2024-02-08T15:37:20.937429",
     "status": "completed"
    },
    "tags": []
   },
   "outputs": [],
   "source": [
    "ytrain_data=train_data['NObeyesdad']"
   ]
  },
  {
   "cell_type": "code",
   "execution_count": 15,
   "id": "efd283ab",
   "metadata": {
    "execution": {
     "iopub.execute_input": "2024-02-08T15:37:21.017504Z",
     "iopub.status.busy": "2024-02-08T15:37:21.016399Z",
     "iopub.status.idle": "2024-02-08T15:37:21.026790Z",
     "shell.execute_reply": "2024-02-08T15:37:21.025103Z"
    },
    "papermill": {
     "duration": 0.037346,
     "end_time": "2024-02-08T15:37:21.029651",
     "exception": false,
     "start_time": "2024-02-08T15:37:20.992305",
     "status": "completed"
    },
    "tags": []
   },
   "outputs": [
    {
     "data": {
      "text/plain": [
       "0        Overweight_Level_II\n",
       "1              Normal_Weight\n",
       "2        Insufficient_Weight\n",
       "3           Obesity_Type_III\n",
       "4        Overweight_Level_II\n",
       "                ...         \n",
       "20753        Obesity_Type_II\n",
       "20754    Insufficient_Weight\n",
       "20755        Obesity_Type_II\n",
       "20756    Overweight_Level_II\n",
       "20757        Obesity_Type_II\n",
       "Name: NObeyesdad, Length: 20758, dtype: object"
      ]
     },
     "execution_count": 15,
     "metadata": {},
     "output_type": "execute_result"
    }
   ],
   "source": [
    "ytrain_data"
   ]
  },
  {
   "cell_type": "code",
   "execution_count": 16,
   "id": "24a595c0",
   "metadata": {
    "execution": {
     "iopub.execute_input": "2024-02-08T15:37:21.074398Z",
     "iopub.status.busy": "2024-02-08T15:37:21.073751Z",
     "iopub.status.idle": "2024-02-08T15:37:21.082891Z",
     "shell.execute_reply": "2024-02-08T15:37:21.081644Z"
    },
    "papermill": {
     "duration": 0.034349,
     "end_time": "2024-02-08T15:37:21.085621",
     "exception": false,
     "start_time": "2024-02-08T15:37:21.051272",
     "status": "completed"
    },
    "tags": []
   },
   "outputs": [],
   "source": [
    "train_df=train_data[features]"
   ]
  },
  {
   "cell_type": "code",
   "execution_count": 17,
   "id": "512d155c",
   "metadata": {
    "execution": {
     "iopub.execute_input": "2024-02-08T15:37:21.131208Z",
     "iopub.status.busy": "2024-02-08T15:37:21.130064Z",
     "iopub.status.idle": "2024-02-08T15:37:21.138446Z",
     "shell.execute_reply": "2024-02-08T15:37:21.136791Z"
    },
    "papermill": {
     "duration": 0.035144,
     "end_time": "2024-02-08T15:37:21.142037",
     "exception": false,
     "start_time": "2024-02-08T15:37:21.106893",
     "status": "completed"
    },
    "tags": []
   },
   "outputs": [
    {
     "data": {
      "text/plain": [
       "(20758, 14)"
      ]
     },
     "execution_count": 17,
     "metadata": {},
     "output_type": "execute_result"
    }
   ],
   "source": [
    "train_df.shape"
   ]
  },
  {
   "cell_type": "code",
   "execution_count": 18,
   "id": "cc9b0823",
   "metadata": {
    "execution": {
     "iopub.execute_input": "2024-02-08T15:37:21.189993Z",
     "iopub.status.busy": "2024-02-08T15:37:21.189562Z",
     "iopub.status.idle": "2024-02-08T15:37:21.198444Z",
     "shell.execute_reply": "2024-02-08T15:37:21.196829Z"
    },
    "papermill": {
     "duration": 0.036486,
     "end_time": "2024-02-08T15:37:21.201608",
     "exception": false,
     "start_time": "2024-02-08T15:37:21.165122",
     "status": "completed"
    },
    "tags": []
   },
   "outputs": [
    {
     "data": {
      "text/plain": [
       "(20758,)"
      ]
     },
     "execution_count": 18,
     "metadata": {},
     "output_type": "execute_result"
    }
   ],
   "source": [
    "ytrain_data.shape"
   ]
  },
  {
   "cell_type": "code",
   "execution_count": 19,
   "id": "c8b8cbd9",
   "metadata": {
    "execution": {
     "iopub.execute_input": "2024-02-08T15:37:21.248349Z",
     "iopub.status.busy": "2024-02-08T15:37:21.247786Z",
     "iopub.status.idle": "2024-02-08T15:37:21.280901Z",
     "shell.execute_reply": "2024-02-08T15:37:21.279697Z"
    },
    "papermill": {
     "duration": 0.060556,
     "end_time": "2024-02-08T15:37:21.284294",
     "exception": false,
     "start_time": "2024-02-08T15:37:21.223738",
     "status": "completed"
    },
    "tags": []
   },
   "outputs": [
    {
     "data": {
      "text/plain": [
       "0        0\n",
       "1        4\n",
       "2        6\n",
       "3        3\n",
       "4        0\n",
       "        ..\n",
       "20753    1\n",
       "20754    6\n",
       "20755    1\n",
       "20756    0\n",
       "20757    1\n",
       "Name: NObeyesdad, Length: 20758, dtype: int64"
      ]
     },
     "execution_count": 19,
     "metadata": {},
     "output_type": "execute_result"
    }
   ],
   "source": [
    "categories = ['Overweight_Level_II', 'Obesity_Type_II', 'Obesity_Type_I',\n",
    "       'Obesity_Type_III', 'Normal_Weight', 'Overweight_Level_I',\n",
    "       'Insufficient_Weight']\n",
    "\n",
    "# Create a DataFrame with categorical data\n",
    "ytrain = pd.DataFrame({'NObeyesdad ': categories})\n",
    "\n",
    "# Define the mapping function\n",
    "def map_to_numerical(NObeyesdad ):\n",
    "    return categories.index(NObeyesdad)\n",
    "\n",
    "# Apply the mapping function to create a new numerical column\n",
    "ytrain = ytrain_data.apply(map_to_numerical)\n",
    "ytrain"
   ]
  },
  {
   "cell_type": "code",
   "execution_count": 20,
   "id": "d31a85c0",
   "metadata": {
    "execution": {
     "iopub.execute_input": "2024-02-08T15:37:21.330619Z",
     "iopub.status.busy": "2024-02-08T15:37:21.330109Z",
     "iopub.status.idle": "2024-02-08T15:37:21.346521Z",
     "shell.execute_reply": "2024-02-08T15:37:21.344816Z"
    },
    "papermill": {
     "duration": 0.043467,
     "end_time": "2024-02-08T15:37:21.350037",
     "exception": false,
     "start_time": "2024-02-08T15:37:21.306570",
     "status": "completed"
    },
    "tags": []
   },
   "outputs": [],
   "source": [
    "xtrain,xval,ytrain,yval=train_test_split(train_df,ytrain,test_size=0.1, random_state=1)"
   ]
  },
  {
   "cell_type": "code",
   "execution_count": 21,
   "id": "a31365a7",
   "metadata": {
    "execution": {
     "iopub.execute_input": "2024-02-08T15:37:21.402339Z",
     "iopub.status.busy": "2024-02-08T15:37:21.401125Z",
     "iopub.status.idle": "2024-02-08T15:37:21.408449Z",
     "shell.execute_reply": "2024-02-08T15:37:21.407031Z"
    },
    "papermill": {
     "duration": 0.036763,
     "end_time": "2024-02-08T15:37:21.411602",
     "exception": false,
     "start_time": "2024-02-08T15:37:21.374839",
     "status": "completed"
    },
    "tags": []
   },
   "outputs": [
    {
     "name": "stdout",
     "output_type": "stream",
     "text": [
      "(18682, 14)\n",
      "(2076, 14)\n",
      "(18682,)\n",
      "(2076,)\n"
     ]
    }
   ],
   "source": [
    "print(xtrain.shape)\n",
    "print(xval.shape)\n",
    "print(ytrain.shape)\n",
    "print(yval.shape)"
   ]
  },
  {
   "cell_type": "code",
   "execution_count": 22,
   "id": "b9065143",
   "metadata": {
    "execution": {
     "iopub.execute_input": "2024-02-08T15:37:21.529857Z",
     "iopub.status.busy": "2024-02-08T15:37:21.529326Z",
     "iopub.status.idle": "2024-02-08T15:37:21.541673Z",
     "shell.execute_reply": "2024-02-08T15:37:21.540232Z"
    },
    "papermill": {
     "duration": 0.11028,
     "end_time": "2024-02-08T15:37:21.544642",
     "exception": false,
     "start_time": "2024-02-08T15:37:21.434362",
     "status": "completed"
    },
    "tags": []
   },
   "outputs": [
    {
     "data": {
      "text/plain": [
       "array([0, 1, 2, 3, 4, 5, 6])"
      ]
     },
     "execution_count": 22,
     "metadata": {},
     "output_type": "execute_result"
    }
   ],
   "source": [
    "ytrain.unique()"
   ]
  },
  {
   "cell_type": "code",
   "execution_count": 23,
   "id": "6435919a",
   "metadata": {
    "execution": {
     "iopub.execute_input": "2024-02-08T15:37:21.592220Z",
     "iopub.status.busy": "2024-02-08T15:37:21.591774Z",
     "iopub.status.idle": "2024-02-08T15:37:21.599997Z",
     "shell.execute_reply": "2024-02-08T15:37:21.598039Z"
    },
    "papermill": {
     "duration": 0.03719,
     "end_time": "2024-02-08T15:37:21.604470",
     "exception": false,
     "start_time": "2024-02-08T15:37:21.567280",
     "status": "completed"
    },
    "tags": []
   },
   "outputs": [],
   "source": [
    "model=RandomForestClassifier(n_estimators=100, random_state=42)\n",
    "model1=DecisionTreeClassifier(max_depth=11, random_state=1)\n",
    "model2=LogisticRegression()\n",
    "model3=XGBClassifier(max_depth=11, random_state=1)\n",
    "model4=LGBMClassifier(max_depth=11, random_state=1)"
   ]
  },
  {
   "cell_type": "code",
   "execution_count": 24,
   "id": "4fb78c82",
   "metadata": {
    "execution": {
     "iopub.execute_input": "2024-02-08T15:37:21.652012Z",
     "iopub.status.busy": "2024-02-08T15:37:21.651517Z",
     "iopub.status.idle": "2024-02-08T15:37:21.663848Z",
     "shell.execute_reply": "2024-02-08T15:37:21.662415Z"
    },
    "papermill": {
     "duration": 0.040265,
     "end_time": "2024-02-08T15:37:21.667208",
     "exception": false,
     "start_time": "2024-02-08T15:37:21.626943",
     "status": "completed"
    },
    "tags": []
   },
   "outputs": [
    {
     "data": {
      "text/html": [
       "<style>#sk-container-id-1 {color: black;background-color: white;}#sk-container-id-1 pre{padding: 0;}#sk-container-id-1 div.sk-toggleable {background-color: white;}#sk-container-id-1 label.sk-toggleable__label {cursor: pointer;display: block;width: 100%;margin-bottom: 0;padding: 0.3em;box-sizing: border-box;text-align: center;}#sk-container-id-1 label.sk-toggleable__label-arrow:before {content: \"▸\";float: left;margin-right: 0.25em;color: #696969;}#sk-container-id-1 label.sk-toggleable__label-arrow:hover:before {color: black;}#sk-container-id-1 div.sk-estimator:hover label.sk-toggleable__label-arrow:before {color: black;}#sk-container-id-1 div.sk-toggleable__content {max-height: 0;max-width: 0;overflow: hidden;text-align: left;background-color: #f0f8ff;}#sk-container-id-1 div.sk-toggleable__content pre {margin: 0.2em;color: black;border-radius: 0.25em;background-color: #f0f8ff;}#sk-container-id-1 input.sk-toggleable__control:checked~div.sk-toggleable__content {max-height: 200px;max-width: 100%;overflow: auto;}#sk-container-id-1 input.sk-toggleable__control:checked~label.sk-toggleable__label-arrow:before {content: \"▾\";}#sk-container-id-1 div.sk-estimator input.sk-toggleable__control:checked~label.sk-toggleable__label {background-color: #d4ebff;}#sk-container-id-1 div.sk-label input.sk-toggleable__control:checked~label.sk-toggleable__label {background-color: #d4ebff;}#sk-container-id-1 input.sk-hidden--visually {border: 0;clip: rect(1px 1px 1px 1px);clip: rect(1px, 1px, 1px, 1px);height: 1px;margin: -1px;overflow: hidden;padding: 0;position: absolute;width: 1px;}#sk-container-id-1 div.sk-estimator {font-family: monospace;background-color: #f0f8ff;border: 1px dotted black;border-radius: 0.25em;box-sizing: border-box;margin-bottom: 0.5em;}#sk-container-id-1 div.sk-estimator:hover {background-color: #d4ebff;}#sk-container-id-1 div.sk-parallel-item::after {content: \"\";width: 100%;border-bottom: 1px solid gray;flex-grow: 1;}#sk-container-id-1 div.sk-label:hover label.sk-toggleable__label {background-color: #d4ebff;}#sk-container-id-1 div.sk-serial::before {content: \"\";position: absolute;border-left: 1px solid gray;box-sizing: border-box;top: 0;bottom: 0;left: 50%;z-index: 0;}#sk-container-id-1 div.sk-serial {display: flex;flex-direction: column;align-items: center;background-color: white;padding-right: 0.2em;padding-left: 0.2em;position: relative;}#sk-container-id-1 div.sk-item {position: relative;z-index: 1;}#sk-container-id-1 div.sk-parallel {display: flex;align-items: stretch;justify-content: center;background-color: white;position: relative;}#sk-container-id-1 div.sk-item::before, #sk-container-id-1 div.sk-parallel-item::before {content: \"\";position: absolute;border-left: 1px solid gray;box-sizing: border-box;top: 0;bottom: 0;left: 50%;z-index: -1;}#sk-container-id-1 div.sk-parallel-item {display: flex;flex-direction: column;z-index: 1;position: relative;background-color: white;}#sk-container-id-1 div.sk-parallel-item:first-child::after {align-self: flex-end;width: 50%;}#sk-container-id-1 div.sk-parallel-item:last-child::after {align-self: flex-start;width: 50%;}#sk-container-id-1 div.sk-parallel-item:only-child::after {width: 0;}#sk-container-id-1 div.sk-dashed-wrapped {border: 1px dashed gray;margin: 0 0.4em 0.5em 0.4em;box-sizing: border-box;padding-bottom: 0.4em;background-color: white;}#sk-container-id-1 div.sk-label label {font-family: monospace;font-weight: bold;display: inline-block;line-height: 1.2em;}#sk-container-id-1 div.sk-label-container {text-align: center;}#sk-container-id-1 div.sk-container {/* jupyter's `normalize.less` sets `[hidden] { display: none; }` but bootstrap.min.css set `[hidden] { display: none !important; }` so we also need the `!important` here to be able to override the default hidden behavior on the sphinx rendered scikit-learn.org. See: https://github.com/scikit-learn/scikit-learn/issues/21755 */display: inline-block !important;position: relative;}#sk-container-id-1 div.sk-text-repr-fallback {display: none;}</style><div id=\"sk-container-id-1\" class=\"sk-top-container\"><div class=\"sk-text-repr-fallback\"><pre>RandomForestClassifier(random_state=42)</pre><b>In a Jupyter environment, please rerun this cell to show the HTML representation or trust the notebook. <br />On GitHub, the HTML representation is unable to render, please try loading this page with nbviewer.org.</b></div><div class=\"sk-container\" hidden><div class=\"sk-item\"><div class=\"sk-estimator sk-toggleable\"><input class=\"sk-toggleable__control sk-hidden--visually\" id=\"sk-estimator-id-1\" type=\"checkbox\" checked><label for=\"sk-estimator-id-1\" class=\"sk-toggleable__label sk-toggleable__label-arrow\">RandomForestClassifier</label><div class=\"sk-toggleable__content\"><pre>RandomForestClassifier(random_state=42)</pre></div></div></div></div></div>"
      ],
      "text/plain": [
       "RandomForestClassifier(random_state=42)"
      ]
     },
     "execution_count": 24,
     "metadata": {},
     "output_type": "execute_result"
    }
   ],
   "source": [
    "model"
   ]
  },
  {
   "cell_type": "code",
   "execution_count": 25,
   "id": "d565680a",
   "metadata": {
    "execution": {
     "iopub.execute_input": "2024-02-08T15:37:21.714011Z",
     "iopub.status.busy": "2024-02-08T15:37:21.713581Z",
     "iopub.status.idle": "2024-02-08T15:37:21.722245Z",
     "shell.execute_reply": "2024-02-08T15:37:21.720652Z"
    },
    "papermill": {
     "duration": 0.036123,
     "end_time": "2024-02-08T15:37:21.725278",
     "exception": false,
     "start_time": "2024-02-08T15:37:21.689155",
     "status": "completed"
    },
    "tags": []
   },
   "outputs": [
    {
     "data": {
      "text/html": [
       "<style>#sk-container-id-2 {color: black;background-color: white;}#sk-container-id-2 pre{padding: 0;}#sk-container-id-2 div.sk-toggleable {background-color: white;}#sk-container-id-2 label.sk-toggleable__label {cursor: pointer;display: block;width: 100%;margin-bottom: 0;padding: 0.3em;box-sizing: border-box;text-align: center;}#sk-container-id-2 label.sk-toggleable__label-arrow:before {content: \"▸\";float: left;margin-right: 0.25em;color: #696969;}#sk-container-id-2 label.sk-toggleable__label-arrow:hover:before {color: black;}#sk-container-id-2 div.sk-estimator:hover label.sk-toggleable__label-arrow:before {color: black;}#sk-container-id-2 div.sk-toggleable__content {max-height: 0;max-width: 0;overflow: hidden;text-align: left;background-color: #f0f8ff;}#sk-container-id-2 div.sk-toggleable__content pre {margin: 0.2em;color: black;border-radius: 0.25em;background-color: #f0f8ff;}#sk-container-id-2 input.sk-toggleable__control:checked~div.sk-toggleable__content {max-height: 200px;max-width: 100%;overflow: auto;}#sk-container-id-2 input.sk-toggleable__control:checked~label.sk-toggleable__label-arrow:before {content: \"▾\";}#sk-container-id-2 div.sk-estimator input.sk-toggleable__control:checked~label.sk-toggleable__label {background-color: #d4ebff;}#sk-container-id-2 div.sk-label input.sk-toggleable__control:checked~label.sk-toggleable__label {background-color: #d4ebff;}#sk-container-id-2 input.sk-hidden--visually {border: 0;clip: rect(1px 1px 1px 1px);clip: rect(1px, 1px, 1px, 1px);height: 1px;margin: -1px;overflow: hidden;padding: 0;position: absolute;width: 1px;}#sk-container-id-2 div.sk-estimator {font-family: monospace;background-color: #f0f8ff;border: 1px dotted black;border-radius: 0.25em;box-sizing: border-box;margin-bottom: 0.5em;}#sk-container-id-2 div.sk-estimator:hover {background-color: #d4ebff;}#sk-container-id-2 div.sk-parallel-item::after {content: \"\";width: 100%;border-bottom: 1px solid gray;flex-grow: 1;}#sk-container-id-2 div.sk-label:hover label.sk-toggleable__label {background-color: #d4ebff;}#sk-container-id-2 div.sk-serial::before {content: \"\";position: absolute;border-left: 1px solid gray;box-sizing: border-box;top: 0;bottom: 0;left: 50%;z-index: 0;}#sk-container-id-2 div.sk-serial {display: flex;flex-direction: column;align-items: center;background-color: white;padding-right: 0.2em;padding-left: 0.2em;position: relative;}#sk-container-id-2 div.sk-item {position: relative;z-index: 1;}#sk-container-id-2 div.sk-parallel {display: flex;align-items: stretch;justify-content: center;background-color: white;position: relative;}#sk-container-id-2 div.sk-item::before, #sk-container-id-2 div.sk-parallel-item::before {content: \"\";position: absolute;border-left: 1px solid gray;box-sizing: border-box;top: 0;bottom: 0;left: 50%;z-index: -1;}#sk-container-id-2 div.sk-parallel-item {display: flex;flex-direction: column;z-index: 1;position: relative;background-color: white;}#sk-container-id-2 div.sk-parallel-item:first-child::after {align-self: flex-end;width: 50%;}#sk-container-id-2 div.sk-parallel-item:last-child::after {align-self: flex-start;width: 50%;}#sk-container-id-2 div.sk-parallel-item:only-child::after {width: 0;}#sk-container-id-2 div.sk-dashed-wrapped {border: 1px dashed gray;margin: 0 0.4em 0.5em 0.4em;box-sizing: border-box;padding-bottom: 0.4em;background-color: white;}#sk-container-id-2 div.sk-label label {font-family: monospace;font-weight: bold;display: inline-block;line-height: 1.2em;}#sk-container-id-2 div.sk-label-container {text-align: center;}#sk-container-id-2 div.sk-container {/* jupyter's `normalize.less` sets `[hidden] { display: none; }` but bootstrap.min.css set `[hidden] { display: none !important; }` so we also need the `!important` here to be able to override the default hidden behavior on the sphinx rendered scikit-learn.org. See: https://github.com/scikit-learn/scikit-learn/issues/21755 */display: inline-block !important;position: relative;}#sk-container-id-2 div.sk-text-repr-fallback {display: none;}</style><div id=\"sk-container-id-2\" class=\"sk-top-container\"><div class=\"sk-text-repr-fallback\"><pre>DecisionTreeClassifier(max_depth=11, random_state=1)</pre><b>In a Jupyter environment, please rerun this cell to show the HTML representation or trust the notebook. <br />On GitHub, the HTML representation is unable to render, please try loading this page with nbviewer.org.</b></div><div class=\"sk-container\" hidden><div class=\"sk-item\"><div class=\"sk-estimator sk-toggleable\"><input class=\"sk-toggleable__control sk-hidden--visually\" id=\"sk-estimator-id-2\" type=\"checkbox\" checked><label for=\"sk-estimator-id-2\" class=\"sk-toggleable__label sk-toggleable__label-arrow\">DecisionTreeClassifier</label><div class=\"sk-toggleable__content\"><pre>DecisionTreeClassifier(max_depth=11, random_state=1)</pre></div></div></div></div></div>"
      ],
      "text/plain": [
       "DecisionTreeClassifier(max_depth=11, random_state=1)"
      ]
     },
     "execution_count": 25,
     "metadata": {},
     "output_type": "execute_result"
    }
   ],
   "source": [
    "model1"
   ]
  },
  {
   "cell_type": "code",
   "execution_count": 26,
   "id": "371de253",
   "metadata": {
    "execution": {
     "iopub.execute_input": "2024-02-08T15:37:21.776659Z",
     "iopub.status.busy": "2024-02-08T15:37:21.776117Z",
     "iopub.status.idle": "2024-02-08T15:37:21.786420Z",
     "shell.execute_reply": "2024-02-08T15:37:21.784806Z"
    },
    "papermill": {
     "duration": 0.040841,
     "end_time": "2024-02-08T15:37:21.789346",
     "exception": false,
     "start_time": "2024-02-08T15:37:21.748505",
     "status": "completed"
    },
    "tags": []
   },
   "outputs": [
    {
     "data": {
      "text/html": [
       "<style>#sk-container-id-3 {color: black;background-color: white;}#sk-container-id-3 pre{padding: 0;}#sk-container-id-3 div.sk-toggleable {background-color: white;}#sk-container-id-3 label.sk-toggleable__label {cursor: pointer;display: block;width: 100%;margin-bottom: 0;padding: 0.3em;box-sizing: border-box;text-align: center;}#sk-container-id-3 label.sk-toggleable__label-arrow:before {content: \"▸\";float: left;margin-right: 0.25em;color: #696969;}#sk-container-id-3 label.sk-toggleable__label-arrow:hover:before {color: black;}#sk-container-id-3 div.sk-estimator:hover label.sk-toggleable__label-arrow:before {color: black;}#sk-container-id-3 div.sk-toggleable__content {max-height: 0;max-width: 0;overflow: hidden;text-align: left;background-color: #f0f8ff;}#sk-container-id-3 div.sk-toggleable__content pre {margin: 0.2em;color: black;border-radius: 0.25em;background-color: #f0f8ff;}#sk-container-id-3 input.sk-toggleable__control:checked~div.sk-toggleable__content {max-height: 200px;max-width: 100%;overflow: auto;}#sk-container-id-3 input.sk-toggleable__control:checked~label.sk-toggleable__label-arrow:before {content: \"▾\";}#sk-container-id-3 div.sk-estimator input.sk-toggleable__control:checked~label.sk-toggleable__label {background-color: #d4ebff;}#sk-container-id-3 div.sk-label input.sk-toggleable__control:checked~label.sk-toggleable__label {background-color: #d4ebff;}#sk-container-id-3 input.sk-hidden--visually {border: 0;clip: rect(1px 1px 1px 1px);clip: rect(1px, 1px, 1px, 1px);height: 1px;margin: -1px;overflow: hidden;padding: 0;position: absolute;width: 1px;}#sk-container-id-3 div.sk-estimator {font-family: monospace;background-color: #f0f8ff;border: 1px dotted black;border-radius: 0.25em;box-sizing: border-box;margin-bottom: 0.5em;}#sk-container-id-3 div.sk-estimator:hover {background-color: #d4ebff;}#sk-container-id-3 div.sk-parallel-item::after {content: \"\";width: 100%;border-bottom: 1px solid gray;flex-grow: 1;}#sk-container-id-3 div.sk-label:hover label.sk-toggleable__label {background-color: #d4ebff;}#sk-container-id-3 div.sk-serial::before {content: \"\";position: absolute;border-left: 1px solid gray;box-sizing: border-box;top: 0;bottom: 0;left: 50%;z-index: 0;}#sk-container-id-3 div.sk-serial {display: flex;flex-direction: column;align-items: center;background-color: white;padding-right: 0.2em;padding-left: 0.2em;position: relative;}#sk-container-id-3 div.sk-item {position: relative;z-index: 1;}#sk-container-id-3 div.sk-parallel {display: flex;align-items: stretch;justify-content: center;background-color: white;position: relative;}#sk-container-id-3 div.sk-item::before, #sk-container-id-3 div.sk-parallel-item::before {content: \"\";position: absolute;border-left: 1px solid gray;box-sizing: border-box;top: 0;bottom: 0;left: 50%;z-index: -1;}#sk-container-id-3 div.sk-parallel-item {display: flex;flex-direction: column;z-index: 1;position: relative;background-color: white;}#sk-container-id-3 div.sk-parallel-item:first-child::after {align-self: flex-end;width: 50%;}#sk-container-id-3 div.sk-parallel-item:last-child::after {align-self: flex-start;width: 50%;}#sk-container-id-3 div.sk-parallel-item:only-child::after {width: 0;}#sk-container-id-3 div.sk-dashed-wrapped {border: 1px dashed gray;margin: 0 0.4em 0.5em 0.4em;box-sizing: border-box;padding-bottom: 0.4em;background-color: white;}#sk-container-id-3 div.sk-label label {font-family: monospace;font-weight: bold;display: inline-block;line-height: 1.2em;}#sk-container-id-3 div.sk-label-container {text-align: center;}#sk-container-id-3 div.sk-container {/* jupyter's `normalize.less` sets `[hidden] { display: none; }` but bootstrap.min.css set `[hidden] { display: none !important; }` so we also need the `!important` here to be able to override the default hidden behavior on the sphinx rendered scikit-learn.org. See: https://github.com/scikit-learn/scikit-learn/issues/21755 */display: inline-block !important;position: relative;}#sk-container-id-3 div.sk-text-repr-fallback {display: none;}</style><div id=\"sk-container-id-3\" class=\"sk-top-container\"><div class=\"sk-text-repr-fallback\"><pre>LogisticRegression()</pre><b>In a Jupyter environment, please rerun this cell to show the HTML representation or trust the notebook. <br />On GitHub, the HTML representation is unable to render, please try loading this page with nbviewer.org.</b></div><div class=\"sk-container\" hidden><div class=\"sk-item\"><div class=\"sk-estimator sk-toggleable\"><input class=\"sk-toggleable__control sk-hidden--visually\" id=\"sk-estimator-id-3\" type=\"checkbox\" checked><label for=\"sk-estimator-id-3\" class=\"sk-toggleable__label sk-toggleable__label-arrow\">LogisticRegression</label><div class=\"sk-toggleable__content\"><pre>LogisticRegression()</pre></div></div></div></div></div>"
      ],
      "text/plain": [
       "LogisticRegression()"
      ]
     },
     "execution_count": 26,
     "metadata": {},
     "output_type": "execute_result"
    }
   ],
   "source": [
    "model2"
   ]
  },
  {
   "cell_type": "code",
   "execution_count": 27,
   "id": "e328dd4c",
   "metadata": {
    "execution": {
     "iopub.execute_input": "2024-02-08T15:37:21.839407Z",
     "iopub.status.busy": "2024-02-08T15:37:21.838977Z",
     "iopub.status.idle": "2024-02-08T15:37:21.851699Z",
     "shell.execute_reply": "2024-02-08T15:37:21.850491Z"
    },
    "papermill": {
     "duration": 0.042034,
     "end_time": "2024-02-08T15:37:21.854421",
     "exception": false,
     "start_time": "2024-02-08T15:37:21.812387",
     "status": "completed"
    },
    "tags": []
   },
   "outputs": [
    {
     "data": {
      "text/html": [
       "<style>#sk-container-id-4 {color: black;background-color: white;}#sk-container-id-4 pre{padding: 0;}#sk-container-id-4 div.sk-toggleable {background-color: white;}#sk-container-id-4 label.sk-toggleable__label {cursor: pointer;display: block;width: 100%;margin-bottom: 0;padding: 0.3em;box-sizing: border-box;text-align: center;}#sk-container-id-4 label.sk-toggleable__label-arrow:before {content: \"▸\";float: left;margin-right: 0.25em;color: #696969;}#sk-container-id-4 label.sk-toggleable__label-arrow:hover:before {color: black;}#sk-container-id-4 div.sk-estimator:hover label.sk-toggleable__label-arrow:before {color: black;}#sk-container-id-4 div.sk-toggleable__content {max-height: 0;max-width: 0;overflow: hidden;text-align: left;background-color: #f0f8ff;}#sk-container-id-4 div.sk-toggleable__content pre {margin: 0.2em;color: black;border-radius: 0.25em;background-color: #f0f8ff;}#sk-container-id-4 input.sk-toggleable__control:checked~div.sk-toggleable__content {max-height: 200px;max-width: 100%;overflow: auto;}#sk-container-id-4 input.sk-toggleable__control:checked~label.sk-toggleable__label-arrow:before {content: \"▾\";}#sk-container-id-4 div.sk-estimator input.sk-toggleable__control:checked~label.sk-toggleable__label {background-color: #d4ebff;}#sk-container-id-4 div.sk-label input.sk-toggleable__control:checked~label.sk-toggleable__label {background-color: #d4ebff;}#sk-container-id-4 input.sk-hidden--visually {border: 0;clip: rect(1px 1px 1px 1px);clip: rect(1px, 1px, 1px, 1px);height: 1px;margin: -1px;overflow: hidden;padding: 0;position: absolute;width: 1px;}#sk-container-id-4 div.sk-estimator {font-family: monospace;background-color: #f0f8ff;border: 1px dotted black;border-radius: 0.25em;box-sizing: border-box;margin-bottom: 0.5em;}#sk-container-id-4 div.sk-estimator:hover {background-color: #d4ebff;}#sk-container-id-4 div.sk-parallel-item::after {content: \"\";width: 100%;border-bottom: 1px solid gray;flex-grow: 1;}#sk-container-id-4 div.sk-label:hover label.sk-toggleable__label {background-color: #d4ebff;}#sk-container-id-4 div.sk-serial::before {content: \"\";position: absolute;border-left: 1px solid gray;box-sizing: border-box;top: 0;bottom: 0;left: 50%;z-index: 0;}#sk-container-id-4 div.sk-serial {display: flex;flex-direction: column;align-items: center;background-color: white;padding-right: 0.2em;padding-left: 0.2em;position: relative;}#sk-container-id-4 div.sk-item {position: relative;z-index: 1;}#sk-container-id-4 div.sk-parallel {display: flex;align-items: stretch;justify-content: center;background-color: white;position: relative;}#sk-container-id-4 div.sk-item::before, #sk-container-id-4 div.sk-parallel-item::before {content: \"\";position: absolute;border-left: 1px solid gray;box-sizing: border-box;top: 0;bottom: 0;left: 50%;z-index: -1;}#sk-container-id-4 div.sk-parallel-item {display: flex;flex-direction: column;z-index: 1;position: relative;background-color: white;}#sk-container-id-4 div.sk-parallel-item:first-child::after {align-self: flex-end;width: 50%;}#sk-container-id-4 div.sk-parallel-item:last-child::after {align-self: flex-start;width: 50%;}#sk-container-id-4 div.sk-parallel-item:only-child::after {width: 0;}#sk-container-id-4 div.sk-dashed-wrapped {border: 1px dashed gray;margin: 0 0.4em 0.5em 0.4em;box-sizing: border-box;padding-bottom: 0.4em;background-color: white;}#sk-container-id-4 div.sk-label label {font-family: monospace;font-weight: bold;display: inline-block;line-height: 1.2em;}#sk-container-id-4 div.sk-label-container {text-align: center;}#sk-container-id-4 div.sk-container {/* jupyter's `normalize.less` sets `[hidden] { display: none; }` but bootstrap.min.css set `[hidden] { display: none !important; }` so we also need the `!important` here to be able to override the default hidden behavior on the sphinx rendered scikit-learn.org. See: https://github.com/scikit-learn/scikit-learn/issues/21755 */display: inline-block !important;position: relative;}#sk-container-id-4 div.sk-text-repr-fallback {display: none;}</style><div id=\"sk-container-id-4\" class=\"sk-top-container\"><div class=\"sk-text-repr-fallback\"><pre>XGBClassifier(base_score=None, booster=None, callbacks=None,\n",
       "              colsample_bylevel=None, colsample_bynode=None,\n",
       "              colsample_bytree=None, device=None, early_stopping_rounds=None,\n",
       "              enable_categorical=False, eval_metric=None, feature_types=None,\n",
       "              gamma=None, grow_policy=None, importance_type=None,\n",
       "              interaction_constraints=None, learning_rate=None, max_bin=None,\n",
       "              max_cat_threshold=None, max_cat_to_onehot=None,\n",
       "              max_delta_step=None, max_depth=11, max_leaves=None,\n",
       "              min_child_weight=None, missing=nan, monotone_constraints=None,\n",
       "              multi_strategy=None, n_estimators=None, n_jobs=None,\n",
       "              num_parallel_tree=None, random_state=1, ...)</pre><b>In a Jupyter environment, please rerun this cell to show the HTML representation or trust the notebook. <br />On GitHub, the HTML representation is unable to render, please try loading this page with nbviewer.org.</b></div><div class=\"sk-container\" hidden><div class=\"sk-item\"><div class=\"sk-estimator sk-toggleable\"><input class=\"sk-toggleable__control sk-hidden--visually\" id=\"sk-estimator-id-4\" type=\"checkbox\" checked><label for=\"sk-estimator-id-4\" class=\"sk-toggleable__label sk-toggleable__label-arrow\">XGBClassifier</label><div class=\"sk-toggleable__content\"><pre>XGBClassifier(base_score=None, booster=None, callbacks=None,\n",
       "              colsample_bylevel=None, colsample_bynode=None,\n",
       "              colsample_bytree=None, device=None, early_stopping_rounds=None,\n",
       "              enable_categorical=False, eval_metric=None, feature_types=None,\n",
       "              gamma=None, grow_policy=None, importance_type=None,\n",
       "              interaction_constraints=None, learning_rate=None, max_bin=None,\n",
       "              max_cat_threshold=None, max_cat_to_onehot=None,\n",
       "              max_delta_step=None, max_depth=11, max_leaves=None,\n",
       "              min_child_weight=None, missing=nan, monotone_constraints=None,\n",
       "              multi_strategy=None, n_estimators=None, n_jobs=None,\n",
       "              num_parallel_tree=None, random_state=1, ...)</pre></div></div></div></div></div>"
      ],
      "text/plain": [
       "XGBClassifier(base_score=None, booster=None, callbacks=None,\n",
       "              colsample_bylevel=None, colsample_bynode=None,\n",
       "              colsample_bytree=None, device=None, early_stopping_rounds=None,\n",
       "              enable_categorical=False, eval_metric=None, feature_types=None,\n",
       "              gamma=None, grow_policy=None, importance_type=None,\n",
       "              interaction_constraints=None, learning_rate=None, max_bin=None,\n",
       "              max_cat_threshold=None, max_cat_to_onehot=None,\n",
       "              max_delta_step=None, max_depth=11, max_leaves=None,\n",
       "              min_child_weight=None, missing=nan, monotone_constraints=None,\n",
       "              multi_strategy=None, n_estimators=None, n_jobs=None,\n",
       "              num_parallel_tree=None, random_state=1, ...)"
      ]
     },
     "execution_count": 27,
     "metadata": {},
     "output_type": "execute_result"
    }
   ],
   "source": [
    "model3"
   ]
  },
  {
   "cell_type": "code",
   "execution_count": 28,
   "id": "1f8cfe4c",
   "metadata": {
    "execution": {
     "iopub.execute_input": "2024-02-08T15:37:21.904169Z",
     "iopub.status.busy": "2024-02-08T15:37:21.903745Z",
     "iopub.status.idle": "2024-02-08T15:37:21.913621Z",
     "shell.execute_reply": "2024-02-08T15:37:21.912207Z"
    },
    "papermill": {
     "duration": 0.038272,
     "end_time": "2024-02-08T15:37:21.916649",
     "exception": false,
     "start_time": "2024-02-08T15:37:21.878377",
     "status": "completed"
    },
    "tags": []
   },
   "outputs": [
    {
     "data": {
      "text/html": [
       "<style>#sk-container-id-5 {color: black;background-color: white;}#sk-container-id-5 pre{padding: 0;}#sk-container-id-5 div.sk-toggleable {background-color: white;}#sk-container-id-5 label.sk-toggleable__label {cursor: pointer;display: block;width: 100%;margin-bottom: 0;padding: 0.3em;box-sizing: border-box;text-align: center;}#sk-container-id-5 label.sk-toggleable__label-arrow:before {content: \"▸\";float: left;margin-right: 0.25em;color: #696969;}#sk-container-id-5 label.sk-toggleable__label-arrow:hover:before {color: black;}#sk-container-id-5 div.sk-estimator:hover label.sk-toggleable__label-arrow:before {color: black;}#sk-container-id-5 div.sk-toggleable__content {max-height: 0;max-width: 0;overflow: hidden;text-align: left;background-color: #f0f8ff;}#sk-container-id-5 div.sk-toggleable__content pre {margin: 0.2em;color: black;border-radius: 0.25em;background-color: #f0f8ff;}#sk-container-id-5 input.sk-toggleable__control:checked~div.sk-toggleable__content {max-height: 200px;max-width: 100%;overflow: auto;}#sk-container-id-5 input.sk-toggleable__control:checked~label.sk-toggleable__label-arrow:before {content: \"▾\";}#sk-container-id-5 div.sk-estimator input.sk-toggleable__control:checked~label.sk-toggleable__label {background-color: #d4ebff;}#sk-container-id-5 div.sk-label input.sk-toggleable__control:checked~label.sk-toggleable__label {background-color: #d4ebff;}#sk-container-id-5 input.sk-hidden--visually {border: 0;clip: rect(1px 1px 1px 1px);clip: rect(1px, 1px, 1px, 1px);height: 1px;margin: -1px;overflow: hidden;padding: 0;position: absolute;width: 1px;}#sk-container-id-5 div.sk-estimator {font-family: monospace;background-color: #f0f8ff;border: 1px dotted black;border-radius: 0.25em;box-sizing: border-box;margin-bottom: 0.5em;}#sk-container-id-5 div.sk-estimator:hover {background-color: #d4ebff;}#sk-container-id-5 div.sk-parallel-item::after {content: \"\";width: 100%;border-bottom: 1px solid gray;flex-grow: 1;}#sk-container-id-5 div.sk-label:hover label.sk-toggleable__label {background-color: #d4ebff;}#sk-container-id-5 div.sk-serial::before {content: \"\";position: absolute;border-left: 1px solid gray;box-sizing: border-box;top: 0;bottom: 0;left: 50%;z-index: 0;}#sk-container-id-5 div.sk-serial {display: flex;flex-direction: column;align-items: center;background-color: white;padding-right: 0.2em;padding-left: 0.2em;position: relative;}#sk-container-id-5 div.sk-item {position: relative;z-index: 1;}#sk-container-id-5 div.sk-parallel {display: flex;align-items: stretch;justify-content: center;background-color: white;position: relative;}#sk-container-id-5 div.sk-item::before, #sk-container-id-5 div.sk-parallel-item::before {content: \"\";position: absolute;border-left: 1px solid gray;box-sizing: border-box;top: 0;bottom: 0;left: 50%;z-index: -1;}#sk-container-id-5 div.sk-parallel-item {display: flex;flex-direction: column;z-index: 1;position: relative;background-color: white;}#sk-container-id-5 div.sk-parallel-item:first-child::after {align-self: flex-end;width: 50%;}#sk-container-id-5 div.sk-parallel-item:last-child::after {align-self: flex-start;width: 50%;}#sk-container-id-5 div.sk-parallel-item:only-child::after {width: 0;}#sk-container-id-5 div.sk-dashed-wrapped {border: 1px dashed gray;margin: 0 0.4em 0.5em 0.4em;box-sizing: border-box;padding-bottom: 0.4em;background-color: white;}#sk-container-id-5 div.sk-label label {font-family: monospace;font-weight: bold;display: inline-block;line-height: 1.2em;}#sk-container-id-5 div.sk-label-container {text-align: center;}#sk-container-id-5 div.sk-container {/* jupyter's `normalize.less` sets `[hidden] { display: none; }` but bootstrap.min.css set `[hidden] { display: none !important; }` so we also need the `!important` here to be able to override the default hidden behavior on the sphinx rendered scikit-learn.org. See: https://github.com/scikit-learn/scikit-learn/issues/21755 */display: inline-block !important;position: relative;}#sk-container-id-5 div.sk-text-repr-fallback {display: none;}</style><div id=\"sk-container-id-5\" class=\"sk-top-container\"><div class=\"sk-text-repr-fallback\"><pre>LGBMClassifier(max_depth=11, random_state=1)</pre><b>In a Jupyter environment, please rerun this cell to show the HTML representation or trust the notebook. <br />On GitHub, the HTML representation is unable to render, please try loading this page with nbviewer.org.</b></div><div class=\"sk-container\" hidden><div class=\"sk-item\"><div class=\"sk-estimator sk-toggleable\"><input class=\"sk-toggleable__control sk-hidden--visually\" id=\"sk-estimator-id-5\" type=\"checkbox\" checked><label for=\"sk-estimator-id-5\" class=\"sk-toggleable__label sk-toggleable__label-arrow\">LGBMClassifier</label><div class=\"sk-toggleable__content\"><pre>LGBMClassifier(max_depth=11, random_state=1)</pre></div></div></div></div></div>"
      ],
      "text/plain": [
       "LGBMClassifier(max_depth=11, random_state=1)"
      ]
     },
     "execution_count": 28,
     "metadata": {},
     "output_type": "execute_result"
    }
   ],
   "source": [
    "model4"
   ]
  },
  {
   "cell_type": "code",
   "execution_count": 29,
   "id": "a4e3b085",
   "metadata": {
    "execution": {
     "iopub.execute_input": "2024-02-08T15:37:21.967396Z",
     "iopub.status.busy": "2024-02-08T15:37:21.967004Z",
     "iopub.status.idle": "2024-02-08T15:37:22.007344Z",
     "shell.execute_reply": "2024-02-08T15:37:22.005631Z"
    },
    "papermill": {
     "duration": 0.069632,
     "end_time": "2024-02-08T15:37:22.011406",
     "exception": false,
     "start_time": "2024-02-08T15:37:21.941774",
     "status": "completed"
    },
    "tags": []
   },
   "outputs": [],
   "source": [
    "xtrain=pd.get_dummies(xtrain)\n",
    "xval=pd.get_dummies(xval)"
   ]
  },
  {
   "cell_type": "code",
   "execution_count": 30,
   "id": "bd937f26",
   "metadata": {
    "execution": {
     "iopub.execute_input": "2024-02-08T15:37:22.061647Z",
     "iopub.status.busy": "2024-02-08T15:37:22.060799Z",
     "iopub.status.idle": "2024-02-08T15:37:22.072660Z",
     "shell.execute_reply": "2024-02-08T15:37:22.071233Z"
    },
    "papermill": {
     "duration": 0.041058,
     "end_time": "2024-02-08T15:37:22.076283",
     "exception": false,
     "start_time": "2024-02-08T15:37:22.035225",
     "status": "completed"
    },
    "tags": []
   },
   "outputs": [
    {
     "data": {
      "text/plain": [
       "17254    0\n",
       "5558     1\n",
       "5260     1\n",
       "16396    2\n",
       "10295    0\n",
       "        ..\n",
       "10955    4\n",
       "17289    3\n",
       "5192     4\n",
       "12172    6\n",
       "235      4\n",
       "Name: NObeyesdad, Length: 18682, dtype: int64"
      ]
     },
     "execution_count": 30,
     "metadata": {},
     "output_type": "execute_result"
    }
   ],
   "source": [
    "ytrain"
   ]
  },
  {
   "cell_type": "code",
   "execution_count": 31,
   "id": "5d149a3f",
   "metadata": {
    "execution": {
     "iopub.execute_input": "2024-02-08T15:37:22.128871Z",
     "iopub.status.busy": "2024-02-08T15:37:22.127393Z",
     "iopub.status.idle": "2024-02-08T15:37:34.322188Z",
     "shell.execute_reply": "2024-02-08T15:37:34.320379Z"
    },
    "papermill": {
     "duration": 12.223882,
     "end_time": "2024-02-08T15:37:34.325068",
     "exception": false,
     "start_time": "2024-02-08T15:37:22.101186",
     "status": "completed"
    },
    "tags": []
   },
   "outputs": [
    {
     "name": "stderr",
     "output_type": "stream",
     "text": [
      "/opt/conda/lib/python3.10/site-packages/sklearn/linear_model/_logistic.py:458: ConvergenceWarning: lbfgs failed to converge (status=1):\n",
      "STOP: TOTAL NO. of ITERATIONS REACHED LIMIT.\n",
      "\n",
      "Increase the number of iterations (max_iter) or scale the data as shown in:\n",
      "    https://scikit-learn.org/stable/modules/preprocessing.html\n",
      "Please also refer to the documentation for alternative solver options:\n",
      "    https://scikit-learn.org/stable/modules/linear_model.html#logistic-regression\n",
      "  n_iter_i = _check_optimize_result(\n"
     ]
    },
    {
     "name": "stdout",
     "output_type": "stream",
     "text": [
      "[LightGBM] [Warning] Accuracy may be bad since you didn't explicitly set num_leaves OR 2^max_depth > num_leaves. (num_leaves=31).\n",
      "[LightGBM] [Warning] Accuracy may be bad since you didn't explicitly set num_leaves OR 2^max_depth > num_leaves. (num_leaves=31).\n",
      "[LightGBM] [Info] Auto-choosing row-wise multi-threading, the overhead of testing was 0.008516 seconds.\n",
      "You can set `force_row_wise=true` to remove the overhead.\n",
      "And if memory is not enough, you can set `force_col_wise=true`.\n",
      "[LightGBM] [Info] Total Bins 2050\n",
      "[LightGBM] [Info] Number of data points in the train set: 18682, number of used features: 21\n",
      "[LightGBM] [Info] Start training from score -2.097699\n",
      "[LightGBM] [Info] Start training from score -1.848811\n",
      "[LightGBM] [Info] Start training from score -1.969744\n",
      "[LightGBM] [Info] Start training from score -1.646627\n",
      "[LightGBM] [Info] Start training from score -1.902236\n",
      "[LightGBM] [Info] Start training from score -2.146402\n",
      "[LightGBM] [Info] Start training from score -2.107781\n"
     ]
    }
   ],
   "source": [
    "rfmodel=model.fit(xtrain,ytrain)\n",
    "dmodel=model1.fit(xtrain,ytrain)\n",
    "lgmodel=model2.fit(xtrain,ytrain)\n",
    "xgbmodel=model3.fit(xtrain,ytrain)\n",
    "lgbmmodel=model4.fit(xtrain,ytrain)"
   ]
  },
  {
   "cell_type": "code",
   "execution_count": 32,
   "id": "e0c7a24f",
   "metadata": {
    "execution": {
     "iopub.execute_input": "2024-02-08T15:37:34.377513Z",
     "iopub.status.busy": "2024-02-08T15:37:34.377099Z",
     "iopub.status.idle": "2024-02-08T15:37:34.748488Z",
     "shell.execute_reply": "2024-02-08T15:37:34.746422Z"
    },
    "papermill": {
     "duration": 0.401899,
     "end_time": "2024-02-08T15:37:34.752204",
     "exception": false,
     "start_time": "2024-02-08T15:37:34.350305",
     "status": "completed"
    },
    "tags": []
   },
   "outputs": [
    {
     "name": "stdout",
     "output_type": "stream",
     "text": [
      "[LightGBM] [Warning] Accuracy may be bad since you didn't explicitly set num_leaves OR 2^max_depth > num_leaves. (num_leaves=31).\n"
     ]
    }
   ],
   "source": [
    "rfpred=rfmodel.predict(xval)\n",
    "dpred=dmodel.predict(xval)\n",
    "lgpred=lgmodel.predict(xval)\n",
    "xgbpred=xgbmodel.predict(xval)\n",
    "lgbmpred=lgbmmodel.predict(xval)"
   ]
  },
  {
   "cell_type": "code",
   "execution_count": 33,
   "id": "43c7ea7a",
   "metadata": {
    "execution": {
     "iopub.execute_input": "2024-02-08T15:37:34.805115Z",
     "iopub.status.busy": "2024-02-08T15:37:34.804705Z",
     "iopub.status.idle": "2024-02-08T15:37:34.813388Z",
     "shell.execute_reply": "2024-02-08T15:37:34.811948Z"
    },
    "papermill": {
     "duration": 0.038538,
     "end_time": "2024-02-08T15:37:34.816258",
     "exception": false,
     "start_time": "2024-02-08T15:37:34.777720",
     "status": "completed"
    },
    "tags": []
   },
   "outputs": [
    {
     "data": {
      "text/plain": [
       "array([1, 6, 5, ..., 0, 6, 2])"
      ]
     },
     "execution_count": 33,
     "metadata": {},
     "output_type": "execute_result"
    }
   ],
   "source": [
    "rfpred"
   ]
  },
  {
   "cell_type": "code",
   "execution_count": 34,
   "id": "01ac133a",
   "metadata": {
    "execution": {
     "iopub.execute_input": "2024-02-08T15:37:34.867012Z",
     "iopub.status.busy": "2024-02-08T15:37:34.866603Z",
     "iopub.status.idle": "2024-02-08T15:37:34.874186Z",
     "shell.execute_reply": "2024-02-08T15:37:34.872937Z"
    },
    "papermill": {
     "duration": 0.035509,
     "end_time": "2024-02-08T15:37:34.876808",
     "exception": false,
     "start_time": "2024-02-08T15:37:34.841299",
     "status": "completed"
    },
    "tags": []
   },
   "outputs": [
    {
     "data": {
      "text/plain": [
       "array([1, 6, 5, ..., 0, 6, 2])"
      ]
     },
     "execution_count": 34,
     "metadata": {},
     "output_type": "execute_result"
    }
   ],
   "source": [
    "dpred"
   ]
  },
  {
   "cell_type": "code",
   "execution_count": 35,
   "id": "4f722b5f",
   "metadata": {
    "execution": {
     "iopub.execute_input": "2024-02-08T15:37:34.932060Z",
     "iopub.status.busy": "2024-02-08T15:37:34.931121Z",
     "iopub.status.idle": "2024-02-08T15:37:34.938956Z",
     "shell.execute_reply": "2024-02-08T15:37:34.937469Z"
    },
    "papermill": {
     "duration": 0.03845,
     "end_time": "2024-02-08T15:37:34.941472",
     "exception": false,
     "start_time": "2024-02-08T15:37:34.903022",
     "status": "completed"
    },
    "tags": []
   },
   "outputs": [
    {
     "data": {
      "text/plain": [
       "array([1, 6, 5, ..., 0, 6, 2])"
      ]
     },
     "execution_count": 35,
     "metadata": {},
     "output_type": "execute_result"
    }
   ],
   "source": [
    "lgpred"
   ]
  },
  {
   "cell_type": "code",
   "execution_count": 36,
   "id": "e1d910c0",
   "metadata": {
    "execution": {
     "iopub.execute_input": "2024-02-08T15:37:34.994105Z",
     "iopub.status.busy": "2024-02-08T15:37:34.993445Z",
     "iopub.status.idle": "2024-02-08T15:37:35.001776Z",
     "shell.execute_reply": "2024-02-08T15:37:34.999815Z"
    },
    "papermill": {
     "duration": 0.037343,
     "end_time": "2024-02-08T15:37:35.004298",
     "exception": false,
     "start_time": "2024-02-08T15:37:34.966955",
     "status": "completed"
    },
    "tags": []
   },
   "outputs": [
    {
     "data": {
      "text/plain": [
       "array([1, 6, 5, ..., 0, 6, 2])"
      ]
     },
     "execution_count": 36,
     "metadata": {},
     "output_type": "execute_result"
    }
   ],
   "source": [
    "xgbpred"
   ]
  },
  {
   "cell_type": "code",
   "execution_count": 37,
   "id": "80499a5e",
   "metadata": {
    "execution": {
     "iopub.execute_input": "2024-02-08T15:37:35.058419Z",
     "iopub.status.busy": "2024-02-08T15:37:35.057702Z",
     "iopub.status.idle": "2024-02-08T15:37:35.066505Z",
     "shell.execute_reply": "2024-02-08T15:37:35.065258Z"
    },
    "papermill": {
     "duration": 0.038898,
     "end_time": "2024-02-08T15:37:35.069034",
     "exception": false,
     "start_time": "2024-02-08T15:37:35.030136",
     "status": "completed"
    },
    "tags": []
   },
   "outputs": [
    {
     "data": {
      "text/plain": [
       "array([1, 6, 5, ..., 0, 6, 2])"
      ]
     },
     "execution_count": 37,
     "metadata": {},
     "output_type": "execute_result"
    }
   ],
   "source": [
    "lgbmpred"
   ]
  },
  {
   "cell_type": "code",
   "execution_count": 38,
   "id": "a0e2c55e",
   "metadata": {
    "execution": {
     "iopub.execute_input": "2024-02-08T15:37:35.121850Z",
     "iopub.status.busy": "2024-02-08T15:37:35.120501Z",
     "iopub.status.idle": "2024-02-08T15:37:35.129850Z",
     "shell.execute_reply": "2024-02-08T15:37:35.128637Z"
    },
    "papermill": {
     "duration": 0.040006,
     "end_time": "2024-02-08T15:37:35.132301",
     "exception": false,
     "start_time": "2024-02-08T15:37:35.092295",
     "status": "completed"
    },
    "tags": []
   },
   "outputs": [
    {
     "data": {
      "text/plain": [
       "17392    1\n",
       "14299    6\n",
       "14753    5\n",
       "15306    5\n",
       "16482    5\n",
       "        ..\n",
       "9729     1\n",
       "16759    4\n",
       "11672    0\n",
       "20754    6\n",
       "9909     2\n",
       "Name: NObeyesdad, Length: 2076, dtype: int64"
      ]
     },
     "execution_count": 38,
     "metadata": {},
     "output_type": "execute_result"
    }
   ],
   "source": [
    "yval"
   ]
  },
  {
   "cell_type": "code",
   "execution_count": 39,
   "id": "5977c359",
   "metadata": {
    "execution": {
     "iopub.execute_input": "2024-02-08T15:37:35.184765Z",
     "iopub.status.busy": "2024-02-08T15:37:35.184088Z",
     "iopub.status.idle": "2024-02-08T15:37:35.199805Z",
     "shell.execute_reply": "2024-02-08T15:37:35.197734Z"
    },
    "papermill": {
     "duration": 0.04549,
     "end_time": "2024-02-08T15:37:35.203379",
     "exception": false,
     "start_time": "2024-02-08T15:37:35.157889",
     "status": "completed"
    },
    "tags": []
   },
   "outputs": [
    {
     "name": "stdout",
     "output_type": "stream",
     "text": [
      "validation accuracy is:0.890655105973025\n",
      "validation accuracy is:0.8790944123314065\n",
      "validation accuracy is:0.7182080924855492\n",
      "validation accuracy is:0.8998073217726397\n",
      "validation accuracy is:0.9079961464354528\n"
     ]
    }
   ],
   "source": [
    "val_accuracy=accuracy_score(yval,rfpred)\n",
    "val_accuracy1=accuracy_score(yval,dpred)\n",
    "val_accuracy2=accuracy_score(yval,lgpred)\n",
    "val_accuracy3=accuracy_score(yval,xgbpred)\n",
    "val_accuracy4=accuracy_score(yval,lgbmpred)\n",
    "print(f'validation accuracy is:{val_accuracy}')\n",
    "print(f'validation accuracy is:{val_accuracy1}')\n",
    "print(f'validation accuracy is:{val_accuracy2}')\n",
    "print(f'validation accuracy is:{val_accuracy3}')\n",
    "print(f'validation accuracy is:{val_accuracy4}')"
   ]
  },
  {
   "cell_type": "code",
   "execution_count": 40,
   "id": "29634ec3",
   "metadata": {
    "execution": {
     "iopub.execute_input": "2024-02-08T15:37:35.259273Z",
     "iopub.status.busy": "2024-02-08T15:37:35.258478Z",
     "iopub.status.idle": "2024-02-08T15:37:37.562414Z",
     "shell.execute_reply": "2024-02-08T15:37:37.560644Z"
    },
    "papermill": {
     "duration": 2.335202,
     "end_time": "2024-02-08T15:37:37.566033",
     "exception": false,
     "start_time": "2024-02-08T15:37:35.230831",
     "status": "completed"
    },
    "tags": []
   },
   "outputs": [
    {
     "data": {
      "image/png": "[encoded data removed]",
      "text/plain": [
       "<Figure size 600x400 with 2 Axes>"
      ]
     },
     "metadata": {},
     "output_type": "display_data"
    },
    {
     "data": {
      "image/png": "[encoded data removed]",
      "text/plain": [
       "<Figure size 600x400 with 2 Axes>"
      ]
     },
     "metadata": {},
     "output_type": "display_data"
    },
    {
     "data": {
      "image/png": "[encoded data removed]",
      "text/plain": [
       "<Figure size 600x400 with 2 Axes>"
      ]
     },
     "metadata": {},
     "output_type": "display_data"
    },
    {
     "data": {
      "image/png": "[encoded data removed]",
      "text/plain": [
       "<Figure size 600x400 with 2 Axes>"
      ]
     },
     "metadata": {},
     "output_type": "display_data"
    },
    {
     "data": {
      "image/png": "[encoded data removed]",
      "text/plain": [
       "<Figure size 600x400 with 2 Axes>"
      ]
     },
     "metadata": {},
     "output_type": "display_data"
    }
   ],
   "source": [
    "pred=[rfpred,dpred,lgpred,xgbpred,lgbmpred]\n",
    "for i in range(len(pred)):\n",
    "    confusion_matrix=pd.crosstab(yval, pred[i], rownames=['act_vals'], colnames=['prdictions'])\n",
    "    plt.figure(figsize=(6,4))\n",
    "    sns.heatmap(confusion_matrix, annot=True, fmt='d', cmap='Reds')\n",
    "    plt.title('confusion matrix')\n",
    "    plt.show()"
   ]
  },
  {
   "cell_type": "code",
   "execution_count": 41,
   "id": "fec829d3",
   "metadata": {
    "execution": {
     "iopub.execute_input": "2024-02-08T15:37:37.626443Z",
     "iopub.status.busy": "2024-02-08T15:37:37.625708Z",
     "iopub.status.idle": "2024-02-08T15:37:37.703682Z",
     "shell.execute_reply": "2024-02-08T15:37:37.702667Z"
    },
    "papermill": {
     "duration": 0.112712,
     "end_time": "2024-02-08T15:37:37.706682",
     "exception": false,
     "start_time": "2024-02-08T15:37:37.593970",
     "status": "completed"
    },
    "tags": []
   },
   "outputs": [],
   "source": [
    "test_data=pd.read_csv(\"/kaggle/input/playground-series-s4e2/test.csv\")"
   ]
  },
  {
   "cell_type": "code",
   "execution_count": 42,
   "id": "0ed608f5",
   "metadata": {
    "execution": {
     "iopub.execute_input": "2024-02-08T15:37:37.768012Z",
     "iopub.status.busy": "2024-02-08T15:37:37.766850Z",
     "iopub.status.idle": "2024-02-08T15:37:37.794550Z",
     "shell.execute_reply": "2024-02-08T15:37:37.793601Z"
    },
    "papermill": {
     "duration": 0.062858,
     "end_time": "2024-02-08T15:37:37.797853",
     "exception": false,
     "start_time": "2024-02-08T15:37:37.734995",
     "status": "completed"
    },
    "tags": []
   },
   "outputs": [
    {
     "data": {
      "text/html": [
       "<div>\n",
       "<style scoped>\n",
       "    .dataframe tbody tr th:only-of-type {\n",
       "        vertical-align: middle;\n",
       "    }\n",
       "\n",
       "    .dataframe tbody tr th {\n",
       "        vertical-align: top;\n",
       "    }\n",
       "\n",
       "    .dataframe thead th {\n",
       "        text-align: right;\n",
       "    }\n",
       "</style>\n",
       "<table border=\"1\" class=\"dataframe\">\n",
       "  <thead>\n",
       "    <tr style=\"text-align: right;\">\n",
       "      <th></th>\n",
       "      <th>id</th>\n",
       "      <th>Gender</th>\n",
       "      <th>Age</th>\n",
       "      <th>Height</th>\n",
       "      <th>Weight</th>\n",
       "      <th>family_history_with_overweight</th>\n",
       "      <th>FAVC</th>\n",
       "      <th>FCVC</th>\n",
       "      <th>NCP</th>\n",
       "      <th>CAEC</th>\n",
       "      <th>SMOKE</th>\n",
       "      <th>CH2O</th>\n",
       "      <th>SCC</th>\n",
       "      <th>FAF</th>\n",
       "      <th>TUE</th>\n",
       "      <th>CALC</th>\n",
       "      <th>MTRANS</th>\n",
       "    </tr>\n",
       "  </thead>\n",
       "  <tbody>\n",
       "    <tr>\n",
       "      <th>0</th>\n",
       "      <td>20758</td>\n",
       "      <td>Male</td>\n",
       "      <td>26.899886</td>\n",
       "      <td>1.848294</td>\n",
       "      <td>120.644178</td>\n",
       "      <td>yes</td>\n",
       "      <td>yes</td>\n",
       "      <td>2.938616</td>\n",
       "      <td>3.000000</td>\n",
       "      <td>Sometimes</td>\n",
       "      <td>no</td>\n",
       "      <td>2.825629</td>\n",
       "      <td>no</td>\n",
       "      <td>0.855400</td>\n",
       "      <td>0.000000</td>\n",
       "      <td>Sometimes</td>\n",
       "      <td>Public_Transportation</td>\n",
       "    </tr>\n",
       "    <tr>\n",
       "      <th>1</th>\n",
       "      <td>20759</td>\n",
       "      <td>Female</td>\n",
       "      <td>21.000000</td>\n",
       "      <td>1.600000</td>\n",
       "      <td>66.000000</td>\n",
       "      <td>yes</td>\n",
       "      <td>yes</td>\n",
       "      <td>2.000000</td>\n",
       "      <td>1.000000</td>\n",
       "      <td>Sometimes</td>\n",
       "      <td>no</td>\n",
       "      <td>3.000000</td>\n",
       "      <td>no</td>\n",
       "      <td>1.000000</td>\n",
       "      <td>0.000000</td>\n",
       "      <td>Sometimes</td>\n",
       "      <td>Public_Transportation</td>\n",
       "    </tr>\n",
       "    <tr>\n",
       "      <th>2</th>\n",
       "      <td>20760</td>\n",
       "      <td>Female</td>\n",
       "      <td>26.000000</td>\n",
       "      <td>1.643355</td>\n",
       "      <td>111.600553</td>\n",
       "      <td>yes</td>\n",
       "      <td>yes</td>\n",
       "      <td>3.000000</td>\n",
       "      <td>3.000000</td>\n",
       "      <td>Sometimes</td>\n",
       "      <td>no</td>\n",
       "      <td>2.621877</td>\n",
       "      <td>no</td>\n",
       "      <td>0.000000</td>\n",
       "      <td>0.250502</td>\n",
       "      <td>Sometimes</td>\n",
       "      <td>Public_Transportation</td>\n",
       "    </tr>\n",
       "    <tr>\n",
       "      <th>3</th>\n",
       "      <td>20761</td>\n",
       "      <td>Male</td>\n",
       "      <td>20.979254</td>\n",
       "      <td>1.553127</td>\n",
       "      <td>103.669116</td>\n",
       "      <td>yes</td>\n",
       "      <td>yes</td>\n",
       "      <td>2.000000</td>\n",
       "      <td>2.977909</td>\n",
       "      <td>Sometimes</td>\n",
       "      <td>no</td>\n",
       "      <td>2.786417</td>\n",
       "      <td>no</td>\n",
       "      <td>0.094851</td>\n",
       "      <td>0.000000</td>\n",
       "      <td>Sometimes</td>\n",
       "      <td>Public_Transportation</td>\n",
       "    </tr>\n",
       "    <tr>\n",
       "      <th>4</th>\n",
       "      <td>20762</td>\n",
       "      <td>Female</td>\n",
       "      <td>26.000000</td>\n",
       "      <td>1.627396</td>\n",
       "      <td>104.835346</td>\n",
       "      <td>yes</td>\n",
       "      <td>yes</td>\n",
       "      <td>3.000000</td>\n",
       "      <td>3.000000</td>\n",
       "      <td>Sometimes</td>\n",
       "      <td>no</td>\n",
       "      <td>2.653531</td>\n",
       "      <td>no</td>\n",
       "      <td>0.000000</td>\n",
       "      <td>0.741069</td>\n",
       "      <td>Sometimes</td>\n",
       "      <td>Public_Transportation</td>\n",
       "    </tr>\n",
       "    <tr>\n",
       "      <th>...</th>\n",
       "      <td>...</td>\n",
       "      <td>...</td>\n",
       "      <td>...</td>\n",
       "      <td>...</td>\n",
       "      <td>...</td>\n",
       "      <td>...</td>\n",
       "      <td>...</td>\n",
       "      <td>...</td>\n",
       "      <td>...</td>\n",
       "      <td>...</td>\n",
       "      <td>...</td>\n",
       "      <td>...</td>\n",
       "      <td>...</td>\n",
       "      <td>...</td>\n",
       "      <td>...</td>\n",
       "      <td>...</td>\n",
       "      <td>...</td>\n",
       "    </tr>\n",
       "    <tr>\n",
       "      <th>13835</th>\n",
       "      <td>34593</td>\n",
       "      <td>Male</td>\n",
       "      <td>23.327836</td>\n",
       "      <td>1.721384</td>\n",
       "      <td>78.030383</td>\n",
       "      <td>yes</td>\n",
       "      <td>no</td>\n",
       "      <td>2.813234</td>\n",
       "      <td>3.000000</td>\n",
       "      <td>Sometimes</td>\n",
       "      <td>no</td>\n",
       "      <td>1.000000</td>\n",
       "      <td>no</td>\n",
       "      <td>0.807076</td>\n",
       "      <td>0.778632</td>\n",
       "      <td>Sometimes</td>\n",
       "      <td>Public_Transportation</td>\n",
       "    </tr>\n",
       "    <tr>\n",
       "      <th>13836</th>\n",
       "      <td>34594</td>\n",
       "      <td>Female</td>\n",
       "      <td>29.000000</td>\n",
       "      <td>1.590000</td>\n",
       "      <td>62.000000</td>\n",
       "      <td>no</td>\n",
       "      <td>yes</td>\n",
       "      <td>3.000000</td>\n",
       "      <td>3.000000</td>\n",
       "      <td>Sometimes</td>\n",
       "      <td>no</td>\n",
       "      <td>2.000000</td>\n",
       "      <td>no</td>\n",
       "      <td>0.000000</td>\n",
       "      <td>0.000000</td>\n",
       "      <td>Sometimes</td>\n",
       "      <td>Public_Transportation</td>\n",
       "    </tr>\n",
       "    <tr>\n",
       "      <th>13837</th>\n",
       "      <td>34595</td>\n",
       "      <td>Female</td>\n",
       "      <td>22.935612</td>\n",
       "      <td>1.585547</td>\n",
       "      <td>44.376637</td>\n",
       "      <td>no</td>\n",
       "      <td>yes</td>\n",
       "      <td>3.000000</td>\n",
       "      <td>2.273740</td>\n",
       "      <td>Frequently</td>\n",
       "      <td>no</td>\n",
       "      <td>2.000000</td>\n",
       "      <td>no</td>\n",
       "      <td>1.949840</td>\n",
       "      <td>1.000000</td>\n",
       "      <td>Sometimes</td>\n",
       "      <td>Public_Transportation</td>\n",
       "    </tr>\n",
       "    <tr>\n",
       "      <th>13838</th>\n",
       "      <td>34596</td>\n",
       "      <td>Male</td>\n",
       "      <td>21.000000</td>\n",
       "      <td>1.620000</td>\n",
       "      <td>53.000000</td>\n",
       "      <td>yes</td>\n",
       "      <td>yes</td>\n",
       "      <td>2.000000</td>\n",
       "      <td>3.000000</td>\n",
       "      <td>Sometimes</td>\n",
       "      <td>no</td>\n",
       "      <td>2.000000</td>\n",
       "      <td>no</td>\n",
       "      <td>3.000000</td>\n",
       "      <td>2.000000</td>\n",
       "      <td>no</td>\n",
       "      <td>Public_Transportation</td>\n",
       "    </tr>\n",
       "    <tr>\n",
       "      <th>13839</th>\n",
       "      <td>34597</td>\n",
       "      <td>Male</td>\n",
       "      <td>26.490926</td>\n",
       "      <td>1.812259</td>\n",
       "      <td>120.980508</td>\n",
       "      <td>yes</td>\n",
       "      <td>yes</td>\n",
       "      <td>2.744994</td>\n",
       "      <td>3.000000</td>\n",
       "      <td>Sometimes</td>\n",
       "      <td>no</td>\n",
       "      <td>2.205977</td>\n",
       "      <td>no</td>\n",
       "      <td>1.304291</td>\n",
       "      <td>0.630866</td>\n",
       "      <td>Sometimes</td>\n",
       "      <td>Public_Transportation</td>\n",
       "    </tr>\n",
       "  </tbody>\n",
       "</table>\n",
       "<p>13840 rows × 17 columns</p>\n",
       "</div>"
      ],
      "text/plain": [
       "          id  Gender        Age    Height      Weight  \\\n",
       "0      20758    Male  26.899886  1.848294  120.644178   \n",
       "1      20759  Female  21.000000  1.600000   66.000000   \n",
       "2      20760  Female  26.000000  1.643355  111.600553   \n",
       "3      20761    Male  20.979254  1.553127  103.669116   \n",
       "4      20762  Female  26.000000  1.627396  104.835346   \n",
       "...      ...     ...        ...       ...         ...   \n",
       "13835  34593    Male  23.327836  1.721384   78.030383   \n",
       "13836  34594  Female  29.000000  1.590000   62.000000   \n",
       "13837  34595  Female  22.935612  1.585547   44.376637   \n",
       "13838  34596    Male  21.000000  1.620000   53.000000   \n",
       "13839  34597    Male  26.490926  1.812259  120.980508   \n",
       "\n",
       "      family_history_with_overweight FAVC      FCVC       NCP        CAEC  \\\n",
       "0                                yes  yes  2.938616  3.000000   Sometimes   \n",
       "1                                yes  yes  2.000000  1.000000   Sometimes   \n",
       "2                                yes  yes  3.000000  3.000000   Sometimes   \n",
       "3                                yes  yes  2.000000  2.977909   Sometimes   \n",
       "4                                yes  yes  3.000000  3.000000   Sometimes   \n",
       "...                              ...  ...       ...       ...         ...   \n",
       "13835                            yes   no  2.813234  3.000000   Sometimes   \n",
       "13836                             no  yes  3.000000  3.000000   Sometimes   \n",
       "13837                             no  yes  3.000000  2.273740  Frequently   \n",
       "13838                            yes  yes  2.000000  3.000000   Sometimes   \n",
       "13839                            yes  yes  2.744994  3.000000   Sometimes   \n",
       "\n",
       "      SMOKE      CH2O SCC       FAF       TUE       CALC  \\\n",
       "0        no  2.825629  no  0.855400  0.000000  Sometimes   \n",
       "1        no  3.000000  no  1.000000  0.000000  Sometimes   \n",
       "2        no  2.621877  no  0.000000  0.250502  Sometimes   \n",
       "3        no  2.786417  no  0.094851  0.000000  Sometimes   \n",
       "4        no  2.653531  no  0.000000  0.741069  Sometimes   \n",
       "...     ...       ...  ..       ...       ...        ...   \n",
       "13835    no  1.000000  no  0.807076  0.778632  Sometimes   \n",
       "13836    no  2.000000  no  0.000000  0.000000  Sometimes   \n",
       "13837    no  2.000000  no  1.949840  1.000000  Sometimes   \n",
       "13838    no  2.000000  no  3.000000  2.000000         no   \n",
       "13839    no  2.205977  no  1.304291  0.630866  Sometimes   \n",
       "\n",
       "                      MTRANS  \n",
       "0      Public_Transportation  \n",
       "1      Public_Transportation  \n",
       "2      Public_Transportation  \n",
       "3      Public_Transportation  \n",
       "4      Public_Transportation  \n",
       "...                      ...  \n",
       "13835  Public_Transportation  \n",
       "13836  Public_Transportation  \n",
       "13837  Public_Transportation  \n",
       "13838  Public_Transportation  \n",
       "13839  Public_Transportation  \n",
       "\n",
       "[13840 rows x 17 columns]"
      ]
     },
     "execution_count": 42,
     "metadata": {},
     "output_type": "execute_result"
    }
   ],
   "source": [
    "test_data"
   ]
  },
  {
   "cell_type": "code",
   "execution_count": 43,
   "id": "88da3776",
   "metadata": {
    "execution": {
     "iopub.execute_input": "2024-02-08T15:37:37.858189Z",
     "iopub.status.busy": "2024-02-08T15:37:37.857448Z",
     "iopub.status.idle": "2024-02-08T15:37:37.864414Z",
     "shell.execute_reply": "2024-02-08T15:37:37.862977Z"
    },
    "papermill": {
     "duration": 0.040656,
     "end_time": "2024-02-08T15:37:37.867579",
     "exception": false,
     "start_time": "2024-02-08T15:37:37.826923",
     "status": "completed"
    },
    "tags": []
   },
   "outputs": [],
   "source": [
    "test_df=test_data[features]"
   ]
  },
  {
   "cell_type": "code",
   "execution_count": 44,
   "id": "66cc39f7",
   "metadata": {
    "execution": {
     "iopub.execute_input": "2024-02-08T15:37:37.927860Z",
     "iopub.status.busy": "2024-02-08T15:37:37.927458Z",
     "iopub.status.idle": "2024-02-08T15:37:37.957484Z",
     "shell.execute_reply": "2024-02-08T15:37:37.955822Z"
    },
    "papermill": {
     "duration": 0.065702,
     "end_time": "2024-02-08T15:37:37.960808",
     "exception": false,
     "start_time": "2024-02-08T15:37:37.895106",
     "status": "completed"
    },
    "tags": []
   },
   "outputs": [
    {
     "data": {
      "text/html": [
       "<div>\n",
       "<style scoped>\n",
       "    .dataframe tbody tr th:only-of-type {\n",
       "        vertical-align: middle;\n",
       "    }\n",
       "\n",
       "    .dataframe tbody tr th {\n",
       "        vertical-align: top;\n",
       "    }\n",
       "\n",
       "    .dataframe thead th {\n",
       "        text-align: right;\n",
       "    }\n",
       "</style>\n",
       "<table border=\"1\" class=\"dataframe\">\n",
       "  <thead>\n",
       "    <tr style=\"text-align: right;\">\n",
       "      <th></th>\n",
       "      <th>Age</th>\n",
       "      <th>Height</th>\n",
       "      <th>Weight</th>\n",
       "      <th>FCVC</th>\n",
       "      <th>NCP</th>\n",
       "      <th>CH2O</th>\n",
       "      <th>FAF</th>\n",
       "      <th>TUE</th>\n",
       "      <th>Gender</th>\n",
       "      <th>family_history_with_overweight</th>\n",
       "      <th>FAVC</th>\n",
       "      <th>SMOKE</th>\n",
       "      <th>SCC</th>\n",
       "      <th>CALC</th>\n",
       "    </tr>\n",
       "  </thead>\n",
       "  <tbody>\n",
       "    <tr>\n",
       "      <th>0</th>\n",
       "      <td>26.899886</td>\n",
       "      <td>1.848294</td>\n",
       "      <td>120.644178</td>\n",
       "      <td>2.938616</td>\n",
       "      <td>3.000000</td>\n",
       "      <td>2.825629</td>\n",
       "      <td>0.855400</td>\n",
       "      <td>0.000000</td>\n",
       "      <td>Male</td>\n",
       "      <td>yes</td>\n",
       "      <td>yes</td>\n",
       "      <td>no</td>\n",
       "      <td>no</td>\n",
       "      <td>Sometimes</td>\n",
       "    </tr>\n",
       "    <tr>\n",
       "      <th>1</th>\n",
       "      <td>21.000000</td>\n",
       "      <td>1.600000</td>\n",
       "      <td>66.000000</td>\n",
       "      <td>2.000000</td>\n",
       "      <td>1.000000</td>\n",
       "      <td>3.000000</td>\n",
       "      <td>1.000000</td>\n",
       "      <td>0.000000</td>\n",
       "      <td>Female</td>\n",
       "      <td>yes</td>\n",
       "      <td>yes</td>\n",
       "      <td>no</td>\n",
       "      <td>no</td>\n",
       "      <td>Sometimes</td>\n",
       "    </tr>\n",
       "    <tr>\n",
       "      <th>2</th>\n",
       "      <td>26.000000</td>\n",
       "      <td>1.643355</td>\n",
       "      <td>111.600553</td>\n",
       "      <td>3.000000</td>\n",
       "      <td>3.000000</td>\n",
       "      <td>2.621877</td>\n",
       "      <td>0.000000</td>\n",
       "      <td>0.250502</td>\n",
       "      <td>Female</td>\n",
       "      <td>yes</td>\n",
       "      <td>yes</td>\n",
       "      <td>no</td>\n",
       "      <td>no</td>\n",
       "      <td>Sometimes</td>\n",
       "    </tr>\n",
       "    <tr>\n",
       "      <th>3</th>\n",
       "      <td>20.979254</td>\n",
       "      <td>1.553127</td>\n",
       "      <td>103.669116</td>\n",
       "      <td>2.000000</td>\n",
       "      <td>2.977909</td>\n",
       "      <td>2.786417</td>\n",
       "      <td>0.094851</td>\n",
       "      <td>0.000000</td>\n",
       "      <td>Male</td>\n",
       "      <td>yes</td>\n",
       "      <td>yes</td>\n",
       "      <td>no</td>\n",
       "      <td>no</td>\n",
       "      <td>Sometimes</td>\n",
       "    </tr>\n",
       "    <tr>\n",
       "      <th>4</th>\n",
       "      <td>26.000000</td>\n",
       "      <td>1.627396</td>\n",
       "      <td>104.835346</td>\n",
       "      <td>3.000000</td>\n",
       "      <td>3.000000</td>\n",
       "      <td>2.653531</td>\n",
       "      <td>0.000000</td>\n",
       "      <td>0.741069</td>\n",
       "      <td>Female</td>\n",
       "      <td>yes</td>\n",
       "      <td>yes</td>\n",
       "      <td>no</td>\n",
       "      <td>no</td>\n",
       "      <td>Sometimes</td>\n",
       "    </tr>\n",
       "    <tr>\n",
       "      <th>...</th>\n",
       "      <td>...</td>\n",
       "      <td>...</td>\n",
       "      <td>...</td>\n",
       "      <td>...</td>\n",
       "      <td>...</td>\n",
       "      <td>...</td>\n",
       "      <td>...</td>\n",
       "      <td>...</td>\n",
       "      <td>...</td>\n",
       "      <td>...</td>\n",
       "      <td>...</td>\n",
       "      <td>...</td>\n",
       "      <td>...</td>\n",
       "      <td>...</td>\n",
       "    </tr>\n",
       "    <tr>\n",
       "      <th>13835</th>\n",
       "      <td>23.327836</td>\n",
       "      <td>1.721384</td>\n",
       "      <td>78.030383</td>\n",
       "      <td>2.813234</td>\n",
       "      <td>3.000000</td>\n",
       "      <td>1.000000</td>\n",
       "      <td>0.807076</td>\n",
       "      <td>0.778632</td>\n",
       "      <td>Male</td>\n",
       "      <td>yes</td>\n",
       "      <td>no</td>\n",
       "      <td>no</td>\n",
       "      <td>no</td>\n",
       "      <td>Sometimes</td>\n",
       "    </tr>\n",
       "    <tr>\n",
       "      <th>13836</th>\n",
       "      <td>29.000000</td>\n",
       "      <td>1.590000</td>\n",
       "      <td>62.000000</td>\n",
       "      <td>3.000000</td>\n",
       "      <td>3.000000</td>\n",
       "      <td>2.000000</td>\n",
       "      <td>0.000000</td>\n",
       "      <td>0.000000</td>\n",
       "      <td>Female</td>\n",
       "      <td>no</td>\n",
       "      <td>yes</td>\n",
       "      <td>no</td>\n",
       "      <td>no</td>\n",
       "      <td>Sometimes</td>\n",
       "    </tr>\n",
       "    <tr>\n",
       "      <th>13837</th>\n",
       "      <td>22.935612</td>\n",
       "      <td>1.585547</td>\n",
       "      <td>44.376637</td>\n",
       "      <td>3.000000</td>\n",
       "      <td>2.273740</td>\n",
       "      <td>2.000000</td>\n",
       "      <td>1.949840</td>\n",
       "      <td>1.000000</td>\n",
       "      <td>Female</td>\n",
       "      <td>no</td>\n",
       "      <td>yes</td>\n",
       "      <td>no</td>\n",
       "      <td>no</td>\n",
       "      <td>Sometimes</td>\n",
       "    </tr>\n",
       "    <tr>\n",
       "      <th>13838</th>\n",
       "      <td>21.000000</td>\n",
       "      <td>1.620000</td>\n",
       "      <td>53.000000</td>\n",
       "      <td>2.000000</td>\n",
       "      <td>3.000000</td>\n",
       "      <td>2.000000</td>\n",
       "      <td>3.000000</td>\n",
       "      <td>2.000000</td>\n",
       "      <td>Male</td>\n",
       "      <td>yes</td>\n",
       "      <td>yes</td>\n",
       "      <td>no</td>\n",
       "      <td>no</td>\n",
       "      <td>no</td>\n",
       "    </tr>\n",
       "    <tr>\n",
       "      <th>13839</th>\n",
       "      <td>26.490926</td>\n",
       "      <td>1.812259</td>\n",
       "      <td>120.980508</td>\n",
       "      <td>2.744994</td>\n",
       "      <td>3.000000</td>\n",
       "      <td>2.205977</td>\n",
       "      <td>1.304291</td>\n",
       "      <td>0.630866</td>\n",
       "      <td>Male</td>\n",
       "      <td>yes</td>\n",
       "      <td>yes</td>\n",
       "      <td>no</td>\n",
       "      <td>no</td>\n",
       "      <td>Sometimes</td>\n",
       "    </tr>\n",
       "  </tbody>\n",
       "</table>\n",
       "<p>13840 rows × 14 columns</p>\n",
       "</div>"
      ],
      "text/plain": [
       "             Age    Height      Weight      FCVC       NCP      CH2O  \\\n",
       "0      26.899886  1.848294  120.644178  2.938616  3.000000  2.825629   \n",
       "1      21.000000  1.600000   66.000000  2.000000  1.000000  3.000000   \n",
       "2      26.000000  1.643355  111.600553  3.000000  3.000000  2.621877   \n",
       "3      20.979254  1.553127  103.669116  2.000000  2.977909  2.786417   \n",
       "4      26.000000  1.627396  104.835346  3.000000  3.000000  2.653531   \n",
       "...          ...       ...         ...       ...       ...       ...   \n",
       "13835  23.327836  1.721384   78.030383  2.813234  3.000000  1.000000   \n",
       "13836  29.000000  1.590000   62.000000  3.000000  3.000000  2.000000   \n",
       "13837  22.935612  1.585547   44.376637  3.000000  2.273740  2.000000   \n",
       "13838  21.000000  1.620000   53.000000  2.000000  3.000000  2.000000   \n",
       "13839  26.490926  1.812259  120.980508  2.744994  3.000000  2.205977   \n",
       "\n",
       "            FAF       TUE  Gender family_history_with_overweight FAVC SMOKE  \\\n",
       "0      0.855400  0.000000    Male                            yes  yes    no   \n",
       "1      1.000000  0.000000  Female                            yes  yes    no   \n",
       "2      0.000000  0.250502  Female                            yes  yes    no   \n",
       "3      0.094851  0.000000    Male                            yes  yes    no   \n",
       "4      0.000000  0.741069  Female                            yes  yes    no   \n",
       "...         ...       ...     ...                            ...  ...   ...   \n",
       "13835  0.807076  0.778632    Male                            yes   no    no   \n",
       "13836  0.000000  0.000000  Female                             no  yes    no   \n",
       "13837  1.949840  1.000000  Female                             no  yes    no   \n",
       "13838  3.000000  2.000000    Male                            yes  yes    no   \n",
       "13839  1.304291  0.630866    Male                            yes  yes    no   \n",
       "\n",
       "      SCC       CALC  \n",
       "0      no  Sometimes  \n",
       "1      no  Sometimes  \n",
       "2      no  Sometimes  \n",
       "3      no  Sometimes  \n",
       "4      no  Sometimes  \n",
       "...    ..        ...  \n",
       "13835  no  Sometimes  \n",
       "13836  no  Sometimes  \n",
       "13837  no  Sometimes  \n",
       "13838  no         no  \n",
       "13839  no  Sometimes  \n",
       "\n",
       "[13840 rows x 14 columns]"
      ]
     },
     "execution_count": 44,
     "metadata": {},
     "output_type": "execute_result"
    }
   ],
   "source": [
    "test_df"
   ]
  },
  {
   "cell_type": "code",
   "execution_count": 45,
   "id": "3d387f0e",
   "metadata": {
    "execution": {
     "iopub.execute_input": "2024-02-08T15:37:38.024525Z",
     "iopub.status.busy": "2024-02-08T15:37:38.024127Z",
     "iopub.status.idle": "2024-02-08T15:37:38.049698Z",
     "shell.execute_reply": "2024-02-08T15:37:38.047662Z"
    },
    "papermill": {
     "duration": 0.063637,
     "end_time": "2024-02-08T15:37:38.053769",
     "exception": false,
     "start_time": "2024-02-08T15:37:37.990132",
     "status": "completed"
    },
    "tags": []
   },
   "outputs": [],
   "source": [
    "test_df=pd.get_dummies(test_df)"
   ]
  },
  {
   "cell_type": "code",
   "execution_count": 46,
   "id": "c404f0b8",
   "metadata": {
    "execution": {
     "iopub.execute_input": "2024-02-08T15:37:38.111770Z",
     "iopub.status.busy": "2024-02-08T15:37:38.111372Z",
     "iopub.status.idle": "2024-02-08T15:37:38.118668Z",
     "shell.execute_reply": "2024-02-08T15:37:38.117512Z"
    },
    "papermill": {
     "duration": 0.039175,
     "end_time": "2024-02-08T15:37:38.120882",
     "exception": false,
     "start_time": "2024-02-08T15:37:38.081707",
     "status": "completed"
    },
    "tags": []
   },
   "outputs": [
    {
     "data": {
      "text/plain": [
       "(18682, 21)"
      ]
     },
     "execution_count": 46,
     "metadata": {},
     "output_type": "execute_result"
    }
   ],
   "source": [
    "xtrain.shape"
   ]
  },
  {
   "cell_type": "code",
   "execution_count": 47,
   "id": "cf206987",
   "metadata": {
    "execution": {
     "iopub.execute_input": "2024-02-08T15:37:38.182802Z",
     "iopub.status.busy": "2024-02-08T15:37:38.182380Z",
     "iopub.status.idle": "2024-02-08T15:37:38.195184Z",
     "shell.execute_reply": "2024-02-08T15:37:38.193615Z"
    },
    "papermill": {
     "duration": 0.047255,
     "end_time": "2024-02-08T15:37:38.198171",
     "exception": false,
     "start_time": "2024-02-08T15:37:38.150916",
     "status": "completed"
    },
    "tags": []
   },
   "outputs": [
    {
     "data": {
      "text/plain": [
       "(13840, 22)"
      ]
     },
     "execution_count": 47,
     "metadata": {},
     "output_type": "execute_result"
    }
   ],
   "source": [
    "test_df.shape"
   ]
  },
  {
   "cell_type": "code",
   "execution_count": 48,
   "id": "012fd2c9",
   "metadata": {
    "execution": {
     "iopub.execute_input": "2024-02-08T15:37:38.259562Z",
     "iopub.status.busy": "2024-02-08T15:37:38.259131Z",
     "iopub.status.idle": "2024-02-08T15:37:38.604903Z",
     "shell.execute_reply": "2024-02-08T15:37:38.603384Z"
    },
    "papermill": {
     "duration": 0.380192,
     "end_time": "2024-02-08T15:37:38.607892",
     "exception": false,
     "start_time": "2024-02-08T15:37:38.227700",
     "status": "completed"
    },
    "tags": []
   },
   "outputs": [],
   "source": [
    "if 'CALC_Always' in test_df.columns:\n",
    "    test_df.drop('CALC_Always', axis=1, inplace=True)\n",
    "test_pred = model.predict(test_df)"
   ]
  },
  {
   "cell_type": "code",
   "execution_count": 49,
   "id": "b285ad3d",
   "metadata": {
    "execution": {
     "iopub.execute_input": "2024-02-08T15:37:38.669998Z",
     "iopub.status.busy": "2024-02-08T15:37:38.669597Z",
     "iopub.status.idle": "2024-02-08T15:37:40.481363Z",
     "shell.execute_reply": "2024-02-08T15:37:40.479971Z"
    },
    "papermill": {
     "duration": 1.845777,
     "end_time": "2024-02-08T15:37:40.484249",
     "exception": false,
     "start_time": "2024-02-08T15:37:38.638472",
     "status": "completed"
    },
    "tags": []
   },
   "outputs": [
    {
     "name": "stdout",
     "output_type": "stream",
     "text": [
      "[LightGBM] [Warning] Accuracy may be bad since you didn't explicitly set num_leaves OR 2^max_depth > num_leaves. (num_leaves=31).\n"
     ]
    }
   ],
   "source": [
    "prediction=rfmodel.predict(test_df)\n",
    "prediction1=dmodel.predict(test_df)\n",
    "prediction2=lgmodel.predict(test_df)\n",
    "prediction3=xgbmodel.predict(test_df)\n",
    "prediction4=lgbmmodel.predict(test_df)"
   ]
  },
  {
   "cell_type": "code",
   "execution_count": 50,
   "id": "c7ce2331",
   "metadata": {
    "execution": {
     "iopub.execute_input": "2024-02-08T15:37:40.545578Z",
     "iopub.status.busy": "2024-02-08T15:37:40.545168Z",
     "iopub.status.idle": "2024-02-08T15:37:40.554523Z",
     "shell.execute_reply": "2024-02-08T15:37:40.552828Z"
    },
    "papermill": {
     "duration": 0.043117,
     "end_time": "2024-02-08T15:37:40.557052",
     "exception": false,
     "start_time": "2024-02-08T15:37:40.513935",
     "status": "completed"
    },
    "tags": []
   },
   "outputs": [
    {
     "data": {
      "text/plain": [
       "[array([1, 5, 3, ..., 6, 4, 1]),\n",
       " array([1, 5, 3, ..., 6, 4, 1]),\n",
       " array([1, 5, 3, ..., 6, 6, 1]),\n",
       " array([1, 5, 3, ..., 6, 4, 1]),\n",
       " array([1, 5, 3, ..., 6, 4, 1])]"
      ]
     },
     "execution_count": 50,
     "metadata": {},
     "output_type": "execute_result"
    }
   ],
   "source": [
    "predictions=[prediction,\n",
    "prediction1,\n",
    "prediction2,\n",
    "prediction3,\n",
    "prediction4]\n",
    "predictions"
   ]
  },
  {
   "cell_type": "code",
   "execution_count": 51,
   "id": "f4a29a2e",
   "metadata": {
    "execution": {
     "iopub.execute_input": "2024-02-08T15:37:40.617088Z",
     "iopub.status.busy": "2024-02-08T15:37:40.616702Z",
     "iopub.status.idle": "2024-02-08T15:37:40.666000Z",
     "shell.execute_reply": "2024-02-08T15:37:40.664716Z"
    },
    "papermill": {
     "duration": 0.082301,
     "end_time": "2024-02-08T15:37:40.668704",
     "exception": false,
     "start_time": "2024-02-08T15:37:40.586403",
     "status": "completed"
    },
    "tags": []
   },
   "outputs": [
    {
     "name": "stdout",
     "output_type": "stream",
     "text": [
      "['Obesity_Type_II' 'Overweight_Level_I' 'Obesity_Type_III' ...\n",
      " 'Insufficient_Weight' 'Normal_Weight' 'Obesity_Type_II']\n",
      "['Obesity_Type_II' 'Overweight_Level_I' 'Obesity_Type_III' ...\n",
      " 'Insufficient_Weight' 'Normal_Weight' 'Obesity_Type_II']\n",
      "['Obesity_Type_II' 'Overweight_Level_I' 'Obesity_Type_III' ...\n",
      " 'Insufficient_Weight' 'Insufficient_Weight' 'Obesity_Type_II']\n",
      "['Obesity_Type_II' 'Overweight_Level_I' 'Obesity_Type_III' ...\n",
      " 'Insufficient_Weight' 'Normal_Weight' 'Obesity_Type_II']\n",
      "['Obesity_Type_II' 'Overweight_Level_I' 'Obesity_Type_III' ...\n",
      " 'Insufficient_Weight' 'Normal_Weight' 'Obesity_Type_II']\n"
     ]
    }
   ],
   "source": [
    "\n",
    "categories =['Overweight_Level_II', 'Obesity_Type_II', 'Obesity_Type_I',\n",
    "       'Obesity_Type_III', 'Normal_Weight', 'Overweight_Level_I',\n",
    "       'Insufficient_Weight']\n",
    "\n",
    "def map_to_categorical(numerical):\n",
    "    return categories[numerical]\n",
    "\n",
    "for i in range(len(predictions)):\n",
    "    numerical_array = predictions[i]\n",
    "    predictions[i] = np.vectorize(map_to_categorical)(numerical_array)\n",
    "    print(predictions[i])"
   ]
  },
  {
   "cell_type": "code",
   "execution_count": 52,
   "id": "ed728778",
   "metadata": {
    "execution": {
     "iopub.execute_input": "2024-02-08T15:37:40.730398Z",
     "iopub.status.busy": "2024-02-08T15:37:40.729993Z",
     "iopub.status.idle": "2024-02-08T15:37:40.744616Z",
     "shell.execute_reply": "2024-02-08T15:37:40.742820Z"
    },
    "papermill": {
     "duration": 0.049783,
     "end_time": "2024-02-08T15:37:40.747756",
     "exception": false,
     "start_time": "2024-02-08T15:37:40.697973",
     "status": "completed"
    },
    "tags": []
   },
   "outputs": [
    {
     "data": {
      "text/plain": [
       "[array(['Obesity_Type_II', 'Overweight_Level_I', 'Obesity_Type_III', ...,\n",
       "        'Insufficient_Weight', 'Normal_Weight', 'Obesity_Type_II'],\n",
       "       dtype='<U19'),\n",
       " array(['Obesity_Type_II', 'Overweight_Level_I', 'Obesity_Type_III', ...,\n",
       "        'Insufficient_Weight', 'Normal_Weight', 'Obesity_Type_II'],\n",
       "       dtype='<U19'),\n",
       " array(['Obesity_Type_II', 'Overweight_Level_I', 'Obesity_Type_III', ...,\n",
       "        'Insufficient_Weight', 'Insufficient_Weight', 'Obesity_Type_II'],\n",
       "       dtype='<U19'),\n",
       " array(['Obesity_Type_II', 'Overweight_Level_I', 'Obesity_Type_III', ...,\n",
       "        'Insufficient_Weight', 'Normal_Weight', 'Obesity_Type_II'],\n",
       "       dtype='<U19'),\n",
       " array(['Obesity_Type_II', 'Overweight_Level_I', 'Obesity_Type_III', ...,\n",
       "        'Insufficient_Weight', 'Normal_Weight', 'Obesity_Type_II'],\n",
       "       dtype='<U19')]"
      ]
     },
     "execution_count": 52,
     "metadata": {},
     "output_type": "execute_result"
    }
   ],
   "source": [
    "predictions"
   ]
  },
  {
   "cell_type": "code",
   "execution_count": 53,
   "id": "1a7ce8cb",
   "metadata": {
    "execution": {
     "iopub.execute_input": "2024-02-08T15:37:40.810044Z",
     "iopub.status.busy": "2024-02-08T15:37:40.809652Z",
     "iopub.status.idle": "2024-02-08T15:37:40.832071Z",
     "shell.execute_reply": "2024-02-08T15:37:40.830675Z"
    },
    "papermill": {
     "duration": 0.055907,
     "end_time": "2024-02-08T15:37:40.835167",
     "exception": false,
     "start_time": "2024-02-08T15:37:40.779260",
     "status": "completed"
    },
    "tags": []
   },
   "outputs": [],
   "source": [
    "result=pd.DataFrame({'id': test_data['id'], 'NObeyesdad': predictions[0]})\n",
    "result1=pd.DataFrame({'id': test_data['id'], 'NObeyesdad': predictions[1]})\n",
    "result2=pd.DataFrame({'id': test_data['id'], 'NObeyesdad': predictions[2]})\n",
    "result3=pd.DataFrame({'id': test_data['id'], 'NObeyesdad': predictions[3]})\n",
    "result4=pd.DataFrame({'id': test_data['id'], 'NObeyesdad': predictions[4]})"
   ]
  },
  {
   "cell_type": "code",
   "execution_count": 54,
   "id": "9d3293a6",
   "metadata": {
    "execution": {
     "iopub.execute_input": "2024-02-08T15:37:40.897386Z",
     "iopub.status.busy": "2024-02-08T15:37:40.896981Z",
     "iopub.status.idle": "2024-02-08T15:37:40.912690Z",
     "shell.execute_reply": "2024-02-08T15:37:40.911630Z"
    },
    "papermill": {
     "duration": 0.051404,
     "end_time": "2024-02-08T15:37:40.915556",
     "exception": false,
     "start_time": "2024-02-08T15:37:40.864152",
     "status": "completed"
    },
    "tags": []
   },
   "outputs": [
    {
     "data": {
      "text/html": [
       "<div>\n",
       "<style scoped>\n",
       "    .dataframe tbody tr th:only-of-type {\n",
       "        vertical-align: middle;\n",
       "    }\n",
       "\n",
       "    .dataframe tbody tr th {\n",
       "        vertical-align: top;\n",
       "    }\n",
       "\n",
       "    .dataframe thead th {\n",
       "        text-align: right;\n",
       "    }\n",
       "</style>\n",
       "<table border=\"1\" class=\"dataframe\">\n",
       "  <thead>\n",
       "    <tr style=\"text-align: right;\">\n",
       "      <th></th>\n",
       "      <th>id</th>\n",
       "      <th>NObeyesdad</th>\n",
       "    </tr>\n",
       "  </thead>\n",
       "  <tbody>\n",
       "    <tr>\n",
       "      <th>0</th>\n",
       "      <td>20758</td>\n",
       "      <td>Obesity_Type_II</td>\n",
       "    </tr>\n",
       "    <tr>\n",
       "      <th>1</th>\n",
       "      <td>20759</td>\n",
       "      <td>Overweight_Level_I</td>\n",
       "    </tr>\n",
       "    <tr>\n",
       "      <th>2</th>\n",
       "      <td>20760</td>\n",
       "      <td>Obesity_Type_III</td>\n",
       "    </tr>\n",
       "    <tr>\n",
       "      <th>3</th>\n",
       "      <td>20761</td>\n",
       "      <td>Obesity_Type_I</td>\n",
       "    </tr>\n",
       "    <tr>\n",
       "      <th>4</th>\n",
       "      <td>20762</td>\n",
       "      <td>Obesity_Type_III</td>\n",
       "    </tr>\n",
       "    <tr>\n",
       "      <th>...</th>\n",
       "      <td>...</td>\n",
       "      <td>...</td>\n",
       "    </tr>\n",
       "    <tr>\n",
       "      <th>13835</th>\n",
       "      <td>34593</td>\n",
       "      <td>Overweight_Level_II</td>\n",
       "    </tr>\n",
       "    <tr>\n",
       "      <th>13836</th>\n",
       "      <td>34594</td>\n",
       "      <td>Overweight_Level_I</td>\n",
       "    </tr>\n",
       "    <tr>\n",
       "      <th>13837</th>\n",
       "      <td>34595</td>\n",
       "      <td>Insufficient_Weight</td>\n",
       "    </tr>\n",
       "    <tr>\n",
       "      <th>13838</th>\n",
       "      <td>34596</td>\n",
       "      <td>Normal_Weight</td>\n",
       "    </tr>\n",
       "    <tr>\n",
       "      <th>13839</th>\n",
       "      <td>34597</td>\n",
       "      <td>Obesity_Type_II</td>\n",
       "    </tr>\n",
       "  </tbody>\n",
       "</table>\n",
       "<p>13840 rows × 2 columns</p>\n",
       "</div>"
      ],
      "text/plain": [
       "          id           NObeyesdad\n",
       "0      20758      Obesity_Type_II\n",
       "1      20759   Overweight_Level_I\n",
       "2      20760     Obesity_Type_III\n",
       "3      20761       Obesity_Type_I\n",
       "4      20762     Obesity_Type_III\n",
       "...      ...                  ...\n",
       "13835  34593  Overweight_Level_II\n",
       "13836  34594   Overweight_Level_I\n",
       "13837  34595  Insufficient_Weight\n",
       "13838  34596        Normal_Weight\n",
       "13839  34597      Obesity_Type_II\n",
       "\n",
       "[13840 rows x 2 columns]"
      ]
     },
     "execution_count": 54,
     "metadata": {},
     "output_type": "execute_result"
    }
   ],
   "source": [
    "result"
   ]
  },
  {
   "cell_type": "code",
   "execution_count": 55,
   "id": "1ba9745c",
   "metadata": {
    "execution": {
     "iopub.execute_input": "2024-02-08T15:37:40.978012Z",
     "iopub.status.busy": "2024-02-08T15:37:40.977608Z",
     "iopub.status.idle": "2024-02-08T15:37:41.138343Z",
     "shell.execute_reply": "2024-02-08T15:37:41.136900Z"
    },
    "papermill": {
     "duration": 0.195414,
     "end_time": "2024-02-08T15:37:41.141251",
     "exception": false,
     "start_time": "2024-02-08T15:37:40.945837",
     "status": "completed"
    },
    "tags": []
   },
   "outputs": [],
   "source": [
    "result.to_csv('mysub.csv', index=False)\n",
    "result1.to_csv('mysub1.csv', index=False)\n",
    "result2.to_csv('mysub2.csv', index=False)\n",
    "result3.to_csv('mysub3.csv', index=False)\n",
    "result4.to_csv('mysub4.csv', index=False)"
   ]
  },
  {
   "cell_type": "code",
   "execution_count": 56,
   "id": "7b4539df",
   "metadata": {
    "execution": {
     "iopub.execute_input": "2024-02-08T15:37:41.204350Z",
     "iopub.status.busy": "2024-02-08T15:37:41.203491Z",
     "iopub.status.idle": "2024-02-08T15:37:41.220999Z",
     "shell.execute_reply": "2024-02-08T15:37:41.219630Z"
    },
    "papermill": {
     "duration": 0.052237,
     "end_time": "2024-02-08T15:37:41.223875",
     "exception": false,
     "start_time": "2024-02-08T15:37:41.171638",
     "status": "completed"
    },
    "tags": []
   },
   "outputs": [
    {
     "name": "stdout",
     "output_type": "stream",
     "text": [
      "          id           NObeyesdad\n",
      "0      20758      Obesity_Type_II\n",
      "1      20759   Overweight_Level_I\n",
      "2      20760     Obesity_Type_III\n",
      "3      20761       Obesity_Type_I\n",
      "4      20762     Obesity_Type_III\n",
      "...      ...                  ...\n",
      "13835  34593  Overweight_Level_II\n",
      "13836  34594   Overweight_Level_I\n",
      "13837  34595  Insufficient_Weight\n",
      "13838  34596        Normal_Weight\n",
      "13839  34597      Obesity_Type_II\n",
      "\n",
      "[13840 rows x 2 columns]\n",
      "          id           NObeyesdad\n",
      "0      20758      Obesity_Type_II\n",
      "1      20759   Overweight_Level_I\n",
      "2      20760     Obesity_Type_III\n",
      "3      20761       Obesity_Type_I\n",
      "4      20762     Obesity_Type_III\n",
      "...      ...                  ...\n",
      "13835  34593  Overweight_Level_II\n",
      "13836  34594   Overweight_Level_I\n",
      "13837  34595  Insufficient_Weight\n",
      "13838  34596        Normal_Weight\n",
      "13839  34597      Obesity_Type_II\n",
      "\n",
      "[13840 rows x 2 columns]\n",
      "          id           NObeyesdad\n",
      "0      20758      Obesity_Type_II\n",
      "1      20759   Overweight_Level_I\n",
      "2      20760     Obesity_Type_III\n",
      "3      20761      Obesity_Type_II\n",
      "4      20762     Obesity_Type_III\n",
      "...      ...                  ...\n",
      "13835  34593  Overweight_Level_II\n",
      "13836  34594        Normal_Weight\n",
      "13837  34595  Insufficient_Weight\n",
      "13838  34596  Insufficient_Weight\n",
      "13839  34597      Obesity_Type_II\n",
      "\n",
      "[13840 rows x 2 columns]\n",
      "          id           NObeyesdad\n",
      "0      20758      Obesity_Type_II\n",
      "1      20759   Overweight_Level_I\n",
      "2      20760     Obesity_Type_III\n",
      "3      20761       Obesity_Type_I\n",
      "4      20762     Obesity_Type_III\n",
      "...      ...                  ...\n",
      "13835  34593  Overweight_Level_II\n",
      "13836  34594   Overweight_Level_I\n",
      "13837  34595  Insufficient_Weight\n",
      "13838  34596        Normal_Weight\n",
      "13839  34597      Obesity_Type_II\n",
      "\n",
      "[13840 rows x 2 columns]\n",
      "          id           NObeyesdad\n",
      "0      20758      Obesity_Type_II\n",
      "1      20759   Overweight_Level_I\n",
      "2      20760     Obesity_Type_III\n",
      "3      20761       Obesity_Type_I\n",
      "4      20762     Obesity_Type_III\n",
      "...      ...                  ...\n",
      "13835  34593  Overweight_Level_II\n",
      "13836  34594   Overweight_Level_I\n",
      "13837  34595  Insufficient_Weight\n",
      "13838  34596        Normal_Weight\n",
      "13839  34597      Obesity_Type_II\n",
      "\n",
      "[13840 rows x 2 columns]\n"
     ]
    }
   ],
   "source": [
    "print(result)\n",
    "print(result1)\n",
    "print(result2)\n",
    "print(result3)\n",
    "print(result4)"
   ]
  },
  {
   "cell_type": "code",
   "execution_count": null,
   "id": "cf92d23e",
   "metadata": {
    "papermill": {
     "duration": 0.030541,
     "end_time": "2024-02-08T15:37:41.285194",
     "exception": false,
     "start_time": "2024-02-08T15:37:41.254653",
     "status": "completed"
    },
    "tags": []
   },
   "outputs": [],
   "source": []
  }
 ],
 "metadata": {
  "kaggle": {
   "accelerator": "none",
   "dataSources": [
    {
     "databundleVersionId": 7609535,
     "sourceId": 68479,
     "sourceType": "competition"
    }
   ],
   "dockerImageVersionId": 30646,
   "isGpuEnabled": false,
   "isInternetEnabled": true,
   "language": "python",
   "sourceType": "notebook"
  },
  "kernelspec": {
   "display_name": "Python 3",
   "language": "python",
   "name": "python3"
  },
  "language_info": {
   "codemirror_mode": {
    "name": "ipython",
    "version": 3
   },
   "file_extension": ".py",
   "mimetype": "text/x-python",
   "name": "python",
   "nbconvert_exporter": "python",
   "pygments_lexer": "ipython3",
   "version": "3.10.13"
  },
  "papermill": {
   "default_parameters": {},
   "duration": 32.097436,
   "end_time": "2024-02-08T15:37:42.341025",
   "environment_variables": {},
   "exception": null,
   "input_path": "__notebook__.ipynb",
   "output_path": "__notebook__.ipynb",
   "parameters": {},
   "start_time": "2024-02-08T15:37:10.243589",
   "version": "2.5.0"
  }
 },
 "nbformat": 4,
 "nbformat_minor": 5
}
